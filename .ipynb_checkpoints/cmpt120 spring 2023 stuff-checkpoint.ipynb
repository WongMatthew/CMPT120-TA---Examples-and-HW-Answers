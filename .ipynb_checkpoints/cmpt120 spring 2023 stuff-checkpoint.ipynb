{
 "cells": [
  {
   "cell_type": "code",
   "execution_count": 21,
   "id": "171476f0",
   "metadata": {},
   "outputs": [],
   "source": [
    "# VARIABLES\n",
    "\n",
    "CohortName = \"AI4All-2021\" \n",
    "\n",
    "NumberofStudents = 100 \n",
    "AverageAge = 15.6\n",
    "\n",
    "# create a list of students \n",
    "AdditionalStudents = [3, 5, 7, 10, 20]\n",
    "\n",
    "# average age of the additional students each round\n",
    "AdditionalAverageAges = [17.0, 16.4, 14.3, 16.2, 15.2]"
   ]
  },
  {
   "cell_type": "code",
   "execution_count": 35,
   "id": "daa98ed9",
   "metadata": {},
   "outputs": [
    {
     "ename": "IndexError",
     "evalue": "list index out of range",
     "output_type": "error",
     "traceback": [
      "\u001b[1;31m---------------------------------------------------------------------------\u001b[0m",
      "\u001b[1;31mIndexError\u001b[0m                                Traceback (most recent call last)",
      "\u001b[1;32m<ipython-input-35-ec140acb63d6>\u001b[0m in \u001b[0;36m<module>\u001b[1;34m\u001b[0m\n\u001b[0;32m      2\u001b[0m \u001b[0mnewStudAge\u001b[0m \u001b[1;33m=\u001b[0m \u001b[1;36m0\u001b[0m\u001b[1;33m\u001b[0m\u001b[1;33m\u001b[0m\u001b[0m\n\u001b[0;32m      3\u001b[0m \u001b[1;32mfor\u001b[0m \u001b[0mi\u001b[0m \u001b[1;32min\u001b[0m \u001b[0mrange\u001b[0m\u001b[1;33m(\u001b[0m\u001b[0mlen\u001b[0m\u001b[1;33m(\u001b[0m\u001b[0mAdditionalAverageAges\u001b[0m\u001b[1;33m)\u001b[0m\u001b[1;33m)\u001b[0m\u001b[1;33m:\u001b[0m\u001b[1;33m\u001b[0m\u001b[1;33m\u001b[0m\u001b[0m\n\u001b[1;32m----> 4\u001b[1;33m     \u001b[0mx\u001b[0m \u001b[1;33m=\u001b[0m \u001b[0mAdditionalStudents\u001b[0m\u001b[1;33m[\u001b[0m\u001b[0mi\u001b[0m\u001b[1;33m]\u001b[0m\u001b[1;33m*\u001b[0m\u001b[0mAdditionalAverageAges\u001b[0m\u001b[1;33m[\u001b[0m\u001b[0mi\u001b[0m\u001b[1;33m]\u001b[0m\u001b[1;33m\u001b[0m\u001b[1;33m\u001b[0m\u001b[0m\n\u001b[0m\u001b[0;32m      5\u001b[0m     \u001b[0mnewStudAge\u001b[0m \u001b[1;33m+=\u001b[0m \u001b[0mx\u001b[0m\u001b[1;33m\u001b[0m\u001b[1;33m\u001b[0m\u001b[0m\n\u001b[0;32m      6\u001b[0m \u001b[0mprint\u001b[0m\u001b[1;33m(\u001b[0m\u001b[0mnewStudAge\u001b[0m\u001b[1;33m)\u001b[0m\u001b[1;33m\u001b[0m\u001b[1;33m\u001b[0m\u001b[0m\n",
      "\u001b[1;31mIndexError\u001b[0m: list index out of range"
     ]
    }
   ],
   "source": [
    "oldStudAge = AverageAge*NumberofStudents\n",
    "newStudAge = 0\n",
    "for i in range(len(AdditionalAverageAges)):\n",
    "    x = AdditionalStudents[i]*AdditionalAverageAges[i]\n",
    "    newStudAge += x\n",
    "print(newStudAge)"
   ]
  },
  {
   "cell_type": "code",
   "execution_count": 28,
   "id": "fce4c0b3",
   "metadata": {},
   "outputs": [],
   "source": [
    "# define the function UpdateAverage()\n",
    "def UpdateAverage(oldavg, oldstd, addavg, addstd):\n",
    "    #TODO: Currently the program always returns 0 as the new average.\n",
    "    #      Modify the code in this function to compute the new average correctly\n",
    "    \n",
    "    newavg = oldavg\n",
    "    count = 1\n",
    "    \n",
    "    for i in range(len(AdditionalAverageAges)):\n",
    "        newavg += AdditionalAverageAges[i]\n",
    "        count += 1\n",
    "       \n",
    "    newavg = newavg/count\n",
    "    return newavg;\n",
    "\n",
    "# define the function PrintStatus()\n",
    "def PrintStatus(std, age):\n",
    "    #TODO: Complete this function\n",
    "    #Hint: You may want to copy and paste some of the code in the previous version of the program\n",
    "    print(std, age)"
   ]
  },
  {
   "cell_type": "code",
   "execution_count": 29,
   "id": "01e07699",
   "metadata": {},
   "outputs": [
    {
     "data": {
      "text/plain": [
       "14.0625"
      ]
     },
     "execution_count": 29,
     "metadata": {},
     "output_type": "execute_result"
    }
   ],
   "source": [
    "UpdateAverage(AverageAge, NumberofStudents, AdditionalAverageAges, AdditionalStudents)"
   ]
  },
  {
   "cell_type": "code",
   "execution_count": 11,
   "id": "b750b05b",
   "metadata": {},
   "outputs": [
    {
     "name": "stdout",
     "output_type": "stream",
     "text": [
      "Hello, AI4All-2021\n"
     ]
    }
   ],
   "source": [
    "# new starting message \"Hello, <CohortName>\"\n",
    "print ('Hello,', CohortName)"
   ]
  },
  {
   "cell_type": "markdown",
   "id": "b02858fd",
   "metadata": {},
   "source": [
    "# new\n"
   ]
  },
  {
   "cell_type": "code",
   "execution_count": 12,
   "id": "e0bbb7f6",
   "metadata": {},
   "outputs": [
    {
     "name": "stdout",
     "output_type": "stream",
     "text": [
      "145 15.819971707818931\n"
     ]
    }
   ],
   "source": [
    "# computes the new total number of students\n",
    "# by adding one item at a time to NumberofStudents\n",
    "for i in range(0,len(AdditionalStudents)):\n",
    "    #update the total number of students\n",
    "    NumberofStudents += AdditionalStudents[i]\n",
    "    \n",
    "    # update the average age as adding more students, using UpdateAverage function\n",
    "    AverageAge = UpdateAverage(AverageAge, NumberofStudents, AdditionalAverageAges, AdditionalStudents)\n",
    "\n",
    "# the function PrintStatus() prints a status message in different formats\n",
    "# the format depends on the number of students\n",
    "PrintStatus(NumberofStudents, AverageAge)"
   ]
  },
  {
   "cell_type": "code",
   "execution_count": 58,
   "id": "6cd713f4",
   "metadata": {},
   "outputs": [
    {
     "name": "stdout",
     "output_type": "stream",
     "text": [
      "True\n",
      "It's a prime.\n"
     ]
    }
   ],
   "source": [
    "x = 1\n",
    "\n",
    "def checker(x):\n",
    "    for j in range(2,x):\n",
    "        if x % j == 0:\n",
    "            return False\n",
    "    return True\n",
    "\n",
    "# def checker(x):\n",
    "#     for j in range(2,x):\n",
    "#         if x % j == 0:\n",
    "#             return False\n",
    "#         elif x % j != 0:\n",
    "#             return True\n",
    "\n",
    "print(checker(x))\n",
    "\n",
    "if x > 1:\n",
    "    if checker(x) == True:\n",
    "        print(\"It's a prime.\")\n",
    "    else:\n",
    "        print(\"It's not a prime.\")"
   ]
  },
  {
   "cell_type": "code",
   "execution_count": 156,
   "id": "797f4669",
   "metadata": {},
   "outputs": [
    {
     "name": "stdout",
     "output_type": "stream",
     "text": [
      "How many numbers do you want to check?\n",
      "4\n",
      "Enter a positive integer:\n",
      "0\n",
      "Enter a positive integer:\n",
      "0\n",
      "Enter a positive integer:\n",
      "0\n",
      "Enter a positive integer:\n",
      "0\n",
      "Total prime numbers: 0\n"
     ]
    }
   ],
   "source": [
    "# MINE IT WORKS\n",
    "\n",
    "def checker(x):\n",
    "    for j in range(2,x):\n",
    "        if x % j == 0:\n",
    "            return False\n",
    "    return True\n",
    "\n",
    "counter = 0\n",
    "n = int(input('How many numbers do you want to check?\\n'))\n",
    "\n",
    "for i in range(n):\n",
    "    \n",
    "    # negative number check\n",
    "    while True:\n",
    "        integer = int(input('Enter a positive integer:\\n'))\n",
    "        if integer < 0:\n",
    "            print(\"PrimeFinder ignores negative numbers!\")\n",
    "            continue\n",
    "        elif integer >= 0:\n",
    "            break\n",
    "            \n",
    "    # 1 and 0 cases\n",
    "    if integer == 1 or integer == 0:             \n",
    "        continue \n",
    "    \n",
    "    if checker(integer):\n",
    "        print(integer, 'is a prime number.')\n",
    "        counter+=1\n",
    "    else:\n",
    "        continue\n",
    "print(\"Total prime numbers:\", counter)"
   ]
  },
  {
   "cell_type": "code",
   "execution_count": 23,
   "id": "4820aa3e",
   "metadata": {},
   "outputs": [
    {
     "data": {
      "text/plain": [
       "False"
      ]
     },
     "execution_count": 23,
     "metadata": {},
     "output_type": "execute_result"
    }
   ],
   "source": [
    "checker(10)"
   ]
  },
  {
   "cell_type": "code",
   "execution_count": 4,
   "id": "c8ee3533",
   "metadata": {},
   "outputs": [],
   "source": [
    "def pynum(h):\n",
    "    for i in range(1, h+1):\n",
    "        for j in range(h-i):\n",
    "            print(\" \", end = \" \")\n",
    "        for j in range(1,i):\n",
    "            print(j, end= \" \")\n",
    "        for i in range(i, 0, -1):\n",
    "            print(i, end=\" \")\n",
    "        print()"
   ]
  },
  {
   "cell_type": "code",
   "execution_count": 5,
   "id": "13b0d8dd",
   "metadata": {},
   "outputs": [],
   "source": [
    "def function():\n",
    "    h = int(input(\"what is the height of pyramid?\\n\"))\n",
    "    c=0\n",
    "    while c < 9:\n",
    "        if h not in range(2,10):\n",
    "            print(\"cant help\")\n",
    "        else:\n",
    "            pynum(h)\n",
    "        break"
   ]
  },
  {
   "cell_type": "code",
   "execution_count": 6,
   "id": "64383752",
   "metadata": {},
   "outputs": [
    {
     "name": "stdout",
     "output_type": "stream",
     "text": [
      "what is the height of pyramid?\n",
      "9\n",
      "                1 \n",
      "              1 2 1 \n",
      "            1 2 3 2 1 \n",
      "          1 2 3 4 3 2 1 \n",
      "        1 2 3 4 5 4 3 2 1 \n",
      "      1 2 3 4 5 6 5 4 3 2 1 \n",
      "    1 2 3 4 5 6 7 6 5 4 3 2 1 \n",
      "  1 2 3 4 5 6 7 8 7 6 5 4 3 2 1 \n",
      "1 2 3 4 5 6 7 8 9 8 7 6 5 4 3 2 1 \n"
     ]
    }
   ],
   "source": [
    "function()"
   ]
  },
  {
   "cell_type": "code",
   "execution_count": 271,
   "id": "ea7fb462",
   "metadata": {},
   "outputs": [
    {
     "name": "stdout",
     "output_type": "stream",
     "text": [
      "what is the height of pyramid?\n",
      "1\n",
      "PyNum can not help you!\n"
     ]
    }
   ],
   "source": [
    "# MINE IT WORKS\n",
    "\n",
    "def pynum(h):\n",
    "    for i in range(1, h+1):\n",
    "        for j in range(h-i):\n",
    "            print(\" \", end = \"\")\n",
    "        for k in range(1,i+1):\n",
    "            print(k, end= \" \")\n",
    "        for l in range(i-1, 0, -1):\n",
    "            print(l, end = \" \")\n",
    "        print()\n",
    "\n",
    "def function():\n",
    "    h = int(input(\"What is the height of the pyramid?\\n\"))\n",
    "    if h not in range(2,10):\n",
    "        print(\"PyNum cannot help you!\")\n",
    "    else:\n",
    "        pynum(h)\n",
    "        \n",
    "function()"
   ]
  },
  {
   "cell_type": "code",
   "execution_count": 75,
   "id": "4fde450f",
   "metadata": {},
   "outputs": [
    {
     "name": "stdout",
     "output_type": "stream",
     "text": [
      "Hi dear user! Do you want to talk to me?\n",
      "yes\n",
      "Great! Let's talk, my friend!\n",
      "Ask me any question you want.\n"
     ]
    }
   ],
   "source": [
    "print(\"Hi dear user! Do you want to talk to me?\")\n",
    "answer = input()\n",
    "yeses = [\"yes\", \"y\", \"of course\", \"certainly yes\", \"sure\"]\n",
    "noses = [\"no\", \"n\", \"no way\", \"of course not\", \"never\"]\n",
    "byes = [\"Goodbye!\", \"See you!\", \"ciao\", \"Have a good day\"]\n",
    "if answer in yeses :\n",
    "    print(\"Great! Let's talk, my friend!\")\n",
    "    print(\"Ask me any question you want.\")\n",
    "else:\n",
    "    print(\"Goodbye user!\")"
   ]
  },
  {
   "cell_type": "code",
   "execution_count": 197,
   "id": "4b6ddad5",
   "metadata": {},
   "outputs": [
    {
     "name": "stdout",
     "output_type": "stream",
     "text": [
      "Hi, this is Pchatbot, can I talk to you?\n",
      "y\n",
      "What is your name?\n",
      "joe\n",
      "Nice to meet you, joe.\n",
      "How are you doing today?\n",
      "\n",
      "  @media print {\n",
      "    .ms-editor-squiggles-container {\n",
      "      display:none !important;\n",
      "    }\n",
      "  }\n",
      "  .ms-editor-squiggles-container {\n",
      "    all: initial;\n",
      "  }i'm good\n",
      "I'm glad you're feeling well, joe.\n",
      "I'm glad you're feeling well,joe.\n"
     ]
    },
    {
     "ename": "KeyboardInterrupt",
     "evalue": "Interrupted by user",
     "output_type": "error",
     "traceback": [
      "\u001b[1;31m---------------------------------------------------------------------------\u001b[0m",
      "\u001b[1;31mKeyboardInterrupt\u001b[0m                         Traceback (most recent call last)",
      "\u001b[1;32m<ipython-input-197-83be400411a8>\u001b[0m in \u001b[0;36m<module>\u001b[1;34m\u001b[0m\n\u001b[0;32m     14\u001b[0m         \u001b[0mprint\u001b[0m\u001b[1;33m(\u001b[0m\u001b[1;34m'I see!'\u001b[0m\u001b[1;33m)\u001b[0m\u001b[1;33m\u001b[0m\u001b[1;33m\u001b[0m\u001b[0m\n\u001b[0;32m     15\u001b[0m     \u001b[1;32mtry\u001b[0m\u001b[1;33m:\u001b[0m\u001b[1;33m\u001b[0m\u001b[1;33m\u001b[0m\u001b[0m\n\u001b[1;32m---> 16\u001b[1;33m         \u001b[0mage\u001b[0m \u001b[1;33m=\u001b[0m \u001b[0mint\u001b[0m\u001b[1;33m(\u001b[0m\u001b[0minput\u001b[0m\u001b[1;33m(\u001b[0m\u001b[1;34m\"How old are you?\\n\"\u001b[0m\u001b[1;33m)\u001b[0m\u001b[1;33m)\u001b[0m\u001b[1;33m\u001b[0m\u001b[1;33m\u001b[0m\u001b[0m\n\u001b[0m\u001b[0;32m     17\u001b[0m         \u001b[1;32mif\u001b[0m \u001b[0mage\u001b[0m \u001b[1;33m>\u001b[0m \u001b[1;36m18\u001b[0m \u001b[1;32mand\u001b[0m \u001b[0mfeeling\u001b[0m \u001b[1;32min\u001b[0m \u001b[1;33m{\u001b[0m\u001b[1;34m'good'\u001b[0m\u001b[1;33m,\u001b[0m \u001b[1;34m\"i'm great\"\u001b[0m\u001b[1;33m,\u001b[0m \u001b[1;34m\"i'm good\"\u001b[0m\u001b[1;33m,\u001b[0m\u001b[1;34m'fine'\u001b[0m\u001b[1;33m}\u001b[0m\u001b[1;33m:\u001b[0m\u001b[1;33m\u001b[0m\u001b[1;33m\u001b[0m\u001b[0m\n\u001b[0;32m     18\u001b[0m             \u001b[0mprint\u001b[0m\u001b[1;33m(\u001b[0m\u001b[1;34m\"You are ready to drive.\"\u001b[0m\u001b[1;33m)\u001b[0m\u001b[1;33m\u001b[0m\u001b[1;33m\u001b[0m\u001b[0m\n",
      "\u001b[1;32m~\\anaconda3\\lib\\site-packages\\ipykernel\\kernelbase.py\u001b[0m in \u001b[0;36mraw_input\u001b[1;34m(self, prompt)\u001b[0m\n\u001b[0;32m    858\u001b[0m                 \u001b[1;34m\"raw_input was called, but this frontend does not support input requests.\"\u001b[0m\u001b[1;33m\u001b[0m\u001b[1;33m\u001b[0m\u001b[0m\n\u001b[0;32m    859\u001b[0m             )\n\u001b[1;32m--> 860\u001b[1;33m         return self._input_request(str(prompt),\n\u001b[0m\u001b[0;32m    861\u001b[0m             \u001b[0mself\u001b[0m\u001b[1;33m.\u001b[0m\u001b[0m_parent_ident\u001b[0m\u001b[1;33m,\u001b[0m\u001b[1;33m\u001b[0m\u001b[1;33m\u001b[0m\u001b[0m\n\u001b[0;32m    862\u001b[0m             \u001b[0mself\u001b[0m\u001b[1;33m.\u001b[0m\u001b[0m_parent_header\u001b[0m\u001b[1;33m,\u001b[0m\u001b[1;33m\u001b[0m\u001b[1;33m\u001b[0m\u001b[0m\n",
      "\u001b[1;32m~\\anaconda3\\lib\\site-packages\\ipykernel\\kernelbase.py\u001b[0m in \u001b[0;36m_input_request\u001b[1;34m(self, prompt, ident, parent, password)\u001b[0m\n\u001b[0;32m    902\u001b[0m             \u001b[1;32mexcept\u001b[0m \u001b[0mKeyboardInterrupt\u001b[0m\u001b[1;33m:\u001b[0m\u001b[1;33m\u001b[0m\u001b[1;33m\u001b[0m\u001b[0m\n\u001b[0;32m    903\u001b[0m                 \u001b[1;31m# re-raise KeyboardInterrupt, to truncate traceback\u001b[0m\u001b[1;33m\u001b[0m\u001b[1;33m\u001b[0m\u001b[1;33m\u001b[0m\u001b[0m\n\u001b[1;32m--> 904\u001b[1;33m                 \u001b[1;32mraise\u001b[0m \u001b[0mKeyboardInterrupt\u001b[0m\u001b[1;33m(\u001b[0m\u001b[1;34m\"Interrupted by user\"\u001b[0m\u001b[1;33m)\u001b[0m \u001b[1;32mfrom\u001b[0m \u001b[1;32mNone\u001b[0m\u001b[1;33m\u001b[0m\u001b[1;33m\u001b[0m\u001b[0m\n\u001b[0m\u001b[0;32m    905\u001b[0m             \u001b[1;32mexcept\u001b[0m \u001b[0mException\u001b[0m \u001b[1;32mas\u001b[0m \u001b[0me\u001b[0m\u001b[1;33m:\u001b[0m\u001b[1;33m\u001b[0m\u001b[1;33m\u001b[0m\u001b[0m\n\u001b[0;32m    906\u001b[0m                 \u001b[0mself\u001b[0m\u001b[1;33m.\u001b[0m\u001b[0mlog\u001b[0m\u001b[1;33m.\u001b[0m\u001b[0mwarning\u001b[0m\u001b[1;33m(\u001b[0m\u001b[1;34m\"Invalid Message:\"\u001b[0m\u001b[1;33m,\u001b[0m \u001b[0mexc_info\u001b[0m\u001b[1;33m=\u001b[0m\u001b[1;32mTrue\u001b[0m\u001b[1;33m)\u001b[0m\u001b[1;33m\u001b[0m\u001b[1;33m\u001b[0m\u001b[0m\n",
      "\u001b[1;31mKeyboardInterrupt\u001b[0m: Interrupted by user"
     ]
    }
   ],
   "source": [
    "# MINE IT WORKS\n",
    "\n",
    "text = input('Hi, this is Pchatbot, can I talk to you?\\n')\n",
    "if text in {'Y', 'y'}:\n",
    "    name = input('What is your name?\\n')\n",
    "    print(f'Nice to meet you, {name}.')\n",
    "    feeling = input('How are you doing today?\\n').lower()\n",
    "    if feeling in {'good', \"i'm great\", \"i'm good\",'fine'}:\n",
    "        print(f\"I'm glad you're feeling well, {name}.\")\n",
    "        print(\"I'm glad you're feeling well,\"+name+\".\")\n",
    "    elif feeling in {'bad', 'not okay'}:\n",
    "        print('Have some time to yourself to recharge!')\n",
    "    else: \n",
    "        print('I see!')\n",
    "    try:\n",
    "        age = int(input(\"How old are you?\\n\"))\n",
    "        if age > 18 and feeling in {'good', \"i'm great\", \"i'm good\",'fine'}:\n",
    "            print(\"You are ready to drive.\")\n",
    "        else:\n",
    "            print('Still taking the bus!')\n",
    "    except ValueError:\n",
    "        print('Invalid age input!')\n",
    "elif text in {'N','n'}:\n",
    "    print('Okay! Talk to you soon!')"
   ]
  },
  {
   "cell_type": "code",
   "execution_count": 115,
   "id": "ffde2d07",
   "metadata": {},
   "outputs": [
    {
     "name": "stdout",
     "output_type": "stream",
     "text": [
      "Hi, this is Pchatbot, can I talk to you?\n",
      "y\n",
      "What is your name?\n",
      "joe\n",
      "Nice to meet you, joe.\n",
      "How are you doing today?\n",
      "good\n",
      "I'm glad you're feeling well joe.\n",
      "I'm glad you're feeling well, joe.\n",
      "How old are you?\n",
      "19\n",
      "You are ready to drive.\n"
     ]
    }
   ],
   "source": [
    "Negative = {\"bad\", \"not okay\", \"i'm not feeling good\"}\n",
    "Positive = {\"good\", \"i'm great\", \"i'm good\", \"fine\"}\n",
    "yes = {\"y\",\"Y\"}\n",
    "no = {\"n\",\"N\"}\n",
    "\n",
    "status = input('Hi, this is Pchatbot, can I talk to you?\\n')\n",
    "\n",
    "if status in yes:\n",
    "    Name = input('What is your name?\\n')\n",
    "    print(f'Nice to meet you, {name}.')\n",
    "\n",
    "    mood = input('How are you doing today?\\n').lower() \n",
    "    if mood in Positive:\n",
    "        print( \"I'm glad you're feeling well \", Name,\".\", sep = \"\")\n",
    "        print(f\"I'm glad you're feeling well, {name}.\")\n",
    "    elif mood in Negative:\n",
    "        print (\"Have some time to yourself to recharge!\")\n",
    "    else:\n",
    "        print (\"I see!\")\n",
    "    try:\n",
    "        age = int(input(\"How old are you?\\n\"))\n",
    "        if age > 18 and mood in Positive:\n",
    "            print (\"You are ready to drive.\")\n",
    "        else:\n",
    "            print (\"Still taking the bus!\")\n",
    "    except ValueError:\n",
    "        print(\"Still taking the bus!\")\n",
    "\n",
    "elif status in no:\n",
    "    print ('Okay! Talk to you soon!')"
   ]
  },
  {
   "cell_type": "code",
   "execution_count": 230,
   "id": "91953e9b",
   "metadata": {},
   "outputs": [
    {
     "name": "stdout",
     "output_type": "stream",
     "text": [
      "Hi, how many operations do you want MagiCal to perform?\n",
      "4\n",
      "Select the operator from the list of Addition (1), Subtraction (2), Multiplication (3), Division (4):\n",
      "4\n",
      "Enter the first number in the interval of [0,100]:\n",
      "99\n",
      "Enter the second number in the interval of [0,100]:\n",
      "7\n",
      "99 / 7 = 14.142857142857142\n",
      "Select the operator from the list of Addition (1), Subtraction (2), Multiplication (3), Division (4):\n",
      "3\n",
      "Enter the first number in the interval of [0,100]:\n",
      "hi\n",
      "Magic calculator can not perform your operation!\n"
     ]
    },
    {
     "ename": "KeyboardInterrupt",
     "evalue": "Interrupted by user",
     "output_type": "error",
     "traceback": [
      "\u001b[1;31m---------------------------------------------------------------------------\u001b[0m",
      "\u001b[1;31mKeyboardInterrupt\u001b[0m                         Traceback (most recent call last)",
      "\u001b[1;32m<ipython-input-230-c1cfaaef1751>\u001b[0m in \u001b[0;36m<module>\u001b[1;34m\u001b[0m\n\u001b[0;32m      3\u001b[0m \u001b[0mk\u001b[0m \u001b[1;33m=\u001b[0m \u001b[0mint\u001b[0m\u001b[1;33m(\u001b[0m\u001b[0minput\u001b[0m\u001b[1;33m(\u001b[0m\u001b[1;34m'Hi, how many operations do you want MagiCal to perform?\\n'\u001b[0m\u001b[1;33m)\u001b[0m\u001b[1;33m)\u001b[0m\u001b[1;33m\u001b[0m\u001b[1;33m\u001b[0m\u001b[0m\n\u001b[0;32m      4\u001b[0m \u001b[1;32mfor\u001b[0m \u001b[0mi\u001b[0m \u001b[1;32min\u001b[0m \u001b[0mrange\u001b[0m\u001b[1;33m(\u001b[0m\u001b[0mk\u001b[0m\u001b[1;33m)\u001b[0m\u001b[1;33m:\u001b[0m\u001b[1;33m\u001b[0m\u001b[1;33m\u001b[0m\u001b[0m\n\u001b[1;32m----> 5\u001b[1;33m     \u001b[0moperator\u001b[0m \u001b[1;33m=\u001b[0m \u001b[1;33m(\u001b[0m\u001b[0minput\u001b[0m\u001b[1;33m(\u001b[0m\u001b[1;34m'Select the operator from the list of Addition (1), Subtraction (2), Multiplication (3), Division (4):\\n'\u001b[0m\u001b[1;33m)\u001b[0m\u001b[1;33m)\u001b[0m\u001b[1;33m\u001b[0m\u001b[1;33m\u001b[0m\u001b[0m\n\u001b[0m\u001b[0;32m      6\u001b[0m     \u001b[1;32mif\u001b[0m \u001b[0moperator\u001b[0m \u001b[1;32mnot\u001b[0m \u001b[1;32min\u001b[0m \u001b[1;33m[\u001b[0m\u001b[1;34m\"1\"\u001b[0m\u001b[1;33m,\u001b[0m \u001b[1;34m\"2\"\u001b[0m\u001b[1;33m,\u001b[0m \u001b[1;34m\"3\"\u001b[0m\u001b[1;33m,\u001b[0m \u001b[1;34m\"4\"\u001b[0m\u001b[1;33m]\u001b[0m\u001b[1;33m:\u001b[0m\u001b[1;33m\u001b[0m\u001b[1;33m\u001b[0m\u001b[0m\n\u001b[0;32m      7\u001b[0m         \u001b[0mprint\u001b[0m\u001b[1;33m(\u001b[0m\u001b[1;34m'Invalid input!'\u001b[0m\u001b[1;33m)\u001b[0m\u001b[1;33m\u001b[0m\u001b[1;33m\u001b[0m\u001b[0m\n",
      "\u001b[1;32m~\\anaconda3\\lib\\site-packages\\ipykernel\\kernelbase.py\u001b[0m in \u001b[0;36mraw_input\u001b[1;34m(self, prompt)\u001b[0m\n\u001b[0;32m    858\u001b[0m                 \u001b[1;34m\"raw_input was called, but this frontend does not support input requests.\"\u001b[0m\u001b[1;33m\u001b[0m\u001b[1;33m\u001b[0m\u001b[0m\n\u001b[0;32m    859\u001b[0m             )\n\u001b[1;32m--> 860\u001b[1;33m         return self._input_request(str(prompt),\n\u001b[0m\u001b[0;32m    861\u001b[0m             \u001b[0mself\u001b[0m\u001b[1;33m.\u001b[0m\u001b[0m_parent_ident\u001b[0m\u001b[1;33m,\u001b[0m\u001b[1;33m\u001b[0m\u001b[1;33m\u001b[0m\u001b[0m\n\u001b[0;32m    862\u001b[0m             \u001b[0mself\u001b[0m\u001b[1;33m.\u001b[0m\u001b[0m_parent_header\u001b[0m\u001b[1;33m,\u001b[0m\u001b[1;33m\u001b[0m\u001b[1;33m\u001b[0m\u001b[0m\n",
      "\u001b[1;32m~\\anaconda3\\lib\\site-packages\\ipykernel\\kernelbase.py\u001b[0m in \u001b[0;36m_input_request\u001b[1;34m(self, prompt, ident, parent, password)\u001b[0m\n\u001b[0;32m    902\u001b[0m             \u001b[1;32mexcept\u001b[0m \u001b[0mKeyboardInterrupt\u001b[0m\u001b[1;33m:\u001b[0m\u001b[1;33m\u001b[0m\u001b[1;33m\u001b[0m\u001b[0m\n\u001b[0;32m    903\u001b[0m                 \u001b[1;31m# re-raise KeyboardInterrupt, to truncate traceback\u001b[0m\u001b[1;33m\u001b[0m\u001b[1;33m\u001b[0m\u001b[1;33m\u001b[0m\u001b[0m\n\u001b[1;32m--> 904\u001b[1;33m                 \u001b[1;32mraise\u001b[0m \u001b[0mKeyboardInterrupt\u001b[0m\u001b[1;33m(\u001b[0m\u001b[1;34m\"Interrupted by user\"\u001b[0m\u001b[1;33m)\u001b[0m \u001b[1;32mfrom\u001b[0m \u001b[1;32mNone\u001b[0m\u001b[1;33m\u001b[0m\u001b[1;33m\u001b[0m\u001b[0m\n\u001b[0m\u001b[0;32m    905\u001b[0m             \u001b[1;32mexcept\u001b[0m \u001b[0mException\u001b[0m \u001b[1;32mas\u001b[0m \u001b[0me\u001b[0m\u001b[1;33m:\u001b[0m\u001b[1;33m\u001b[0m\u001b[1;33m\u001b[0m\u001b[0m\n\u001b[0;32m    906\u001b[0m                 \u001b[0mself\u001b[0m\u001b[1;33m.\u001b[0m\u001b[0mlog\u001b[0m\u001b[1;33m.\u001b[0m\u001b[0mwarning\u001b[0m\u001b[1;33m(\u001b[0m\u001b[1;34m\"Invalid Message:\"\u001b[0m\u001b[1;33m,\u001b[0m \u001b[0mexc_info\u001b[0m\u001b[1;33m=\u001b[0m\u001b[1;32mTrue\u001b[0m\u001b[1;33m)\u001b[0m\u001b[1;33m\u001b[0m\u001b[1;33m\u001b[0m\u001b[0m\n",
      "\u001b[1;31mKeyboardInterrupt\u001b[0m: Interrupted by user"
     ]
    }
   ],
   "source": [
    "#MINE IT WORKS\n",
    "\n",
    "k = int(input('Hi, how many operations do you want MagiCal to perform?\\n'))\n",
    "for i in range(k):  \n",
    "    operator = (input('Select the operator from the list of Addition (1), Subtraction (2), Multiplication (3), Division (4):\\n'))\n",
    "    if operator not in [\"1\", \"2\", \"3\", \"4\"]:\n",
    "        print('Invalid input!')\n",
    "        continue    \n",
    "    try:\n",
    "        first_number = int(input('Enter the first number in the interval of [0,100]:\\n'))\n",
    "    except ValueError:\n",
    "        print('Magic calculator can not perform your operation!')\n",
    "        continue\n",
    "    try:\n",
    "        second_number = int(input('Enter the second number in the interval of [0,100]:\\n'))\n",
    "    except ValueError:\n",
    "        print('Magic calculator can not perform your operation!')\n",
    "        continue\n",
    "    if first_number < 0 or first_number > 100 or second_number < 0 or second_number > 100:\n",
    "        print('Magic calculator can not perform your operation!')\n",
    "        continue \n",
    "    if operator == 4 and second_number == 0:\n",
    "        print('The denominator cannot be 0.')\n",
    "        continue\n",
    "    if operator == \"1\":\n",
    "        result = float(first_number + second_number)\n",
    "        print(first_number, '+', second_number, '=', result)\n",
    "    elif operator == \"2\":\n",
    "        result = float(first_number - second_number)\n",
    "        print(first_number, '-', second_number, '=', result)\n",
    "    elif operator == \"3\":\n",
    "        result = float(first_number * second_number)\n",
    "        print(first_number, '*', second_number, '=', result)\n",
    "    elif operator == \"4\":\n",
    "        result = float(first_number / second_number)\n",
    "        print(first_number, '/', second_number, '=', result)"
   ]
  },
  {
   "cell_type": "code",
   "execution_count": 159,
   "id": "9f78739e",
   "metadata": {},
   "outputs": [
    {
     "name": "stdout",
     "output_type": "stream",
     "text": [
      "Hello user!\n",
      "Enter a date in the format mm-dd-yyyy: 11-11-2023\n",
      "November 11, 2023\n"
     ]
    }
   ],
   "source": [
    "# hello user!\n",
    "print(\"Hello user!\")\n",
    "# take in user input\n",
    "date = input(\"Enter a date in the format mm-dd-yyyy: \")\n",
    "# split user input at -\n",
    "month, day, year = date.split(\"-\")\n",
    "# take each number and modify it\n",
    "\n",
    "# month --> []\n",
    "months = ['January','February','March','April','May','June','July','August','September','October','November','December']\n",
    "month_name = months[int(month)-1]\n",
    "\n",
    "# f strings\n",
    "# print(month + day + year)\n",
    "# print(month_name, str(int(day)), str(year))\n",
    "print(f\"{month_name} {day}, {year}\")"
   ]
  },
  {
   "cell_type": "code",
   "execution_count": 169,
   "id": "c69b68e3",
   "metadata": {},
   "outputs": [
    {
     "name": "stdout",
     "output_type": "stream",
     "text": [
      "cherry\n",
      "A\n",
      "2\n"
     ]
    }
   ],
   "source": [
    "a = [\"cherry\",\"cherry\",\"apple\"]\n",
    "b = \"ABABABA\"\n",
    "\n",
    "print(a[0])\n",
    "print(b[0])\n",
    "\n",
    "\n",
    "x = b.count(\"ABA\")\n",
    "print(x)"
   ]
  },
  {
   "cell_type": "code",
   "execution_count": 166,
   "id": "c20324be",
   "metadata": {},
   "outputs": [
    {
     "data": {
      "text/plain": [
       "'gnirts'"
      ]
     },
     "execution_count": 166,
     "metadata": {},
     "output_type": "execute_result"
    }
   ],
   "source": [
    "# Write a function that takes a string parameter s and returns a \n",
    "# new string such that the new string is a reversed version of s. \n",
    "# For example, if s is “ABCD”, the returned string should be “DCBA”.\n",
    "\n",
    "def rev(s):\n",
    "    # create empty string for later\n",
    "    result = ''\n",
    "    # loop thru each character\n",
    "    for char in s:\n",
    "    # add current to beginning\n",
    "        result = char + result\n",
    "    return result\n",
    "\n",
    "# print and return statements\n",
    "\n",
    "# print statement --> user\n",
    "\n",
    "# return statement --> prime(computer) + extra(user)\n",
    "\n",
    "rev('string')"
   ]
  },
  {
   "cell_type": "code",
   "execution_count": 172,
   "id": "fe0b4e84",
   "metadata": {},
   "outputs": [
    {
     "data": {
      "text/plain": [
       "'ih'"
      ]
     },
     "execution_count": 172,
     "metadata": {},
     "output_type": "execute_result"
    }
   ],
   "source": [
    "def revs(s):\n",
    "    return s[::-1]\n",
    "\n",
    "revs('hi')"
   ]
  },
  {
   "cell_type": "code",
   "execution_count": 177,
   "id": "66ec7e35",
   "metadata": {},
   "outputs": [
    {
     "name": "stdout",
     "output_type": "stream",
     "text": [
      "[1, 'apl', 2, 'or', 3, 'ban', 'ban']\n"
     ]
    }
   ],
   "source": [
    "# 1 2 3\n",
    "# apl or ban ban\n",
    "\n",
    "# 1 apl 2 or 3 ban ban\n",
    "\n",
    "def combined(lst1, lst2):\n",
    "    # create empty list for later\n",
    "    final_list = []\n",
    "    # check which one bigger\n",
    "    for i in range(max(len(lst1), len(lst2))):\n",
    "        # start appending based on size\n",
    "        if i < len(lst1):\n",
    "            final_list.append(lst1[i])\n",
    "        if i < len(lst2):\n",
    "            final_list.append(lst2[i])\n",
    "    return final_list\n",
    "\n",
    "lst1 = [1,2,3]\n",
    "lst2 = ['apl','or','ban','ban']\n",
    "\n",
    "print(combined(lst1, lst2))"
   ]
  },
  {
   "cell_type": "code",
   "execution_count": 216,
   "id": "8dc1df24",
   "metadata": {},
   "outputs": [
    {
     "name": "stdout",
     "output_type": "stream",
     "text": [
      "UM MUUM MUUM MU"
     ]
    }
   ],
   "source": [
    "count = 0\n",
    "\n",
    "while count <3:\n",
    "    print(\"UM \", end='MU')\n",
    "    count +=1"
   ]
  },
  {
   "cell_type": "code",
   "execution_count": 218,
   "id": "9e8f3040",
   "metadata": {},
   "outputs": [
    {
     "name": "stdout",
     "output_type": "stream",
     "text": [
      "120\n"
     ]
    }
   ],
   "source": [
    "counter = 5\n",
    "result = 1\n",
    "while counter >0:\n",
    "    result *= counter\n",
    "    counter-=1\n",
    "    \n",
    "print(result)"
   ]
  },
  {
   "cell_type": "code",
   "execution_count": 219,
   "id": "00bf632c",
   "metadata": {},
   "outputs": [
    {
     "name": "stdout",
     "output_type": "stream",
     "text": [
      " 8 8 8 8 \n"
     ]
    }
   ],
   "source": [
    "canitalk = input(\"Hi, this is Pchatbot, can I talk to you?\\n\")\n",
    "if canitalk == \"y\" or canitalk == \"Y\" :\n",
    "    name = input(\"What is your name?\\n\")\n",
    "    print(\"Nice to meet you, \"+name+\".\")\n",
    "    feeling = input(\"How are you doing today?\\n\")\n",
    "    if feeling in [\"Good\", \"I'm great\", \"I'm good\",\"Fine\"]:\n",
    "        print(\"I'm glad you're feeling well, \"+name+\".\")\n",
    "    elif feeling in [\"Bad\", \"Not okay\", \"I'm not feeling good\"]:\n",
    "            print(\"Have some time to yourself to recharge!\")\n",
    "    else:\n",
    "        print(\"I see!\")\n",
    "    age = int(input(\"How old are you?\\n\"))\n",
    "    if age > 18 and feeling in [\"Good\", \"I'm great\", \"I'm good\",\"Fine\"]:\n",
    "        print(\"You are ready to drive.\")\n",
    "    else:\n",
    "        print(\"Still taking the bus!\")\n",
    "else:\n",
    "    print(\"Okay! Talk to you soon!\")"
   ]
  },
  {
   "cell_type": "code",
   "execution_count": 220,
   "id": "1a182fb6",
   "metadata": {},
   "outputs": [
    {
     "name": "stdout",
     "output_type": "stream",
     "text": [
      "4\n"
     ]
    }
   ],
   "source": [
    "s = '5'\n",
    "counter = 5\n",
    "\n",
    "while counter <40:\n",
    "    s+=s\n",
    "    counter *=7.5\n",
    "print(len(s))"
   ]
  },
  {
   "cell_type": "code",
   "execution_count": 2,
   "id": "02d8d302",
   "metadata": {},
   "outputs": [
    {
     "name": "stdout",
     "output_type": "stream",
     "text": [
      "sfusfusfup\n",
      "4\n",
      "sfup\n",
      "quit\n"
     ]
    }
   ],
   "source": [
    "# MINE WORKS\n",
    "\n",
    "# homework2 q1\n",
    "def find_substring(source, k):\n",
    "    max_substring = \"\"\n",
    "    max_unique_characters = 0\n",
    "    for i in range(len(source) - k + 1):\n",
    "        substring = source[i:i+k]\n",
    "        unique_characters = len(set(substring))\n",
    "        if unique_characters > max_unique_characters:\n",
    "            max_substring = substring\n",
    "            max_unique_characters = unique_characters\n",
    "    return max_substring\n",
    "\n",
    "while True:\n",
    "    source = input()\n",
    "    if source == \"quit\":\n",
    "        break\n",
    "    k = int(input())\n",
    "    print(find_substring(source, k))"
   ]
  },
  {
   "cell_type": "code",
   "execution_count": 240,
   "id": "3033861d",
   "metadata": {},
   "outputs": [
    {
     "ename": "KeyboardInterrupt",
     "evalue": "Interrupted by user",
     "output_type": "error",
     "traceback": [
      "\u001b[1;31m---------------------------------------------------------------------------\u001b[0m",
      "\u001b[1;31mKeyboardInterrupt\u001b[0m                         Traceback (most recent call last)",
      "\u001b[1;32m<ipython-input-240-1c2f26b5733a>\u001b[0m in \u001b[0;36m<module>\u001b[1;34m\u001b[0m\n\u001b[0;32m      7\u001b[0m         \u001b[1;32mreturn\u001b[0m \u001b[0mn\u001b[0m \u001b[1;33m*\u001b[0m \u001b[0mfactorial\u001b[0m\u001b[1;33m(\u001b[0m\u001b[0mn\u001b[0m\u001b[1;33m-\u001b[0m\u001b[1;36m1\u001b[0m\u001b[1;33m)\u001b[0m\u001b[1;33m\u001b[0m\u001b[1;33m\u001b[0m\u001b[0m\n\u001b[0;32m      8\u001b[0m \u001b[1;33m\u001b[0m\u001b[0m\n\u001b[1;32m----> 9\u001b[1;33m \u001b[0mnumber\u001b[0m \u001b[1;33m=\u001b[0m \u001b[0mint\u001b[0m\u001b[1;33m(\u001b[0m\u001b[0minput\u001b[0m\u001b[1;33m(\u001b[0m\u001b[1;34m\"Enter a number: \"\u001b[0m\u001b[1;33m)\u001b[0m\u001b[1;33m)\u001b[0m\u001b[1;33m\u001b[0m\u001b[1;33m\u001b[0m\u001b[0m\n\u001b[0m\u001b[0;32m     10\u001b[0m \u001b[0mresult\u001b[0m \u001b[1;33m=\u001b[0m \u001b[0mfactorial\u001b[0m\u001b[1;33m(\u001b[0m\u001b[0mnumber\u001b[0m\u001b[1;33m)\u001b[0m\u001b[1;33m\u001b[0m\u001b[1;33m\u001b[0m\u001b[0m\n\u001b[0;32m     11\u001b[0m \u001b[0mprint\u001b[0m\u001b[1;33m(\u001b[0m\u001b[1;34m\"The factorial of\"\u001b[0m\u001b[1;33m,\u001b[0m \u001b[0mnumber\u001b[0m\u001b[1;33m,\u001b[0m \u001b[1;34m\"is\"\u001b[0m\u001b[1;33m,\u001b[0m \u001b[0mresult\u001b[0m\u001b[1;33m)\u001b[0m\u001b[1;33m\u001b[0m\u001b[1;33m\u001b[0m\u001b[0m\n",
      "\u001b[1;32m~\\anaconda3\\lib\\site-packages\\ipykernel\\kernelbase.py\u001b[0m in \u001b[0;36mraw_input\u001b[1;34m(self, prompt)\u001b[0m\n\u001b[0;32m    858\u001b[0m                 \u001b[1;34m\"raw_input was called, but this frontend does not support input requests.\"\u001b[0m\u001b[1;33m\u001b[0m\u001b[1;33m\u001b[0m\u001b[0m\n\u001b[0;32m    859\u001b[0m             )\n\u001b[1;32m--> 860\u001b[1;33m         return self._input_request(str(prompt),\n\u001b[0m\u001b[0;32m    861\u001b[0m             \u001b[0mself\u001b[0m\u001b[1;33m.\u001b[0m\u001b[0m_parent_ident\u001b[0m\u001b[1;33m,\u001b[0m\u001b[1;33m\u001b[0m\u001b[1;33m\u001b[0m\u001b[0m\n\u001b[0;32m    862\u001b[0m             \u001b[0mself\u001b[0m\u001b[1;33m.\u001b[0m\u001b[0m_parent_header\u001b[0m\u001b[1;33m,\u001b[0m\u001b[1;33m\u001b[0m\u001b[1;33m\u001b[0m\u001b[0m\n",
      "\u001b[1;32m~\\anaconda3\\lib\\site-packages\\ipykernel\\kernelbase.py\u001b[0m in \u001b[0;36m_input_request\u001b[1;34m(self, prompt, ident, parent, password)\u001b[0m\n\u001b[0;32m    902\u001b[0m             \u001b[1;32mexcept\u001b[0m \u001b[0mKeyboardInterrupt\u001b[0m\u001b[1;33m:\u001b[0m\u001b[1;33m\u001b[0m\u001b[1;33m\u001b[0m\u001b[0m\n\u001b[0;32m    903\u001b[0m                 \u001b[1;31m# re-raise KeyboardInterrupt, to truncate traceback\u001b[0m\u001b[1;33m\u001b[0m\u001b[1;33m\u001b[0m\u001b[1;33m\u001b[0m\u001b[0m\n\u001b[1;32m--> 904\u001b[1;33m                 \u001b[1;32mraise\u001b[0m \u001b[0mKeyboardInterrupt\u001b[0m\u001b[1;33m(\u001b[0m\u001b[1;34m\"Interrupted by user\"\u001b[0m\u001b[1;33m)\u001b[0m \u001b[1;32mfrom\u001b[0m \u001b[1;32mNone\u001b[0m\u001b[1;33m\u001b[0m\u001b[1;33m\u001b[0m\u001b[0m\n\u001b[0m\u001b[0;32m    905\u001b[0m             \u001b[1;32mexcept\u001b[0m \u001b[0mException\u001b[0m \u001b[1;32mas\u001b[0m \u001b[0me\u001b[0m\u001b[1;33m:\u001b[0m\u001b[1;33m\u001b[0m\u001b[1;33m\u001b[0m\u001b[0m\n\u001b[0;32m    906\u001b[0m                 \u001b[0mself\u001b[0m\u001b[1;33m.\u001b[0m\u001b[0mlog\u001b[0m\u001b[1;33m.\u001b[0m\u001b[0mwarning\u001b[0m\u001b[1;33m(\u001b[0m\u001b[1;34m\"Invalid Message:\"\u001b[0m\u001b[1;33m,\u001b[0m \u001b[0mexc_info\u001b[0m\u001b[1;33m=\u001b[0m\u001b[1;32mTrue\u001b[0m\u001b[1;33m)\u001b[0m\u001b[1;33m\u001b[0m\u001b[1;33m\u001b[0m\u001b[0m\n",
      "\u001b[1;31mKeyboardInterrupt\u001b[0m: Interrupted by user"
     ]
    }
   ],
   "source": [
    "# Implement a program that calculates the factorial of a given number \"n\"\n",
    "\n",
    "def factorial(n):\n",
    "    if n == 0:\n",
    "        return 1\n",
    "    else:\n",
    "        return n * factorial(n-1)\n",
    "\n",
    "number = int(input(\"Enter a number: \"))\n",
    "result = factorial(number)\n",
    "print(\"The factorial of\", number, \"is\", result)"
   ]
  },
  {
   "cell_type": "code",
   "execution_count": 239,
   "id": "05ed6327",
   "metadata": {},
   "outputs": [
    {
     "ename": "KeyboardInterrupt",
     "evalue": "Interrupted by user",
     "output_type": "error",
     "traceback": [
      "\u001b[1;31m---------------------------------------------------------------------------\u001b[0m",
      "\u001b[1;31mKeyboardInterrupt\u001b[0m                         Traceback (most recent call last)",
      "\u001b[1;32m<ipython-input-239-a3cb43c4953e>\u001b[0m in \u001b[0;36m<module>\u001b[1;34m\u001b[0m\n\u001b[0;32m     10\u001b[0m     \u001b[1;32mreturn\u001b[0m \u001b[1;32mTrue\u001b[0m\u001b[1;33m\u001b[0m\u001b[1;33m\u001b[0m\u001b[0m\n\u001b[0;32m     11\u001b[0m \u001b[1;33m\u001b[0m\u001b[0m\n\u001b[1;32m---> 12\u001b[1;33m \u001b[0msentence\u001b[0m \u001b[1;33m=\u001b[0m \u001b[0minput\u001b[0m\u001b[1;33m(\u001b[0m\u001b[1;34m\"Enter a sentence: \"\u001b[0m\u001b[1;33m)\u001b[0m\u001b[1;33m\u001b[0m\u001b[1;33m\u001b[0m\u001b[0m\n\u001b[0m\u001b[0;32m     13\u001b[0m \u001b[1;32mif\u001b[0m \u001b[0mis_pangram\u001b[0m\u001b[1;33m(\u001b[0m\u001b[0msentence\u001b[0m\u001b[1;33m)\u001b[0m\u001b[1;33m:\u001b[0m\u001b[1;33m\u001b[0m\u001b[1;33m\u001b[0m\u001b[0m\n\u001b[0;32m     14\u001b[0m     \u001b[0mprint\u001b[0m\u001b[1;33m(\u001b[0m\u001b[1;34m\"The sentence is a pangram.\"\u001b[0m\u001b[1;33m)\u001b[0m\u001b[1;33m\u001b[0m\u001b[1;33m\u001b[0m\u001b[0m\n",
      "\u001b[1;32m~\\anaconda3\\lib\\site-packages\\ipykernel\\kernelbase.py\u001b[0m in \u001b[0;36mraw_input\u001b[1;34m(self, prompt)\u001b[0m\n\u001b[0;32m    858\u001b[0m                 \u001b[1;34m\"raw_input was called, but this frontend does not support input requests.\"\u001b[0m\u001b[1;33m\u001b[0m\u001b[1;33m\u001b[0m\u001b[0m\n\u001b[0;32m    859\u001b[0m             )\n\u001b[1;32m--> 860\u001b[1;33m         return self._input_request(str(prompt),\n\u001b[0m\u001b[0;32m    861\u001b[0m             \u001b[0mself\u001b[0m\u001b[1;33m.\u001b[0m\u001b[0m_parent_ident\u001b[0m\u001b[1;33m,\u001b[0m\u001b[1;33m\u001b[0m\u001b[1;33m\u001b[0m\u001b[0m\n\u001b[0;32m    862\u001b[0m             \u001b[0mself\u001b[0m\u001b[1;33m.\u001b[0m\u001b[0m_parent_header\u001b[0m\u001b[1;33m,\u001b[0m\u001b[1;33m\u001b[0m\u001b[1;33m\u001b[0m\u001b[0m\n",
      "\u001b[1;32m~\\anaconda3\\lib\\site-packages\\ipykernel\\kernelbase.py\u001b[0m in \u001b[0;36m_input_request\u001b[1;34m(self, prompt, ident, parent, password)\u001b[0m\n\u001b[0;32m    902\u001b[0m             \u001b[1;32mexcept\u001b[0m \u001b[0mKeyboardInterrupt\u001b[0m\u001b[1;33m:\u001b[0m\u001b[1;33m\u001b[0m\u001b[1;33m\u001b[0m\u001b[0m\n\u001b[0;32m    903\u001b[0m                 \u001b[1;31m# re-raise KeyboardInterrupt, to truncate traceback\u001b[0m\u001b[1;33m\u001b[0m\u001b[1;33m\u001b[0m\u001b[1;33m\u001b[0m\u001b[0m\n\u001b[1;32m--> 904\u001b[1;33m                 \u001b[1;32mraise\u001b[0m \u001b[0mKeyboardInterrupt\u001b[0m\u001b[1;33m(\u001b[0m\u001b[1;34m\"Interrupted by user\"\u001b[0m\u001b[1;33m)\u001b[0m \u001b[1;32mfrom\u001b[0m \u001b[1;32mNone\u001b[0m\u001b[1;33m\u001b[0m\u001b[1;33m\u001b[0m\u001b[0m\n\u001b[0m\u001b[0;32m    905\u001b[0m             \u001b[1;32mexcept\u001b[0m \u001b[0mException\u001b[0m \u001b[1;32mas\u001b[0m \u001b[0me\u001b[0m\u001b[1;33m:\u001b[0m\u001b[1;33m\u001b[0m\u001b[1;33m\u001b[0m\u001b[0m\n\u001b[0;32m    906\u001b[0m                 \u001b[0mself\u001b[0m\u001b[1;33m.\u001b[0m\u001b[0mlog\u001b[0m\u001b[1;33m.\u001b[0m\u001b[0mwarning\u001b[0m\u001b[1;33m(\u001b[0m\u001b[1;34m\"Invalid Message:\"\u001b[0m\u001b[1;33m,\u001b[0m \u001b[0mexc_info\u001b[0m\u001b[1;33m=\u001b[0m\u001b[1;32mTrue\u001b[0m\u001b[1;33m)\u001b[0m\u001b[1;33m\u001b[0m\u001b[1;33m\u001b[0m\u001b[0m\n",
      "\u001b[1;31mKeyboardInterrupt\u001b[0m: Interrupted by user"
     ]
    }
   ],
   "source": [
    "# Write a program that takes a sentence from the user and checks if it is a \n",
    "# pangram (a sentence that contains every letter of the alphabet at least once)\n",
    "\n",
    "def is_pangram(sentence):\n",
    "    alphabet = \"abcdefghijklmnopqrstuvwxyz\"\n",
    "    sentence = sentence.lower()\n",
    "    for letter in alphabet:\n",
    "        if letter not in sentence:\n",
    "            return False\n",
    "    return True\n",
    "\n",
    "sentence = input(\"Enter a sentence: \")\n",
    "if is_pangram(sentence):\n",
    "    print(\"The sentence is a pangram.\")\n",
    "else:\n",
    "    print(\"The sentence is not a pangram.\")"
   ]
  },
  {
   "cell_type": "code",
   "execution_count": 238,
   "id": "7780c46e",
   "metadata": {},
   "outputs": [
    {
     "name": "stdout",
     "output_type": "stream",
     "text": [
      "[2, 4, 6]\n"
     ]
    }
   ],
   "source": [
    "# write a program that returns a list that contains only the elements that \n",
    "# are common between the lists (without duplicates). Make sure your program \n",
    "# works on two lists of different sizes\n",
    "\n",
    "def common_elements(list1, list2):\n",
    "    common = []\n",
    "    for element in list1:\n",
    "        if element in list2 and element not in common:\n",
    "            common.append(element)\n",
    "    return common\n",
    "\n",
    "list1 = [1, 2, 3, 4, 5, 6]\n",
    "list2 = [2, 4, 6, 8, 10]\n",
    "\n",
    "print(common_elements(list1, list2))"
   ]
  },
  {
   "cell_type": "code",
   "execution_count": 237,
   "id": "39768794",
   "metadata": {},
   "outputs": [
    {
     "ename": "KeyboardInterrupt",
     "evalue": "Interrupted by user",
     "output_type": "error",
     "traceback": [
      "\u001b[1;31m---------------------------------------------------------------------------\u001b[0m",
      "\u001b[1;31mKeyboardInterrupt\u001b[0m                         Traceback (most recent call last)",
      "\u001b[1;32m<ipython-input-237-c15f8165d97e>\u001b[0m in \u001b[0;36m<module>\u001b[1;34m\u001b[0m\n\u001b[0;32m      5\u001b[0m     \u001b[1;32mreturn\u001b[0m \u001b[0mword\u001b[0m \u001b[1;33m==\u001b[0m \u001b[0mword\u001b[0m\u001b[1;33m[\u001b[0m\u001b[1;33m:\u001b[0m\u001b[1;33m:\u001b[0m\u001b[1;33m-\u001b[0m\u001b[1;36m1\u001b[0m\u001b[1;33m]\u001b[0m\u001b[1;33m\u001b[0m\u001b[1;33m\u001b[0m\u001b[0m\n\u001b[0;32m      6\u001b[0m \u001b[1;33m\u001b[0m\u001b[0m\n\u001b[1;32m----> 7\u001b[1;33m \u001b[0mword\u001b[0m \u001b[1;33m=\u001b[0m \u001b[0minput\u001b[0m\u001b[1;33m(\u001b[0m\u001b[1;34m\"Enter a word: \"\u001b[0m\u001b[1;33m)\u001b[0m\u001b[1;33m\u001b[0m\u001b[1;33m\u001b[0m\u001b[0m\n\u001b[0m\u001b[0;32m      8\u001b[0m \u001b[1;32mif\u001b[0m \u001b[0mis_palindrome\u001b[0m\u001b[1;33m(\u001b[0m\u001b[0mword\u001b[0m\u001b[1;33m)\u001b[0m\u001b[1;33m:\u001b[0m\u001b[1;33m\u001b[0m\u001b[1;33m\u001b[0m\u001b[0m\n\u001b[0;32m      9\u001b[0m     \u001b[0mprint\u001b[0m\u001b[1;33m(\u001b[0m\u001b[1;34m\"The word is a palindrome.\"\u001b[0m\u001b[1;33m)\u001b[0m\u001b[1;33m\u001b[0m\u001b[1;33m\u001b[0m\u001b[0m\n",
      "\u001b[1;32m~\\anaconda3\\lib\\site-packages\\ipykernel\\kernelbase.py\u001b[0m in \u001b[0;36mraw_input\u001b[1;34m(self, prompt)\u001b[0m\n\u001b[0;32m    858\u001b[0m                 \u001b[1;34m\"raw_input was called, but this frontend does not support input requests.\"\u001b[0m\u001b[1;33m\u001b[0m\u001b[1;33m\u001b[0m\u001b[0m\n\u001b[0;32m    859\u001b[0m             )\n\u001b[1;32m--> 860\u001b[1;33m         return self._input_request(str(prompt),\n\u001b[0m\u001b[0;32m    861\u001b[0m             \u001b[0mself\u001b[0m\u001b[1;33m.\u001b[0m\u001b[0m_parent_ident\u001b[0m\u001b[1;33m,\u001b[0m\u001b[1;33m\u001b[0m\u001b[1;33m\u001b[0m\u001b[0m\n\u001b[0;32m    862\u001b[0m             \u001b[0mself\u001b[0m\u001b[1;33m.\u001b[0m\u001b[0m_parent_header\u001b[0m\u001b[1;33m,\u001b[0m\u001b[1;33m\u001b[0m\u001b[1;33m\u001b[0m\u001b[0m\n",
      "\u001b[1;32m~\\anaconda3\\lib\\site-packages\\ipykernel\\kernelbase.py\u001b[0m in \u001b[0;36m_input_request\u001b[1;34m(self, prompt, ident, parent, password)\u001b[0m\n\u001b[0;32m    902\u001b[0m             \u001b[1;32mexcept\u001b[0m \u001b[0mKeyboardInterrupt\u001b[0m\u001b[1;33m:\u001b[0m\u001b[1;33m\u001b[0m\u001b[1;33m\u001b[0m\u001b[0m\n\u001b[0;32m    903\u001b[0m                 \u001b[1;31m# re-raise KeyboardInterrupt, to truncate traceback\u001b[0m\u001b[1;33m\u001b[0m\u001b[1;33m\u001b[0m\u001b[1;33m\u001b[0m\u001b[0m\n\u001b[1;32m--> 904\u001b[1;33m                 \u001b[1;32mraise\u001b[0m \u001b[0mKeyboardInterrupt\u001b[0m\u001b[1;33m(\u001b[0m\u001b[1;34m\"Interrupted by user\"\u001b[0m\u001b[1;33m)\u001b[0m \u001b[1;32mfrom\u001b[0m \u001b[1;32mNone\u001b[0m\u001b[1;33m\u001b[0m\u001b[1;33m\u001b[0m\u001b[0m\n\u001b[0m\u001b[0;32m    905\u001b[0m             \u001b[1;32mexcept\u001b[0m \u001b[0mException\u001b[0m \u001b[1;32mas\u001b[0m \u001b[0me\u001b[0m\u001b[1;33m:\u001b[0m\u001b[1;33m\u001b[0m\u001b[1;33m\u001b[0m\u001b[0m\n\u001b[0;32m    906\u001b[0m                 \u001b[0mself\u001b[0m\u001b[1;33m.\u001b[0m\u001b[0mlog\u001b[0m\u001b[1;33m.\u001b[0m\u001b[0mwarning\u001b[0m\u001b[1;33m(\u001b[0m\u001b[1;34m\"Invalid Message:\"\u001b[0m\u001b[1;33m,\u001b[0m \u001b[0mexc_info\u001b[0m\u001b[1;33m=\u001b[0m\u001b[1;32mTrue\u001b[0m\u001b[1;33m)\u001b[0m\u001b[1;33m\u001b[0m\u001b[1;33m\u001b[0m\u001b[0m\n",
      "\u001b[1;31mKeyboardInterrupt\u001b[0m: Interrupted by user"
     ]
    }
   ],
   "source": [
    "# Write a program that takes a word from the user and \n",
    "# checks if it is a palindrome\n",
    "\n",
    "def is_palindrome(word):\n",
    "    return word == word[::-1]\n",
    "\n",
    "word = input(\"Enter a word: \")\n",
    "if is_palindrome(word):\n",
    "    print(\"The word is a palindrome.\")\n",
    "else:\n",
    "    print(\"The word is not a palindrome.\")"
   ]
  },
  {
   "cell_type": "code",
   "execution_count": 241,
   "id": "c021c7fe",
   "metadata": {},
   "outputs": [
    {
     "name": "stdout",
     "output_type": "stream",
     "text": [
      "Enter a sentence: joe\n",
      "Number of vowels: 2\n",
      "Number of consonants: 1\n"
     ]
    }
   ],
   "source": [
    "# Write a program that takes a sentence from the user and calculates \n",
    "# the number of vowels and consonants in the sentence\n",
    "\n",
    "# Create two variables to store the count of vowels and consonants\n",
    "vowel_count = 0\n",
    "consonant_count = 0\n",
    "\n",
    "# Get the sentence from the user\n",
    "sentence = input(\"Enter a sentence: \")\n",
    "\n",
    "# Convert the sentence to lowercase so we can compare the characters to lowercase vowels\n",
    "sentence = sentence.lower()\n",
    "\n",
    "# Loop through each character in the sentence\n",
    "for char in sentence:\n",
    "    # Check if the character is a vowel\n",
    "    if char in 'aeiou':\n",
    "        vowel_count += 1\n",
    "    # Check if the character is a consonant\n",
    "    elif char.isalpha():\n",
    "        consonant_count += 1\n",
    "\n",
    "# Print the number of vowels and consonants\n",
    "print(\"Number of vowels:\", vowel_count)\n",
    "print(\"Number of consonants:\", consonant_count)"
   ]
  },
  {
   "cell_type": "code",
   "execution_count": 234,
   "id": "ea33f455",
   "metadata": {},
   "outputs": [
    {
     "name": "stdout",
     "output_type": "stream",
     "text": [
      "2\n",
      "\n",
      "0\n",
      "1\n",
      "2\n"
     ]
    }
   ],
   "source": [
    "indexValue = 2\n",
    "print(indexValue)\n",
    "print(\"\")\n",
    "for indexValue in range(3):\n",
    "    print(indexValue)"
   ]
  },
  {
   "cell_type": "code",
   "execution_count": 235,
   "id": "6f7f8408",
   "metadata": {},
   "outputs": [],
   "source": [
    "# Write a function that takes two string parameters s1 and s2, \n",
    "# where the length of s1 is larger than the length of s2, and returns \n",
    "# the number of times that s2 can be found in s1. For example, if s1 is \n",
    "# “ABABA” and s2 is “ABA”, the returned number is 2; if s1 is “AAAAA” and s2 \n",
    "# is “AA”, the returned number is 4.\n",
    "\n",
    "def counting(s1, s2):\n",
    "    count = 0\n",
    "    # loop s1\n",
    "    for i in range(len(s1) - len(s2) +1):\n",
    "        # compare part of s1 with s2\n",
    "        if s1[i:i+len(s2)] == s2:\n",
    "            count +=1\n",
    "\n",
    "    return count"
   ]
  },
  {
   "cell_type": "code",
   "execution_count": 259,
   "id": "754dd982",
   "metadata": {},
   "outputs": [
    {
     "name": "stdout",
     "output_type": "stream",
     "text": [
      "Welcome! What would you like to do?\n",
      "\n",
      "[1] Enter 1 to print Half string.\n",
      "[2] Enter 2 to print First three characters.\n",
      "[q] Enter 'q' to print quit.\n",
      "Enter your option:1\n",
      "Please input string of even length:helloworld\n",
      "world\n",
      "\n",
      "\n",
      "[1] Enter 1 to print Half string.\n",
      "[2] Enter 2 to print First three characters.\n",
      "[q] Enter 'q' to print quit.\n",
      "Enter your option:1\n",
      "Please input string of even length:hel\n",
      "hi\n",
      "Please enter an even string.\n",
      "\n",
      "\n",
      "[1] Enter 1 to print Half string.\n",
      "[2] Enter 2 to print First three characters.\n",
      "[q] Enter 'q' to print quit.\n",
      "Enter your option:2\n",
      "Please enter a string:joe\n",
      "joe\n",
      "\n",
      "\n",
      "[1] Enter 1 to print Half string.\n",
      "[2] Enter 2 to print First three characters.\n",
      "[q] Enter 'q' to print quit.\n",
      "Enter your option:2\n",
      "Please enter a string:\n",
      "Empty string.\n",
      "\n",
      "\n",
      "[1] Enter 1 to print Half string.\n",
      "[2] Enter 2 to print First three characters.\n",
      "[q] Enter 'q' to print quit.\n",
      "Enter your option:2\n",
      "Please enter a string:bobjoe\n",
      "bob\n",
      "\n",
      "\n",
      "[1] Enter 1 to print Half string.\n",
      "[2] Enter 2 to print First three characters.\n",
      "[q] Enter 'q' to print quit.\n",
      "Enter your option:2\n",
      "Please enter a string:he\n",
      "he\n",
      "\n",
      "\n",
      "[1] Enter 1 to print Half string.\n",
      "[2] Enter 2 to print First three characters.\n",
      "[q] Enter 'q' to print quit.\n",
      "Enter your option:q\n",
      "See you later\n"
     ]
    }
   ],
   "source": [
    "#Print welcome statement \n",
    "print(\"Welcome! What would you like to do?\" '\\n')\n",
    "\n",
    "\n",
    "#create functions for halfstring\n",
    "def halfstring(word):\n",
    "    length_of_word = len(word)\n",
    "    if length_of_word % 2 == 0:\n",
    "        print(word [length_of_word //2:])\n",
    "    else:\n",
    "        print('Please enter an even string.')\n",
    "        \n",
    "#create function for first three character\n",
    "def first_three_character(x):\n",
    "    length_of_x = len(x)\n",
    "    if length_of_x <= 3:\n",
    "        print (x)\n",
    "    else:\n",
    "        print(x [:3])\n",
    "\n",
    "#print while loop\n",
    "while True:\n",
    "    print(\"[1] Enter 1 to print Half string.\")\n",
    "    print(\"[2] Enter 2 to print First three characters.\")\n",
    "    print(\"[q] Enter 'q' to print quit.\")\n",
    "    option = input('Enter your option:')\n",
    "    if option == \"1\":\n",
    "        string = input('Please input string of even length:')\n",
    "        halfstring(string)\n",
    "        print('\\n')\n",
    "    elif option == \"q\":\n",
    "        print('See you later')\n",
    "        break\n",
    "    elif option == \"2\":\n",
    "        string = input('Please enter a string:')\n",
    "        if string != '':\n",
    "            first_three_character(string)\n",
    "        elif string == '':\n",
    "            print(\"Empty string.\")\n",
    "        print('\\n')"
   ]
  },
  {
   "cell_type": "code",
   "execution_count": 264,
   "id": "d7952100",
   "metadata": {},
   "outputs": [
    {
     "name": "stdout",
     "output_type": "stream",
     "text": [
      "how are you doing today? great\n",
      "hi\n"
     ]
    }
   ],
   "source": [
    "lst = ['good','great']\n",
    "\n",
    "response = input(\"how are you doing today? \")\n",
    "\n",
    "for i in lst:\n",
    "    if i in response:\n",
    "        print('hi')"
   ]
  },
  {
   "cell_type": "code",
   "execution_count": 266,
   "id": "ade40bc3",
   "metadata": {},
   "outputs": [
    {
     "name": "stdout",
     "output_type": "stream",
     "text": [
      "HI\n",
      "hi\n"
     ]
    }
   ],
   "source": [
    "s = \"HI\"\n",
    "print(s.lower().upper())\n",
    "print(s.upper().lower())"
   ]
  },
  {
   "cell_type": "code",
   "execution_count": 270,
   "id": "ab9ff0fe",
   "metadata": {},
   "outputs": [
    {
     "name": "stdout",
     "output_type": "stream",
     "text": [
      "We will upper-case your word, please enter a word: Hello\n",
      "isolated: HELLO\n",
      "original: Hello\n",
      "updated: HELLO\n"
     ]
    }
   ],
   "source": [
    "userinput = input(\"We will upper-case your word, please enter a word: \")\n",
    "\n",
    "print('isolated:',userinput.lower().upper())\n",
    "\n",
    "print('original:',userinput)\n",
    "\n",
    "userinput = userinput.lower().upper()\n",
    "print('updated:',userinput)"
   ]
  },
  {
   "cell_type": "code",
   "execution_count": 276,
   "id": "ce19d261",
   "metadata": {},
   "outputs": [
    {
     "name": "stdout",
     "output_type": "stream",
     "text": [
      "8240.0\n",
      "8487.2\n",
      "8741.816\n",
      "9004.07048\n",
      "9274.1925944\n"
     ]
    }
   ],
   "source": [
    "og = 8000\n",
    "\n",
    "for i in range(5):\n",
    "    og = og + og*(3/100)\n",
    "    print(og)"
   ]
  },
  {
   "cell_type": "code",
   "execution_count": 12,
   "id": "ea943d19",
   "metadata": {},
   "outputs": [
    {
     "name": "stdout",
     "output_type": "stream",
     "text": [
      "a!a!a\n"
     ]
    }
   ],
   "source": [
    "string = \"a!a!a!\"\n",
    "print(string.strip('!'))"
   ]
  },
  {
   "cell_type": "code",
   "execution_count": 9,
   "id": "9cacd6d0",
   "metadata": {},
   "outputs": [
    {
     "name": "stdout",
     "output_type": "stream",
     "text": [
      "banana\n"
     ]
    }
   ],
   "source": [
    "txt = \",,,,,rrttgg.....banana....rrr\"\n",
    "\n",
    "x = txt.strip(\",.grt\")\n",
    "\n",
    "print(x)"
   ]
  },
  {
   "cell_type": "code",
   "execution_count": 15,
   "id": "a0b6ff94",
   "metadata": {},
   "outputs": [
    {
     "name": "stdout",
     "output_type": "stream",
     "text": [
      "1 + 2 = 3\n"
     ]
    }
   ],
   "source": [
    "first = 1\n",
    "second = 2\n",
    "result = first + second\n",
    "\n",
    "string = \"hi\"\n",
    "\n",
    "print(first,\"+\",second,\"=\",result)"
   ]
  },
  {
   "cell_type": "code",
   "execution_count": 16,
   "id": "e52c6b6f",
   "metadata": {},
   "outputs": [
    {
     "name": "stdout",
     "output_type": "stream",
     "text": [
      "select operator 1 2 3 44\n"
     ]
    }
   ],
   "source": [
    "operation = input(\"select operator 1 2 3 4\")"
   ]
  },
  {
   "cell_type": "code",
   "execution_count": 18,
   "id": "07d579e1",
   "metadata": {},
   "outputs": [
    {
     "name": "stdout",
     "output_type": "stream",
     "text": [
      "true\n"
     ]
    }
   ],
   "source": [
    "'''\n",
    "while --> if\n",
    "\n",
    "\n",
    "\n",
    "for --> iterative\n",
    "'''\n",
    "x = 0\n",
    "\n",
    "if True:\n",
    "    print('true')\n",
    "elif x>3:\n",
    "    print(\"True\")"
   ]
  },
  {
   "cell_type": "code",
   "execution_count": 21,
   "id": "57b9dfb5",
   "metadata": {},
   "outputs": [
    {
     "name": "stdout",
     "output_type": "stream",
     "text": [
      "1\n",
      "2\n",
      "3\n",
      "4\n",
      "5\n"
     ]
    }
   ],
   "source": [
    "x=0\n",
    "\n",
    "while x !=5:\n",
    "    x+=1\n",
    "    print(x)\n"
   ]
  },
  {
   "cell_type": "code",
   "execution_count": 25,
   "id": "b29e4d25",
   "metadata": {},
   "outputs": [
    {
     "name": "stdout",
     "output_type": "stream",
     "text": [
      "Empty String\n"
     ]
    }
   ],
   "source": [
    "def first_three_char(string):\n",
    "    if len(string) >= 3:\n",
    "        print(string[:3])\n",
    "    elif 0 < len(string) < 3:\n",
    "        print(string[:])\n",
    "    elif len(string) == 0:\n",
    "        print(\"Empty String\")\n",
    "        \n",
    "first_three_char(\"\")"
   ]
  },
  {
   "cell_type": "code",
   "execution_count": 45,
   "id": "a7cb21aa",
   "metadata": {},
   "outputs": [
    {
     "name": "stdout",
     "output_type": "stream",
     "text": [
      "37 - 3 = 12.333333333333334\n"
     ]
    }
   ],
   "source": [
    "first = 37\n",
    "second = 3\n",
    "result = first / second\n",
    "\n",
    "operator = 2\n",
    "print(f'{first} {[\"+\",\"-\",\"/\"][operator-1]} {second} = {result}')"
   ]
  },
  {
   "cell_type": "code",
   "execution_count": 47,
   "id": "0c828fd7",
   "metadata": {},
   "outputs": [
    {
     "name": "stdout",
     "output_type": "stream",
     "text": [
      "hi5\n",
      "1234: 1\n",
      "1\n",
      "invalid\n"
     ]
    },
    {
     "ename": "KeyboardInterrupt",
     "evalue": "Interrupted by user",
     "output_type": "error",
     "traceback": [
      "\u001b[1;31m---------------------------------------------------------------------------\u001b[0m",
      "\u001b[1;31mKeyboardInterrupt\u001b[0m                         Traceback (most recent call last)",
      "\u001b[1;32m~\\AppData\\Local\\Temp/ipykernel_15716/2894204909.py\u001b[0m in \u001b[0;36m<module>\u001b[1;34m\u001b[0m\n\u001b[0;32m      1\u001b[0m \u001b[0mk\u001b[0m \u001b[1;33m=\u001b[0m \u001b[0mint\u001b[0m\u001b[1;33m(\u001b[0m\u001b[0minput\u001b[0m\u001b[1;33m(\u001b[0m\u001b[1;34m'hi'\u001b[0m\u001b[1;33m)\u001b[0m\u001b[1;33m)\u001b[0m\u001b[1;33m\u001b[0m\u001b[1;33m\u001b[0m\u001b[0m\n\u001b[0;32m      2\u001b[0m \u001b[1;32mfor\u001b[0m \u001b[0mi\u001b[0m \u001b[1;32min\u001b[0m \u001b[0mrange\u001b[0m\u001b[1;33m(\u001b[0m\u001b[0mk\u001b[0m\u001b[1;33m)\u001b[0m\u001b[1;33m:\u001b[0m\u001b[1;33m\u001b[0m\u001b[1;33m\u001b[0m\u001b[0m\n\u001b[1;32m----> 3\u001b[1;33m     \u001b[0mop\u001b[0m \u001b[1;33m=\u001b[0m \u001b[0mint\u001b[0m\u001b[1;33m(\u001b[0m\u001b[0minput\u001b[0m\u001b[1;33m(\u001b[0m\u001b[1;34m\"1234: \"\u001b[0m\u001b[1;33m)\u001b[0m\u001b[1;33m)\u001b[0m\u001b[1;33m\u001b[0m\u001b[1;33m\u001b[0m\u001b[0m\n\u001b[0m\u001b[0;32m      4\u001b[0m     \u001b[0mprint\u001b[0m\u001b[1;33m(\u001b[0m\u001b[0mop\u001b[0m\u001b[1;33m)\u001b[0m\u001b[1;33m\u001b[0m\u001b[1;33m\u001b[0m\u001b[0m\n\u001b[0;32m      5\u001b[0m     \u001b[1;32mif\u001b[0m \u001b[0mop\u001b[0m \u001b[1;32min\u001b[0m \u001b[1;33m[\u001b[0m\u001b[1;34m'1'\u001b[0m\u001b[1;33m,\u001b[0m\u001b[1;34m'2'\u001b[0m\u001b[1;33m,\u001b[0m\u001b[1;34m'3'\u001b[0m\u001b[1;33m,\u001b[0m\u001b[1;34m'4'\u001b[0m\u001b[1;33m]\u001b[0m\u001b[1;33m:\u001b[0m\u001b[1;33m\u001b[0m\u001b[1;33m\u001b[0m\u001b[0m\n",
      "\u001b[1;32m~\\Anaconda3\\lib\\site-packages\\ipykernel\\kernelbase.py\u001b[0m in \u001b[0;36mraw_input\u001b[1;34m(self, prompt)\u001b[0m\n\u001b[0;32m   1008\u001b[0m             \u001b[0mself\u001b[0m\u001b[1;33m.\u001b[0m\u001b[0m_parent_ident\u001b[0m\u001b[1;33m[\u001b[0m\u001b[1;34m\"shell\"\u001b[0m\u001b[1;33m]\u001b[0m\u001b[1;33m,\u001b[0m\u001b[1;33m\u001b[0m\u001b[1;33m\u001b[0m\u001b[0m\n\u001b[0;32m   1009\u001b[0m             \u001b[0mself\u001b[0m\u001b[1;33m.\u001b[0m\u001b[0mget_parent\u001b[0m\u001b[1;33m(\u001b[0m\u001b[1;34m\"shell\"\u001b[0m\u001b[1;33m)\u001b[0m\u001b[1;33m,\u001b[0m\u001b[1;33m\u001b[0m\u001b[1;33m\u001b[0m\u001b[0m\n\u001b[1;32m-> 1010\u001b[1;33m             \u001b[0mpassword\u001b[0m\u001b[1;33m=\u001b[0m\u001b[1;32mFalse\u001b[0m\u001b[1;33m,\u001b[0m\u001b[1;33m\u001b[0m\u001b[1;33m\u001b[0m\u001b[0m\n\u001b[0m\u001b[0;32m   1011\u001b[0m         )\n\u001b[0;32m   1012\u001b[0m \u001b[1;33m\u001b[0m\u001b[0m\n",
      "\u001b[1;32m~\\Anaconda3\\lib\\site-packages\\ipykernel\\kernelbase.py\u001b[0m in \u001b[0;36m_input_request\u001b[1;34m(self, prompt, ident, parent, password)\u001b[0m\n\u001b[0;32m   1049\u001b[0m             \u001b[1;32mexcept\u001b[0m \u001b[0mKeyboardInterrupt\u001b[0m\u001b[1;33m:\u001b[0m\u001b[1;33m\u001b[0m\u001b[1;33m\u001b[0m\u001b[0m\n\u001b[0;32m   1050\u001b[0m                 \u001b[1;31m# re-raise KeyboardInterrupt, to truncate traceback\u001b[0m\u001b[1;33m\u001b[0m\u001b[1;33m\u001b[0m\u001b[1;33m\u001b[0m\u001b[0m\n\u001b[1;32m-> 1051\u001b[1;33m                 \u001b[1;32mraise\u001b[0m \u001b[0mKeyboardInterrupt\u001b[0m\u001b[1;33m(\u001b[0m\u001b[1;34m\"Interrupted by user\"\u001b[0m\u001b[1;33m)\u001b[0m \u001b[1;32mfrom\u001b[0m \u001b[1;32mNone\u001b[0m\u001b[1;33m\u001b[0m\u001b[1;33m\u001b[0m\u001b[0m\n\u001b[0m\u001b[0;32m   1052\u001b[0m             \u001b[1;32mexcept\u001b[0m \u001b[0mException\u001b[0m\u001b[1;33m:\u001b[0m\u001b[1;33m\u001b[0m\u001b[1;33m\u001b[0m\u001b[0m\n\u001b[0;32m   1053\u001b[0m                 \u001b[0mself\u001b[0m\u001b[1;33m.\u001b[0m\u001b[0mlog\u001b[0m\u001b[1;33m.\u001b[0m\u001b[0mwarning\u001b[0m\u001b[1;33m(\u001b[0m\u001b[1;34m\"Invalid Message:\"\u001b[0m\u001b[1;33m,\u001b[0m \u001b[0mexc_info\u001b[0m\u001b[1;33m=\u001b[0m\u001b[1;32mTrue\u001b[0m\u001b[1;33m)\u001b[0m\u001b[1;33m\u001b[0m\u001b[1;33m\u001b[0m\u001b[0m\n",
      "\u001b[1;31mKeyboardInterrupt\u001b[0m: Interrupted by user"
     ]
    }
   ],
   "source": [
    "k = int(input('hi'))\n",
    "for i in range(k):\n",
    "    op = int(input(\"1234: \"))\n",
    "    if op in ['1','2','3','4']: # haha strings you check for ints L\n",
    "        first = int(input(\"first num:\"))\n",
    "        second = int(input(\"second num:\"))\n",
    "\n",
    "        if first >= 0 and first <= 100 and second >= 0 and second <= 100:\n",
    "            if op == 1:\n",
    "                result = first + second\n",
    "            elif op == 2:\n",
    "                result = first - second\n",
    "            elif op == 3:\n",
    "                result = first * second\n",
    "            else:\n",
    "                if second == 0:\n",
    "                    print('dem 0')\n",
    "                    continue\n",
    "                else:\n",
    "                    result = first / second\n",
    "            print(f'{first} {[\"+\",\"-\",\"/\"][operator-1]} {second} = {result}')\n",
    "        else:\n",
    "            print('magic cal cant')\n",
    "    else:\n",
    "        print('invalid')\n",
    "              "
   ]
  },
  {
   "cell_type": "code",
   "execution_count": 61,
   "id": "fa5d698f",
   "metadata": {},
   "outputs": [
    {
     "name": "stdout",
     "output_type": "stream",
     "text": [
      "How many numbers do you want to check?\n",
      "7\n",
      "Enter a positive integer:\n",
      "7\n",
      "7 is a prime number.\n"
     ]
    },
    {
     "ename": "KeyboardInterrupt",
     "evalue": "Interrupted by user",
     "output_type": "error",
     "traceback": [
      "\u001b[1;31m---------------------------------------------------------------------------\u001b[0m",
      "\u001b[1;31mKeyboardInterrupt\u001b[0m                         Traceback (most recent call last)",
      "\u001b[1;32m~\\AppData\\Local\\Temp/ipykernel_15716/348612057.py\u001b[0m in \u001b[0;36m<module>\u001b[1;34m\u001b[0m\n\u001b[0;32m      2\u001b[0m \u001b[0mcount\u001b[0m \u001b[1;33m=\u001b[0m \u001b[1;36m0\u001b[0m\u001b[1;33m\u001b[0m\u001b[1;33m\u001b[0m\u001b[0m\n\u001b[0;32m      3\u001b[0m \u001b[1;32mfor\u001b[0m \u001b[0mi\u001b[0m \u001b[1;32min\u001b[0m \u001b[0mrange\u001b[0m\u001b[1;33m(\u001b[0m\u001b[0mn\u001b[0m\u001b[1;33m)\u001b[0m\u001b[1;33m:\u001b[0m\u001b[1;33m\u001b[0m\u001b[1;33m\u001b[0m\u001b[0m\n\u001b[1;32m----> 4\u001b[1;33m     \u001b[0mx\u001b[0m \u001b[1;33m=\u001b[0m \u001b[0mint\u001b[0m\u001b[1;33m(\u001b[0m\u001b[0minput\u001b[0m\u001b[1;33m(\u001b[0m\u001b[1;34m'Enter a positive integer:\\n'\u001b[0m\u001b[1;33m)\u001b[0m\u001b[1;33m)\u001b[0m\u001b[1;33m\u001b[0m\u001b[1;33m\u001b[0m\u001b[0m\n\u001b[0m\u001b[0;32m      5\u001b[0m     \u001b[1;32mif\u001b[0m \u001b[0mx\u001b[0m \u001b[1;33m<\u001b[0m \u001b[1;36m0\u001b[0m\u001b[1;33m:\u001b[0m\u001b[1;33m\u001b[0m\u001b[1;33m\u001b[0m\u001b[0m\n\u001b[0;32m      6\u001b[0m         \u001b[0mprint\u001b[0m\u001b[1;33m(\u001b[0m\u001b[1;34m\"PrimeFinder ignores negative numbers!\"\u001b[0m\u001b[1;33m)\u001b[0m\u001b[1;33m\u001b[0m\u001b[1;33m\u001b[0m\u001b[0m\n",
      "\u001b[1;32m~\\Anaconda3\\lib\\site-packages\\ipykernel\\kernelbase.py\u001b[0m in \u001b[0;36mraw_input\u001b[1;34m(self, prompt)\u001b[0m\n\u001b[0;32m   1008\u001b[0m             \u001b[0mself\u001b[0m\u001b[1;33m.\u001b[0m\u001b[0m_parent_ident\u001b[0m\u001b[1;33m[\u001b[0m\u001b[1;34m\"shell\"\u001b[0m\u001b[1;33m]\u001b[0m\u001b[1;33m,\u001b[0m\u001b[1;33m\u001b[0m\u001b[1;33m\u001b[0m\u001b[0m\n\u001b[0;32m   1009\u001b[0m             \u001b[0mself\u001b[0m\u001b[1;33m.\u001b[0m\u001b[0mget_parent\u001b[0m\u001b[1;33m(\u001b[0m\u001b[1;34m\"shell\"\u001b[0m\u001b[1;33m)\u001b[0m\u001b[1;33m,\u001b[0m\u001b[1;33m\u001b[0m\u001b[1;33m\u001b[0m\u001b[0m\n\u001b[1;32m-> 1010\u001b[1;33m             \u001b[0mpassword\u001b[0m\u001b[1;33m=\u001b[0m\u001b[1;32mFalse\u001b[0m\u001b[1;33m,\u001b[0m\u001b[1;33m\u001b[0m\u001b[1;33m\u001b[0m\u001b[0m\n\u001b[0m\u001b[0;32m   1011\u001b[0m         )\n\u001b[0;32m   1012\u001b[0m \u001b[1;33m\u001b[0m\u001b[0m\n",
      "\u001b[1;32m~\\Anaconda3\\lib\\site-packages\\ipykernel\\kernelbase.py\u001b[0m in \u001b[0;36m_input_request\u001b[1;34m(self, prompt, ident, parent, password)\u001b[0m\n\u001b[0;32m   1049\u001b[0m             \u001b[1;32mexcept\u001b[0m \u001b[0mKeyboardInterrupt\u001b[0m\u001b[1;33m:\u001b[0m\u001b[1;33m\u001b[0m\u001b[1;33m\u001b[0m\u001b[0m\n\u001b[0;32m   1050\u001b[0m                 \u001b[1;31m# re-raise KeyboardInterrupt, to truncate traceback\u001b[0m\u001b[1;33m\u001b[0m\u001b[1;33m\u001b[0m\u001b[1;33m\u001b[0m\u001b[0m\n\u001b[1;32m-> 1051\u001b[1;33m                 \u001b[1;32mraise\u001b[0m \u001b[0mKeyboardInterrupt\u001b[0m\u001b[1;33m(\u001b[0m\u001b[1;34m\"Interrupted by user\"\u001b[0m\u001b[1;33m)\u001b[0m \u001b[1;32mfrom\u001b[0m \u001b[1;32mNone\u001b[0m\u001b[1;33m\u001b[0m\u001b[1;33m\u001b[0m\u001b[0m\n\u001b[0m\u001b[0;32m   1052\u001b[0m             \u001b[1;32mexcept\u001b[0m \u001b[0mException\u001b[0m\u001b[1;33m:\u001b[0m\u001b[1;33m\u001b[0m\u001b[1;33m\u001b[0m\u001b[0m\n\u001b[0;32m   1053\u001b[0m                 \u001b[0mself\u001b[0m\u001b[1;33m.\u001b[0m\u001b[0mlog\u001b[0m\u001b[1;33m.\u001b[0m\u001b[0mwarning\u001b[0m\u001b[1;33m(\u001b[0m\u001b[1;34m\"Invalid Message:\"\u001b[0m\u001b[1;33m,\u001b[0m \u001b[0mexc_info\u001b[0m\u001b[1;33m=\u001b[0m\u001b[1;32mTrue\u001b[0m\u001b[1;33m)\u001b[0m\u001b[1;33m\u001b[0m\u001b[1;33m\u001b[0m\u001b[0m\n",
      "\u001b[1;31mKeyboardInterrupt\u001b[0m: Interrupted by user"
     ]
    }
   ],
   "source": [
    "n = int(input('How many numbers do you want to check?\\n'))\n",
    "count = 0\n",
    "for i in range(n):\n",
    "    x = int(input('Enter a positive integer:\\n'))\n",
    "    if x < 0:\n",
    "        print(\"PrimeFinder ignores negative numbers!\")\n",
    "    elif x > 1:\n",
    "        for j in range(2, x):\n",
    "            if (x % j) != 0:\n",
    "                count += 1\n",
    "                print(x, \"is a prime number.\")\n",
    "                break\n",
    "print('Total prime numbers:', count)"
   ]
  },
  {
   "cell_type": "code",
   "execution_count": 69,
   "id": "7dbafd54",
   "metadata": {},
   "outputs": [
    {
     "name": "stdout",
     "output_type": "stream",
     "text": [
      "yes\n"
     ]
    }
   ],
   "source": [
    "pico = \"pico\"\n",
    "paco = \"paco\"\n",
    "poco = \"poco\"\n",
    "# pico in [\"pico\",\"paco\",\"pocopoco\"] | paco in [\"pico\",\"paco\",\"pocopoco\"]:\n",
    "com = pico+paco\n",
    "if pico in [\"pico\",\"paco\",\"pocopoco\"] and paco in [\"pico\",\"paco\",\"pocopoco\"]:\n",
    "    print(\"yes\")\n",
    "else:\n",
    "    print(\"no\")"
   ]
  },
  {
   "cell_type": "code",
   "execution_count": 30,
   "id": "f3fdcb08",
   "metadata": {},
   "outputs": [
    {
     "name": "stdout",
     "output_type": "stream",
     "text": [
      "Did you eat? yes\n",
      "1\n",
      "Did you study? yes\n",
      "2\n",
      "Did you do your laundry? yes\n",
      "3\n",
      "Did you call grandma? yes\n",
      "4\n",
      "Good!\n"
     ]
    }
   ],
   "source": [
    "questionList = [\"eat\", \"study\", \"do your laundry\", \"call grandma\"]\n",
    "timesAsked = 0\n",
    "points = 0\n",
    "\n",
    "def question(questionList, timesAsked, points):\n",
    "    answer = input(\"Did you \" + questionList[timesAsked] + \"? \").lower()\n",
    "    if answer == \"yes\":\n",
    "        return 1\n",
    "        #points += 1\n",
    "    elif answer == \"no\" and points > 0:\n",
    "        return 0\n",
    "        #points -= 1\n",
    "    elif answer == \"no\" and points == 0:\n",
    "        pass\n",
    "    else:\n",
    "        print(\"Error\")\n",
    "\n",
    "points = 0        \n",
    "        \n",
    "for i in questionList:\n",
    "    if timesAsked <= 3:\n",
    "        points += question(questionList, timesAsked, points)\n",
    "        \n",
    "        print(points)\n",
    "        timesAsked += 1\n",
    "\n",
    "if points == 0:\n",
    "    print(\"I'm coming over\")\n",
    "elif points >= 1 and points <= 2:\n",
    "    print(\"Ok.\")\n",
    "elif points >= 3:\n",
    "    print(\"Good!\")"
   ]
  },
  {
   "cell_type": "code",
   "execution_count": 33,
   "id": "6e190c22",
   "metadata": {},
   "outputs": [
    {
     "name": "stdout",
     "output_type": "stream",
     "text": [
      "Hi, this is Pchatbot, can I talk to you?\n",
      "y\n",
      "What is your name?\n",
      "joe\n",
      "Nice to meet you, joe.\n",
      "How are you doing today?\n",
      "Good\n",
      "I'm glad you're feeling well, joe.\n"
     ]
    },
    {
     "ename": "KeyboardInterrupt",
     "evalue": "Interrupted by user",
     "output_type": "error",
     "traceback": [
      "\u001b[1;31m---------------------------------------------------------------------------\u001b[0m",
      "\u001b[1;31mKeyboardInterrupt\u001b[0m                         Traceback (most recent call last)",
      "\u001b[1;32m<ipython-input-33-1848512991f7>\u001b[0m in \u001b[0;36m<module>\u001b[1;34m\u001b[0m\n\u001b[0;32m     10\u001b[0m     \u001b[1;32melse\u001b[0m\u001b[1;33m:\u001b[0m\u001b[1;33m\u001b[0m\u001b[1;33m\u001b[0m\u001b[0m\n\u001b[0;32m     11\u001b[0m         \u001b[0mprint\u001b[0m\u001b[1;33m(\u001b[0m\u001b[1;34m'I see!'\u001b[0m\u001b[1;33m)\u001b[0m\u001b[1;33m\u001b[0m\u001b[1;33m\u001b[0m\u001b[0m\n\u001b[1;32m---> 12\u001b[1;33m     \u001b[0muser_age\u001b[0m\u001b[1;33m=\u001b[0m \u001b[0mint\u001b[0m\u001b[1;33m(\u001b[0m\u001b[0minput\u001b[0m\u001b[1;33m(\u001b[0m\u001b[1;34m'How old are you?\\n'\u001b[0m\u001b[1;33m)\u001b[0m\u001b[1;33m)\u001b[0m\u001b[1;33m\u001b[0m\u001b[1;33m\u001b[0m\u001b[0m\n\u001b[0m\u001b[0;32m     13\u001b[0m     \u001b[1;32mif\u001b[0m \u001b[0muser_age\u001b[0m \u001b[1;33m>\u001b[0m \u001b[1;36m18\u001b[0m \u001b[1;32mand\u001b[0m \u001b[0mmood\u001b[0m \u001b[1;32min\u001b[0m \u001b[1;33m{\u001b[0m\u001b[1;34m'Good'\u001b[0m\u001b[1;33m,\u001b[0m \u001b[1;34m\"I'm great\"\u001b[0m\u001b[1;33m,\u001b[0m \u001b[1;34m\"I'm good\"\u001b[0m\u001b[1;33m,\u001b[0m \u001b[1;34m'Fine'\u001b[0m\u001b[1;33m}\u001b[0m\u001b[1;33m:\u001b[0m\u001b[1;33m\u001b[0m\u001b[1;33m\u001b[0m\u001b[0m\n\u001b[0;32m     14\u001b[0m         \u001b[0mprint\u001b[0m\u001b[1;33m(\u001b[0m\u001b[1;34m'You are ready to drive.'\u001b[0m\u001b[1;33m)\u001b[0m\u001b[1;33m\u001b[0m\u001b[1;33m\u001b[0m\u001b[0m\n",
      "\u001b[1;32m~\\anaconda3\\lib\\site-packages\\ipykernel\\kernelbase.py\u001b[0m in \u001b[0;36mraw_input\u001b[1;34m(self, prompt)\u001b[0m\n\u001b[0;32m    858\u001b[0m                 \u001b[1;34m\"raw_input was called, but this frontend does not support input requests.\"\u001b[0m\u001b[1;33m\u001b[0m\u001b[1;33m\u001b[0m\u001b[0m\n\u001b[0;32m    859\u001b[0m             )\n\u001b[1;32m--> 860\u001b[1;33m         return self._input_request(str(prompt),\n\u001b[0m\u001b[0;32m    861\u001b[0m             \u001b[0mself\u001b[0m\u001b[1;33m.\u001b[0m\u001b[0m_parent_ident\u001b[0m\u001b[1;33m,\u001b[0m\u001b[1;33m\u001b[0m\u001b[1;33m\u001b[0m\u001b[0m\n\u001b[0;32m    862\u001b[0m             \u001b[0mself\u001b[0m\u001b[1;33m.\u001b[0m\u001b[0m_parent_header\u001b[0m\u001b[1;33m,\u001b[0m\u001b[1;33m\u001b[0m\u001b[1;33m\u001b[0m\u001b[0m\n",
      "\u001b[1;32m~\\anaconda3\\lib\\site-packages\\ipykernel\\kernelbase.py\u001b[0m in \u001b[0;36m_input_request\u001b[1;34m(self, prompt, ident, parent, password)\u001b[0m\n\u001b[0;32m    902\u001b[0m             \u001b[1;32mexcept\u001b[0m \u001b[0mKeyboardInterrupt\u001b[0m\u001b[1;33m:\u001b[0m\u001b[1;33m\u001b[0m\u001b[1;33m\u001b[0m\u001b[0m\n\u001b[0;32m    903\u001b[0m                 \u001b[1;31m# re-raise KeyboardInterrupt, to truncate traceback\u001b[0m\u001b[1;33m\u001b[0m\u001b[1;33m\u001b[0m\u001b[1;33m\u001b[0m\u001b[0m\n\u001b[1;32m--> 904\u001b[1;33m                 \u001b[1;32mraise\u001b[0m \u001b[0mKeyboardInterrupt\u001b[0m\u001b[1;33m(\u001b[0m\u001b[1;34m\"Interrupted by user\"\u001b[0m\u001b[1;33m)\u001b[0m \u001b[1;32mfrom\u001b[0m \u001b[1;32mNone\u001b[0m\u001b[1;33m\u001b[0m\u001b[1;33m\u001b[0m\u001b[0m\n\u001b[0m\u001b[0;32m    905\u001b[0m             \u001b[1;32mexcept\u001b[0m \u001b[0mException\u001b[0m \u001b[1;32mas\u001b[0m \u001b[0me\u001b[0m\u001b[1;33m:\u001b[0m\u001b[1;33m\u001b[0m\u001b[1;33m\u001b[0m\u001b[0m\n\u001b[0;32m    906\u001b[0m                 \u001b[0mself\u001b[0m\u001b[1;33m.\u001b[0m\u001b[0mlog\u001b[0m\u001b[1;33m.\u001b[0m\u001b[0mwarning\u001b[0m\u001b[1;33m(\u001b[0m\u001b[1;34m\"Invalid Message:\"\u001b[0m\u001b[1;33m,\u001b[0m \u001b[0mexc_info\u001b[0m\u001b[1;33m=\u001b[0m\u001b[1;32mTrue\u001b[0m\u001b[1;33m)\u001b[0m\u001b[1;33m\u001b[0m\u001b[1;33m\u001b[0m\u001b[0m\n",
      "\u001b[1;31mKeyboardInterrupt\u001b[0m: Interrupted by user"
     ]
    }
   ],
   "source": [
    "intro = input('Hi, this is Pchatbot, can I talk to you?\\n')\n",
    "if intro == 'y' or intro == 'Y':\n",
    "    username = input('What is your name?\\n')\n",
    "    print('Nice to meet you, ' + username + '.')\n",
    "    mood = input('How are you doing today?\\n')\n",
    "    if mood in {'Good', \"I'm great\", \"I'm good\", 'Fine'}:\n",
    "        print(\"I'm glad you're feeling well, \" + username + '.')\n",
    "    elif mood in {'Bad', 'Not Okay', \"I'm not feeling good\"}:\n",
    "        print('Have some time to yourself to recharge!')\n",
    "    else:\n",
    "        print('I see!')\n",
    "    user_age= int(input('How old are you?\\n'))\n",
    "    if user_age > 18 and mood in {'Good', \"I'm great\", \"I'm good\", 'Fine'}:\n",
    "        print('You are ready to drive.')\n",
    "    else:\n",
    "        print('Still taking the bus!')\n",
    "elif intro in {'N', 'n'}:\n",
    "    print('Okay! Talk to you soon!')"
   ]
  },
  {
   "cell_type": "code",
   "execution_count": 40,
   "id": "e838b20f",
   "metadata": {},
   "outputs": [
    {
     "name": "stdout",
     "output_type": "stream",
     "text": [
      "Coding_is_Fun\n",
      "n\n"
     ]
    }
   ],
   "source": [
    "w = \"!Coding_is_Fun !\"\n",
    "print(w.strip(\"!_? \"))\n",
    "print(w.strip(\"!_? \").split(\"_\")[-1][-1])\n"
   ]
  },
  {
   "cell_type": "code",
   "execution_count": 41,
   "id": "0956fb94",
   "metadata": {},
   "outputs": [
    {
     "name": "stdout",
     "output_type": "stream",
     "text": [
      "3\n"
     ]
    }
   ],
   "source": [
    "lst = ['1','2','3']\n",
    "print(lst[-1])"
   ]
  },
  {
   "cell_type": "code",
   "execution_count": 1,
   "id": "e4827629",
   "metadata": {},
   "outputs": [],
   "source": [
    "# MINE WORKS\n",
    "\n",
    "# homework2 q3\n",
    "def PaNNaP(source):\n",
    "    source_list = []\n",
    "    source_len = len(source)\n",
    "    \n",
    "    for i in range(source_len):\n",
    "        if source[i] >= 'a' and source[i] <= 'z':\n",
    "            source_list.append(source[i])\n",
    "        elif source[i] >= 'A' and source[i] <= 'Z':\n",
    "            source_list.append(chr(ord(source[i]) + 32))\n",
    "    \n",
    "    source_list_len = len(source_list)\n",
    "    for i in range(source_list_len//2):\n",
    "        if source_list[i] != source_list[source_list_len-i-1]:\n",
    "            print(\"No\")\n",
    "            return\n",
    "    \n",
    "    print(\"Yes\")"
   ]
  },
  {
   "cell_type": "code",
   "execution_count": 2,
   "id": "72e4f38d",
   "metadata": {},
   "outputs": [
    {
     "name": "stdout",
     "output_type": "stream",
     "text": [
      "Yes\n"
     ]
    }
   ],
   "source": [
    "PaNNaP(\"PaNNaP\")"
   ]
  },
  {
   "cell_type": "code",
   "execution_count": 3,
   "id": "46d80e0c",
   "metadata": {},
   "outputs": [],
   "source": [
    "# MINE WORKS\n",
    "\n",
    "# homework2 q2\n",
    "\n",
    "def SubstringFinder2(source, target):\n",
    "    source_len = len(source)\n",
    "    target_len = len(target)\n",
    "    \n",
    "    for i in range(source_len - target_len + 1):\n",
    "        j = 0\n",
    "        while j < target_len:\n",
    "            if source[i + j] != target[j]:\n",
    "                break\n",
    "            j += 1\n",
    "        \n",
    "        if j == target_len:\n",
    "            return i\n",
    "    \n",
    "    return -1"
   ]
  },
  {
   "cell_type": "code",
   "execution_count": 4,
   "id": "b8568189",
   "metadata": {},
   "outputs": [
    {
     "data": {
      "text/plain": [
       "2"
      ]
     },
     "execution_count": 4,
     "metadata": {},
     "output_type": "execute_result"
    }
   ],
   "source": [
    "SubstringFinder2('string','ring')"
   ]
  },
  {
   "cell_type": "code",
   "execution_count": 5,
   "id": "cae48573",
   "metadata": {},
   "outputs": [
    {
     "name": "stdout",
     "output_type": "stream",
     "text": [
      "string\n",
      "ring\n",
      "2\n"
     ]
    }
   ],
   "source": [
    "source = input()\n",
    "target = input()\n",
    "\n",
    "first = 0\n",
    "last = 0 \n",
    "while first + last <len(source): \n",
    "    if source[first+last] !=target[last]:\n",
    "        first += 1\n",
    "        last = 0\n",
    "        continue \n",
    "    last +=1\n",
    "    if last == len(target):\n",
    "        print(first)\n",
    "        break\n",
    "else:\n",
    "    print(-1)"
   ]
  },
  {
   "cell_type": "code",
   "execution_count": 7,
   "id": "be4ee545",
   "metadata": {},
   "outputs": [
    {
     "name": "stdout",
     "output_type": "stream",
     "text": [
      "\n",
      "  @media print {\n",
      "    .ms-editor-squiggles-container {\n",
      "      display:none !important;\n",
      "    }\n",
      "  }\n",
      "  .ms-editor-squiggles-container {\n",
      "    all: initial;\n",
      "  }sfusfusfup\n",
      "4\n",
      "sfus\n"
     ]
    },
    {
     "ename": "KeyboardInterrupt",
     "evalue": "Interrupted by user",
     "output_type": "error",
     "traceback": [
      "\u001b[1;31m---------------------------------------------------------------------------\u001b[0m",
      "\u001b[1;31mKeyboardInterrupt\u001b[0m                         Traceback (most recent call last)",
      "\u001b[1;32m<ipython-input-7-d823f820ace1>\u001b[0m in \u001b[0;36m<module>\u001b[1;34m\u001b[0m\n\u001b[0;32m      5\u001b[0m         \u001b[0mpositive_integer\u001b[0m \u001b[1;33m=\u001b[0m \u001b[0mint\u001b[0m\u001b[1;33m(\u001b[0m\u001b[0minput\u001b[0m\u001b[1;33m(\u001b[0m\u001b[1;33m)\u001b[0m\u001b[1;33m)\u001b[0m\u001b[1;33m\u001b[0m\u001b[1;33m\u001b[0m\u001b[0m\n\u001b[0;32m      6\u001b[0m         \u001b[0mprint\u001b[0m\u001b[1;33m(\u001b[0m\u001b[0msource\u001b[0m\u001b[1;33m[\u001b[0m\u001b[1;36m0\u001b[0m\u001b[1;33m:\u001b[0m\u001b[0mpositive_integer\u001b[0m\u001b[1;33m]\u001b[0m\u001b[1;33m)\u001b[0m\u001b[1;33m\u001b[0m\u001b[1;33m\u001b[0m\u001b[0m\n\u001b[1;32m----> 7\u001b[1;33m         \u001b[0msource\u001b[0m \u001b[1;33m=\u001b[0m \u001b[0minput\u001b[0m\u001b[1;33m(\u001b[0m\u001b[1;33m)\u001b[0m\u001b[1;33m\u001b[0m\u001b[1;33m\u001b[0m\u001b[0m\n\u001b[0m\u001b[0;32m      8\u001b[0m \u001b[1;33m\u001b[0m\u001b[0m\n\u001b[0;32m      9\u001b[0m     \u001b[1;32melse\u001b[0m\u001b[1;33m:\u001b[0m\u001b[1;33m\u001b[0m\u001b[1;33m\u001b[0m\u001b[0m\n",
      "\u001b[1;32m~\\anaconda3\\lib\\site-packages\\ipykernel\\kernelbase.py\u001b[0m in \u001b[0;36mraw_input\u001b[1;34m(self, prompt)\u001b[0m\n\u001b[0;32m    858\u001b[0m                 \u001b[1;34m\"raw_input was called, but this frontend does not support input requests.\"\u001b[0m\u001b[1;33m\u001b[0m\u001b[1;33m\u001b[0m\u001b[0m\n\u001b[0;32m    859\u001b[0m             )\n\u001b[1;32m--> 860\u001b[1;33m         return self._input_request(str(prompt),\n\u001b[0m\u001b[0;32m    861\u001b[0m             \u001b[0mself\u001b[0m\u001b[1;33m.\u001b[0m\u001b[0m_parent_ident\u001b[0m\u001b[1;33m,\u001b[0m\u001b[1;33m\u001b[0m\u001b[1;33m\u001b[0m\u001b[0m\n\u001b[0;32m    862\u001b[0m             \u001b[0mself\u001b[0m\u001b[1;33m.\u001b[0m\u001b[0m_parent_header\u001b[0m\u001b[1;33m,\u001b[0m\u001b[1;33m\u001b[0m\u001b[1;33m\u001b[0m\u001b[0m\n",
      "\u001b[1;32m~\\anaconda3\\lib\\site-packages\\ipykernel\\kernelbase.py\u001b[0m in \u001b[0;36m_input_request\u001b[1;34m(self, prompt, ident, parent, password)\u001b[0m\n\u001b[0;32m    902\u001b[0m             \u001b[1;32mexcept\u001b[0m \u001b[0mKeyboardInterrupt\u001b[0m\u001b[1;33m:\u001b[0m\u001b[1;33m\u001b[0m\u001b[1;33m\u001b[0m\u001b[0m\n\u001b[0;32m    903\u001b[0m                 \u001b[1;31m# re-raise KeyboardInterrupt, to truncate traceback\u001b[0m\u001b[1;33m\u001b[0m\u001b[1;33m\u001b[0m\u001b[1;33m\u001b[0m\u001b[0m\n\u001b[1;32m--> 904\u001b[1;33m                 \u001b[1;32mraise\u001b[0m \u001b[0mKeyboardInterrupt\u001b[0m\u001b[1;33m(\u001b[0m\u001b[1;34m\"Interrupted by user\"\u001b[0m\u001b[1;33m)\u001b[0m \u001b[1;32mfrom\u001b[0m \u001b[1;32mNone\u001b[0m\u001b[1;33m\u001b[0m\u001b[1;33m\u001b[0m\u001b[0m\n\u001b[0m\u001b[0;32m    905\u001b[0m             \u001b[1;32mexcept\u001b[0m \u001b[0mException\u001b[0m \u001b[1;32mas\u001b[0m \u001b[0me\u001b[0m\u001b[1;33m:\u001b[0m\u001b[1;33m\u001b[0m\u001b[1;33m\u001b[0m\u001b[0m\n\u001b[0;32m    906\u001b[0m                 \u001b[0mself\u001b[0m\u001b[1;33m.\u001b[0m\u001b[0mlog\u001b[0m\u001b[1;33m.\u001b[0m\u001b[0mwarning\u001b[0m\u001b[1;33m(\u001b[0m\u001b[1;34m\"Invalid Message:\"\u001b[0m\u001b[1;33m,\u001b[0m \u001b[0mexc_info\u001b[0m\u001b[1;33m=\u001b[0m\u001b[1;32mTrue\u001b[0m\u001b[1;33m)\u001b[0m\u001b[1;33m\u001b[0m\u001b[1;33m\u001b[0m\u001b[0m\n",
      "\u001b[1;31mKeyboardInterrupt\u001b[0m: Interrupted by user"
     ]
    }
   ],
   "source": [
    "source = input()\n",
    "\n",
    "while source != 'quit':\n",
    "    if source != 'quit':\n",
    "        positive_integer = int(input())\n",
    "        print(source[0:positive_integer])\n",
    "        source = input()\n",
    "        \n",
    "    else:\n",
    "        break"
   ]
  },
  {
   "cell_type": "code",
   "execution_count": null,
   "id": "449f54b1",
   "metadata": {},
   "outputs": [
    {
     "name": "stdout",
     "output_type": "stream",
     "text": [
      "sfusfusfup\n",
      "4\n",
      "sfup\n"
     ]
    }
   ],
   "source": [
    "def SubstringFinder1(source, k):\n",
    "    max_unique_chars = 0\n",
    "    max_unique_substring = ''\n",
    "    for i in range(len(source) - k + 1):\n",
    "        substring = source[i:i + k]\n",
    "        unique_chars = len(set(substring))\n",
    "        if unique_chars > max_unique_chars:\n",
    "            max_unique_chars = unique_chars\n",
    "            max_unique_substring = substring\n",
    "    return max_unique_substring\n",
    "\n",
    "while True:\n",
    "    source = input()\n",
    "    if source == 'quit':\n",
    "        break\n",
    "    k = int(input())\n",
    "    result = SubstringFinder1(source, k)\n",
    "    print(result)"
   ]
  },
  {
   "cell_type": "code",
   "execution_count": 14,
   "id": "c04a36f0",
   "metadata": {},
   "outputs": [
    {
     "data": {
      "text/plain": [
       "[['eat', 'tea', 'ate'], ['tan', 'nat'], ['bat']]"
      ]
     },
     "metadata": {},
     "output_type": "display_data"
    }
   ],
   "source": [
    "# testing leetcode question\n",
    "\n",
    "strs = [\"eat\",\"tea\",\"tan\",\"ate\",\"nat\",\"bat\"]\n",
    "\n",
    "def sortString(str):\n",
    "    str = ''.join(sorted(str))\n",
    "    return str\n",
    "\n",
    "def anagram(strs):\n",
    "    hashmap = {}\n",
    "    for i in strs:\n",
    "        sorted_str = sortString(i)\n",
    "        if sorted_str not in hashmap:\n",
    "            hashmap[sorted_str] = [i]\n",
    "        else:\n",
    "            hashmap[sorted_str].append(i)\n",
    "        \n",
    "    return([i for i in hashmap.values()]) \n",
    "    \n",
    "anagram(strs)\n",
    "    "
   ]
  },
  {
   "cell_type": "code",
   "execution_count": 3,
   "id": "31005267",
   "metadata": {},
   "outputs": [
    {
     "name": "stdout",
     "output_type": "stream",
     "text": [
      "['P', 'h', 'n', 'o', 't', 'y']\n"
     ]
    }
   ],
   "source": [
    "py_string = 'Python'\n",
    "print(sorted(py_string))"
   ]
  },
  {
   "cell_type": "code",
   "execution_count": 5,
   "id": "91f6933c",
   "metadata": {},
   "outputs": [
    {
     "name": "stdout",
     "output_type": "stream",
     "text": [
      "['ate', 'bat', 'eat', 'nat', 'tan', 'tea']\n"
     ]
    },
    {
     "data": {
      "text/plain": [
       "['eat', 'tea', 'tan', 'ate', 'nat', 'bat']"
      ]
     },
     "metadata": {},
     "output_type": "display_data"
    }
   ],
   "source": [
    "strs = [\"eat\",\"tea\",\"tan\",\"ate\",\"nat\",\"bat\"]\n",
    "\n",
    "print(sorted(strs))\n",
    "display(strs)"
   ]
  },
  {
   "cell_type": "code",
   "execution_count": 28,
   "id": "b3c238ee",
   "metadata": {},
   "outputs": [
    {
     "name": "stdout",
     "output_type": "stream",
     "text": [
      "[['b', 'c', 'd'], ['e', 'f']]\n",
      "[['b', 'c', 'd'], ['e', 'f']]\n"
     ]
    }
   ],
   "source": [
    "lst = ['a',['b','c','d'],['e','f','g']]\n",
    "\n",
    "lst2 = lst\n",
    "\n",
    "lst2[2].remove('g')\n",
    "lst2.remove('a')\n",
    "\n",
    "print(lst)\n",
    "print(lst2)"
   ]
  },
  {
   "cell_type": "code",
   "execution_count": 9,
   "id": "b562468a",
   "metadata": {},
   "outputs": [
    {
     "name": "stdout",
     "output_type": "stream",
     "text": [
      "sugoi\n",
      "No\n",
      "No\n",
      "Yes\n"
     ]
    }
   ],
   "source": [
    "# mine works\n",
    "\n",
    "# hw2 q3 NOT as a function\n",
    "\n",
    "source = input()\n",
    "source_list = []\n",
    "source_len = len(source)\n",
    "\n",
    "for i in range(source_len):\n",
    "    if source[i] >= 'a' and source[i] <= 'z':\n",
    "        source_list.append(source[i])\n",
    "    elif source[i] >= 'A' and source[i] <= 'Z':\n",
    "        source_list.append(chr(ord(source[i]) + 32))\n",
    "\n",
    "source_list_len = len(source_list)\n",
    "diff = True\n",
    "for i in range(source_list_len//2):\n",
    "    if source_list[i] != source_list[source_list_len-i-1]:\n",
    "        diff = False\n",
    "    \n",
    "if diff:\n",
    "    print('Yes')\n",
    "else:\n",
    "    print('No')"
   ]
  },
  {
   "cell_type": "code",
   "execution_count": null,
   "id": "6d083ebd",
   "metadata": {},
   "outputs": [],
   "source": [
    "def is_prime(n):\n",
    "    if n < 2:\n",
    "        return False\n",
    "    for i in range(2, x):\n",
    "        if n % i == 0:\n",
    "            return False\n",
    "    return True\n",
    "\n",
    "def prime_divisors(n):\n",
    "    count = 0\n",
    "    for i in range(2, n+1):\n",
    "        if is_prime(i) and n % i == 0:\n",
    "            count += 1\n",
    "    return count\n",
    "\n",
    "def prime_numbers_less_than(n):\n",
    "    count = 0\n",
    "    for i in range(2, n):\n",
    "        if is_prime(i):\n",
    "            count += 1\n",
    "    return count\n",
    "\n",
    "n = int(input(\"Enter the number of products: \"))\n",
    "total_price = 0\n",
    "\n",
    "for i in range(n):\n",
    "    weight = int(input(f\"Enter the weight of product {i+1}: \"))\n",
    "    if is_prime(weight):\n",
    "        price = prime_numbers_less_than(weight)\n",
    "    else:\n",
    "        price = prime_divisors(weight)\n",
    "    total_price += price\n",
    "\n",
    "if is_prime(total_price):\n",
    "    discount = prime_numbers_less_than(total_price)\n",
    "else:\n",
    "    discount = prime_divisors(total_price)\n",
    "\n",
    "final_price = total_price - discount\n",
    "print(f\"The total price is ${total_price}, and the discount is ${discount}. The final price is ${final_price}.\")"
   ]
  }
 ],
 "metadata": {
  "kernelspec": {
   "display_name": "Python 3",
   "language": "python",
   "name": "python3"
  },
  "language_info": {
   "codemirror_mode": {
    "name": "ipython",
    "version": 3
   },
   "file_extension": ".py",
   "mimetype": "text/x-python",
   "name": "python",
   "nbconvert_exporter": "python",
   "pygments_lexer": "ipython3",
   "version": "3.8.8"
  }
 },
 "nbformat": 4,
 "nbformat_minor": 5
}
