{
 "cells": [
  {
   "cell_type": "code",
   "execution_count": 21,
   "id": "c493a3ea",
   "metadata": {},
   "outputs": [],
   "source": [
    "# VARIABLES\n",
    "\n",
    "CohortName = \"AI4All-2021\" \n",
    "\n",
    "NumberofStudents = 100 \n",
    "AverageAge = 15.6\n",
    "\n",
    "# create a list of students \n",
    "AdditionalStudents = [3, 5, 7, 10, 20]\n",
    "\n",
    "# average age of the additional students each round\n",
    "AdditionalAverageAges = [17.0, 16.4, 14.3, 16.2, 15.2]"
   ]
  },
  {
   "cell_type": "code",
   "execution_count": 35,
   "id": "d7ac03d0",
   "metadata": {},
   "outputs": [
    {
     "ename": "IndexError",
     "evalue": "list index out of range",
     "output_type": "error",
     "traceback": [
      "\u001b[1;31m---------------------------------------------------------------------------\u001b[0m",
      "\u001b[1;31mIndexError\u001b[0m                                Traceback (most recent call last)",
      "\u001b[1;32m<ipython-input-35-ec140acb63d6>\u001b[0m in \u001b[0;36m<module>\u001b[1;34m\u001b[0m\n\u001b[0;32m      2\u001b[0m \u001b[0mnewStudAge\u001b[0m \u001b[1;33m=\u001b[0m \u001b[1;36m0\u001b[0m\u001b[1;33m\u001b[0m\u001b[1;33m\u001b[0m\u001b[0m\n\u001b[0;32m      3\u001b[0m \u001b[1;32mfor\u001b[0m \u001b[0mi\u001b[0m \u001b[1;32min\u001b[0m \u001b[0mrange\u001b[0m\u001b[1;33m(\u001b[0m\u001b[0mlen\u001b[0m\u001b[1;33m(\u001b[0m\u001b[0mAdditionalAverageAges\u001b[0m\u001b[1;33m)\u001b[0m\u001b[1;33m)\u001b[0m\u001b[1;33m:\u001b[0m\u001b[1;33m\u001b[0m\u001b[1;33m\u001b[0m\u001b[0m\n\u001b[1;32m----> 4\u001b[1;33m     \u001b[0mx\u001b[0m \u001b[1;33m=\u001b[0m \u001b[0mAdditionalStudents\u001b[0m\u001b[1;33m[\u001b[0m\u001b[0mi\u001b[0m\u001b[1;33m]\u001b[0m\u001b[1;33m*\u001b[0m\u001b[0mAdditionalAverageAges\u001b[0m\u001b[1;33m[\u001b[0m\u001b[0mi\u001b[0m\u001b[1;33m]\u001b[0m\u001b[1;33m\u001b[0m\u001b[1;33m\u001b[0m\u001b[0m\n\u001b[0m\u001b[0;32m      5\u001b[0m     \u001b[0mnewStudAge\u001b[0m \u001b[1;33m+=\u001b[0m \u001b[0mx\u001b[0m\u001b[1;33m\u001b[0m\u001b[1;33m\u001b[0m\u001b[0m\n\u001b[0;32m      6\u001b[0m \u001b[0mprint\u001b[0m\u001b[1;33m(\u001b[0m\u001b[0mnewStudAge\u001b[0m\u001b[1;33m)\u001b[0m\u001b[1;33m\u001b[0m\u001b[1;33m\u001b[0m\u001b[0m\n",
      "\u001b[1;31mIndexError\u001b[0m: list index out of range"
     ]
    }
   ],
   "source": [
    "oldStudAge = AverageAge*NumberofStudents\n",
    "newStudAge = 0\n",
    "for i in range(len(AdditionalAverageAges)):\n",
    "    x = AdditionalStudents[i]*AdditionalAverageAges[i]\n",
    "    newStudAge += x\n",
    "print(newStudAge)"
   ]
  },
  {
   "cell_type": "code",
   "execution_count": 28,
   "id": "7828e0c4",
   "metadata": {},
   "outputs": [],
   "source": [
    "# define the function UpdateAverage()\n",
    "def UpdateAverage(oldavg, oldstd, addavg, addstd):\n",
    "    #TODO: Currently the program always returns 0 as the new average.\n",
    "    #      Modify the code in this function to compute the new average correctly\n",
    "    \n",
    "    newavg = oldavg\n",
    "    count = 1\n",
    "    \n",
    "    for i in range(len(AdditionalAverageAges)):\n",
    "        newavg += AdditionalAverageAges[i]\n",
    "        count += 1\n",
    "       \n",
    "    newavg = newavg/count\n",
    "    return newavg;\n",
    "\n",
    "# define the function PrintStatus()\n",
    "def PrintStatus(std, age):\n",
    "    #TODO: Complete this function\n",
    "    #Hint: You may want to copy and paste some of the code in the previous version of the program\n",
    "    print(std, age)"
   ]
  },
  {
   "cell_type": "code",
   "execution_count": 29,
   "id": "cff55ce2",
   "metadata": {},
   "outputs": [
    {
     "data": {
      "text/plain": [
       "14.0625"
      ]
     },
     "execution_count": 29,
     "metadata": {},
     "output_type": "execute_result"
    }
   ],
   "source": [
    "UpdateAverage(AverageAge, NumberofStudents, AdditionalAverageAges, AdditionalStudents)"
   ]
  },
  {
   "cell_type": "code",
   "execution_count": 11,
   "id": "0e7c6632",
   "metadata": {},
   "outputs": [
    {
     "name": "stdout",
     "output_type": "stream",
     "text": [
      "Hello, AI4All-2021\n"
     ]
    }
   ],
   "source": [
    "# new starting message \"Hello, <CohortName>\"\n",
    "print ('Hello,', CohortName)"
   ]
  },
  {
   "cell_type": "markdown",
   "id": "aa88c534",
   "metadata": {},
   "source": [
    "# new\n"
   ]
  },
  {
   "cell_type": "code",
   "execution_count": 12,
   "id": "0f16e6b3",
   "metadata": {},
   "outputs": [
    {
     "name": "stdout",
     "output_type": "stream",
     "text": [
      "145 15.819971707818931\n"
     ]
    }
   ],
   "source": [
    "# computes the new total number of students\n",
    "# by adding one item at a time to NumberofStudents\n",
    "for i in range(0,len(AdditionalStudents)):\n",
    "    #update the total number of students\n",
    "    NumberofStudents += AdditionalStudents[i]\n",
    "    \n",
    "    # update the average age as adding more students, using UpdateAverage function\n",
    "    AverageAge = UpdateAverage(AverageAge, NumberofStudents, AdditionalAverageAges, AdditionalStudents)\n",
    "\n",
    "# the function PrintStatus() prints a status message in different formats\n",
    "# the format depends on the number of students\n",
    "PrintStatus(NumberofStudents, AverageAge)"
   ]
  },
  {
   "cell_type": "code",
   "execution_count": 58,
   "id": "fdb62ad4",
   "metadata": {},
   "outputs": [
    {
     "name": "stdout",
     "output_type": "stream",
     "text": [
      "True\n",
      "It's a prime.\n"
     ]
    }
   ],
   "source": [
    "x = 1\n",
    "\n",
    "def checker(x):\n",
    "    for j in range(2,x):\n",
    "        if x % j == 0:\n",
    "            return False\n",
    "    return True\n",
    "\n",
    "# def checker(x):\n",
    "#     for j in range(2,x):\n",
    "#         if x % j == 0:\n",
    "#             return False\n",
    "#         elif x % j != 0:\n",
    "#             return True\n",
    "\n",
    "print(checker(x))\n",
    "\n",
    "if x > 1:\n",
    "    if checker(x) == True:\n",
    "        print(\"It's a prime.\")\n",
    "    else:\n",
    "        print(\"It's not a prime.\")"
   ]
  },
  {
   "cell_type": "code",
   "execution_count": 156,
   "id": "a2d4639d",
   "metadata": {},
   "outputs": [
    {
     "name": "stdout",
     "output_type": "stream",
     "text": [
      "How many numbers do you want to check?\n",
      "4\n",
      "Enter a positive integer:\n",
      "0\n",
      "Enter a positive integer:\n",
      "0\n",
      "Enter a positive integer:\n",
      "0\n",
      "Enter a positive integer:\n",
      "0\n",
      "Total prime numbers: 0\n"
     ]
    }
   ],
   "source": [
    "# MINE IT WORKS\n",
    "\n",
    "def checker(x):\n",
    "    for j in range(2,x):\n",
    "        if x % j == 0:\n",
    "            return False\n",
    "    return True\n",
    "\n",
    "counter = 0\n",
    "n = int(input('How many numbers do you want to check?\\n'))\n",
    "\n",
    "for i in range(n):\n",
    "    \n",
    "    # negative number check\n",
    "    while True:\n",
    "        integer = int(input('Enter a positive integer:\\n'))\n",
    "        if integer < 0:\n",
    "            print(\"PrimeFinder ignores negative numbers!\")\n",
    "            continue\n",
    "        elif integer >= 0:\n",
    "            break\n",
    "    \n",
    "    # 1 and 0 cases\n",
    "    if integer == 1 or integer == 0:             \n",
    "        continue      \n",
    "    \n",
    "    if checker(integer):\n",
    "        print(integer, 'is a prime number.')\n",
    "        counter+=1\n",
    "    else:\n",
    "        continue\n",
    "print(\"Total prime numbers:\", counter)"
   ]
  },
  {
   "cell_type": "code",
   "execution_count": 154,
   "id": "eb1970ca",
   "metadata": {},
   "outputs": [
    {
     "name": "stdout",
     "output_type": "stream",
     "text": [
      "How many numbers do you want to check?\n",
      "4\n",
      "Enter a positive integer:\n",
      "-1\n",
      "PrimeFinder ignores negative numbers!\n",
      "Enter a positive integer:\n",
      "1\n",
      "Enter a positive integer:\n",
      "2\n",
      "2 is a prime number.\n",
      "Enter a positive integer:\n",
      "0\n",
      "Total prime numbers: 1\n"
     ]
    }
   ],
   "source": [
    "def is_prime(num):\n",
    "    if num <= 1:\n",
    "        return False\n",
    "    for i in range(2, num):\n",
    "        if num % i == 0:\n",
    "            return False\n",
    "    return True\n",
    "\n",
    "print(\"How many numbers do you want to check?\")\n",
    "n = int(input())\n",
    "\n",
    "count = 0 \n",
    "for i in range(n):\n",
    "    print(\"Enter a positive integer:\")\n",
    "    num = int(input())\n",
    "    if num < 0:\n",
    "        print(\"PrimeFinder ignores negative numbers!\")\n",
    "        n += 1\n",
    "        continue\n",
    "    if is_prime(num): \n",
    "        count += 1\n",
    "        print(f\"{num} is a prime number.\")\n",
    "\n",
    "print(f\"Total prime numbers: {count}\")"
   ]
  },
  {
   "cell_type": "code",
   "execution_count": 23,
   "id": "7b730665",
   "metadata": {},
   "outputs": [
    {
     "data": {
      "text/plain": [
       "False"
      ]
     },
     "execution_count": 23,
     "metadata": {},
     "output_type": "execute_result"
    }
   ],
   "source": [
    "checker(10)"
   ]
  },
  {
   "cell_type": "code",
   "execution_count": 45,
   "id": "4a1036b2",
   "metadata": {},
   "outputs": [],
   "source": [
    "def pynum():\n",
    "    for i in range(1, h+1):\n",
    "        for j in range(h-i):\n",
    "            print(\" \", end = \" \")\n",
    "        for j in range(1,i):\n",
    "            print(j, end= \" \")\n",
    "        for i in range(i, 0, -1):\n",
    "            print(i, end=\" \")\n",
    "        print()"
   ]
  },
  {
   "cell_type": "code",
   "execution_count": 46,
   "id": "65863039",
   "metadata": {},
   "outputs": [],
   "source": [
    "def function():\n",
    "    h = int(input(\"what is the height of pyramid?\\n\"))\n",
    "    c=0\n",
    "    while c < 9:\n",
    "        if h not in range(1,10):\n",
    "            print(\"cant help\")\n",
    "        else:\n",
    "            pynum()\n",
    "        break"
   ]
  },
  {
   "cell_type": "code",
   "execution_count": 47,
   "id": "5480e9e2",
   "metadata": {},
   "outputs": [
    {
     "name": "stdout",
     "output_type": "stream",
     "text": [
      "what is the height of pyramid?\n",
      "2\n",
      "                1 \n",
      "              1 2 1 \n",
      "            1 2 3 2 1 \n",
      "          1 2 3 4 3 2 1 \n",
      "        1 2 3 4 5 4 3 2 1 \n",
      "      1 2 3 4 5 6 5 4 3 2 1 \n",
      "    1 2 3 4 5 6 7 6 5 4 3 2 1 \n",
      "  1 2 3 4 5 6 7 8 7 6 5 4 3 2 1 \n",
      "1 2 3 4 5 6 7 8 9 8 7 6 5 4 3 2 1 \n"
     ]
    }
   ],
   "source": [
    "function()"
   ]
  },
  {
   "cell_type": "code",
   "execution_count": 150,
   "id": "2a4d8c41",
   "metadata": {},
   "outputs": [
    {
     "name": "stdout",
     "output_type": "stream",
     "text": [
      "what is the height of pyramid?\n",
      "2\n",
      "  1 \n",
      "1 2 1 \n"
     ]
    }
   ],
   "source": [
    "# MINE IT WORKS\n",
    "\n",
    "def pynum(h):\n",
    "    for i in range(1, h+1):\n",
    "        for j in range(h-i):\n",
    "            print(\" \", end = \" \")\n",
    "        for k in range(1,i+1):\n",
    "            print(k, end= \" \")\n",
    "        for l in range(i-1, 0, -1):\n",
    "            print(l, end=\" \")\n",
    "        print()\n",
    "\n",
    "def function():\n",
    "    h = int(input(\"what is the height of pyramid?\\n\"))\n",
    "    if h not in range(2,10):\n",
    "        print(\"cant help\")\n",
    "    else:\n",
    "        pynum(h)\n",
    "        \n",
    "function()"
   ]
  },
  {
   "cell_type": "code",
   "execution_count": 75,
   "id": "12bb8c88",
   "metadata": {},
   "outputs": [
    {
     "name": "stdout",
     "output_type": "stream",
     "text": [
      "Hi dear user! Do you want to talk to me?\n",
      "yes\n",
      "Great! Let's talk, my friend!\n",
      "Ask me any question you want.\n"
     ]
    }
   ],
   "source": [
    "print(\"Hi dear user! Do you want to talk to me?\")\n",
    "answer = input()\n",
    "yeses = [\"yes\", \"y\", \"of course\", \"certainly yes\", \"sure\"]\n",
    "noses = [\"no\", \"n\", \"no way\", \"of course not\", \"never\"]\n",
    "byes = [\"Goodbye!\", \"See you!\", \"ciao\", \"Have a good day\"]\n",
    "if answer in yeses :\n",
    "    print(\"Great! Let's talk, my friend!\")\n",
    "    print(\"Ask me any question you want.\")\n",
    "else:\n",
    "    print(\"Goodbye user!\")"
   ]
  },
  {
   "cell_type": "code",
   "execution_count": 100,
   "id": "68d6d70b",
   "metadata": {},
   "outputs": [
    {
     "name": "stdout",
     "output_type": "stream",
     "text": [
      "Hi, this is Pchatbot, can I talk to you?\n",
      "y\n",
      "What is your name?\n",
      "joe\n",
      "Nice to meet you, joe.\n",
      "How are you doing today?\n",
      "\n",
      "  @media print {\n",
      "    .ms-editor-squiggles-container {\n",
      "      display:none !important;\n",
      "    }\n",
      "  }\n",
      "  .ms-editor-squiggles-container {\n",
      "    all: initial;\n",
      "  }i'm good\n",
      "I'm glad you're feeling well, joe.\n",
      "How old are you?\n",
      "19\n",
      "You are ready to drive.\n"
     ]
    }
   ],
   "source": [
    "# MINE IT WORKS\n",
    "\n",
    "text = input('Hi, this is Pchatbot, can I talk to you?\\n')\n",
    "if text in {'Y', 'y'}:\n",
    "    name = input('What is your name?\\n')\n",
    "    print(f'Nice to meet you, {name}.')\n",
    "    feeling = input('How are you doing today?\\n').lower()\n",
    "    if feeling in {'good', \"i'm great\", \"i'm good\",'fine'}:\n",
    "        print(f\"I'm glad you're feeling well, {name}.\")\n",
    "    elif feeling in {'bad', 'not okay'}:\n",
    "        print('Have some time to yourself to recharge!')\n",
    "    else: \n",
    "        print('I see!')\n",
    "    try:\n",
    "        age = int(input(\"How old are you?\\n\"))\n",
    "        if age > 18 and feeling in {'good', \"i'm great\", \"i'm good\",'fine'}:\n",
    "            print(\"You are ready to drive.\")\n",
    "        else:\n",
    "            print('Still taking the bus!')\n",
    "    except ValueError:\n",
    "        print('Invalid age input!')\n",
    "elif text in {'N','n'}:\n",
    "    print('Okay! Talk to you soon!')"
   ]
  },
  {
   "cell_type": "code",
   "execution_count": 115,
   "id": "4f584a50",
   "metadata": {},
   "outputs": [
    {
     "name": "stdout",
     "output_type": "stream",
     "text": [
      "Hi, this is Pchatbot, can I talk to you?\n",
      "y\n",
      "What is your name?\n",
      "joe\n",
      "Nice to meet you, joe.\n",
      "How are you doing today?\n",
      "good\n",
      "I'm glad you're feeling well joe.\n",
      "I'm glad you're feeling well, joe.\n",
      "How old are you?\n",
      "19\n",
      "You are ready to drive.\n"
     ]
    }
   ],
   "source": [
    "Negative = {\"bad\", \"not okay\", \"i'm not feeling good\"}\n",
    "Positive = {\"good\", \"i'm great\", \"i'm good\", \"fine\"}\n",
    "yes = {\"y\",\"Y\"}\n",
    "no = {\"n\",\"N\"}\n",
    "\n",
    "status = input('Hi, this is Pchatbot, can I talk to you?\\n')\n",
    "\n",
    "if status in yes:\n",
    "    Name = input('What is your name?\\n')\n",
    "    print(f'Nice to meet you, {name}.')\n",
    "\n",
    "    mood = input('How are you doing today?\\n').lower() \n",
    "    if mood in Positive:\n",
    "        print( \"I'm glad you're feeling well \", Name,\".\", sep = \"\")\n",
    "        print(f\"I'm glad you're feeling well, {name}.\")\n",
    "    elif mood in Negative:\n",
    "        print (\"Have some time to yourself to recharge!\")\n",
    "    else:\n",
    "        print (\"I see!\")\n",
    "\n",
    "    try:\n",
    "        age = int(input(\"How old are you?\\n\"))\n",
    "        if age > 18 and mood in Positive:\n",
    "            print (\"You are ready to drive.\")\n",
    "        else:\n",
    "            print (\"Still taking the bus!\")\n",
    "    except ValueError:\n",
    "        print(\"Still taking the bus!\")\n",
    "\n",
    "elif status in no:\n",
    "    print ('Okay! Talk to you soon!')"
   ]
  },
  {
   "cell_type": "code",
   "execution_count": 108,
   "id": "308e8f20",
   "metadata": {},
   "outputs": [
    {
     "name": "stdout",
     "output_type": "stream",
     "text": [
      "Hi, how many operations do you want MagiCal to perform?\n",
      "1\n",
      "Select the operator from the list of Addition (1), Subtraction (2), Multiplication (3), Division (4):\n",
      "4\n",
      "Enter the first number in the interval of [0,100]:\n",
      "37\n",
      "Enter the second number in the interval of [0,100]:\n",
      "3\n",
      "37 / 3 = 12.333333333333334\n"
     ]
    }
   ],
   "source": [
    "#MINE IT WORKS\n",
    "\n",
    "k = int(input('Hi, how many operations do you want MagiCal to perform?\\n'))\n",
    "for i in range(k):  \n",
    "    try:\n",
    "        operator = int(input('Select the operator from the list of Addition (1), Subtraction (2), Multiplication (3), Division (4):\\n'))\n",
    "    except ValueError:\n",
    "        print('Invalid input!')\n",
    "        continue\n",
    "    if operator not in [1, 2, 3, 4]:\n",
    "        print('Invalid input!')\n",
    "        continue    \n",
    "    try:\n",
    "        first_number = int(input('Enter the first number in the interval of [0,100]:\\n'))\n",
    "    except ValueError:\n",
    "        print('Magic calculator can not perform your operation!')\n",
    "        continue\n",
    "    try:\n",
    "        second_number = int(input('Enter the second number in the interval of [0,100]:\\n'))\n",
    "    except ValueError:\n",
    "        print('Magic calculator can not perform your operation!')\n",
    "        continue\n",
    "    if first_number < 0 or first_number > 100 or second_number < 0 or second_number > 100:\n",
    "        print('Magic calculator can not perform your operation!')\n",
    "        continue \n",
    "    if operator == 4 and second_number == 0:\n",
    "        print('The denominator cannot be 0.')\n",
    "        continue\n",
    "    if operator == 1:\n",
    "        result = float(first_number + second_number)\n",
    "        print(first_number, '+', second_number, '=', result)\n",
    "    elif operator == 2:\n",
    "        result = float(first_number - second_number)\n",
    "        print(first_number, '-', second_number, '=', result)\n",
    "    elif operator == 3:\n",
    "        result = float(first_number * second_number)\n",
    "        print(first_number, '*', second_number, '=', result)\n",
    "    elif operator == 4:\n",
    "        result = float(first_number / second_number)\n",
    "        print(first_number, '/', second_number, '=', result)"
   ]
  },
  {
   "cell_type": "code",
   "execution_count": 116,
   "id": "11561ced",
   "metadata": {},
   "outputs": [
    {
     "name": "stdout",
     "output_type": "stream",
     "text": [
      "Hi, how many operations do you want MagiCal to perform?\n",
      "5\n",
      "Select the operator from the list of Addition (1), Subtraction (2), Multiplication (3), Division (4):\n",
      "3\n",
      "Enter the first number in the interval of [0,100]:\n",
      "5\n",
      "Enter the second number in the interval of [0,100]:\n",
      "5\n",
      "Invalid input!\n"
     ]
    },
    {
     "ename": "KeyboardInterrupt",
     "evalue": "Interrupted by user",
     "output_type": "error",
     "traceback": [
      "\u001b[1;31m---------------------------------------------------------------------------\u001b[0m",
      "\u001b[1;31mKeyboardInterrupt\u001b[0m                         Traceback (most recent call last)",
      "\u001b[1;32m<ipython-input-116-e03b57328163>\u001b[0m in \u001b[0;36m<module>\u001b[1;34m\u001b[0m\n\u001b[0;32m      3\u001b[0m \u001b[1;32mfor\u001b[0m \u001b[0mi\u001b[0m \u001b[1;32min\u001b[0m \u001b[0mrange\u001b[0m\u001b[1;33m(\u001b[0m\u001b[0mk\u001b[0m\u001b[1;33m)\u001b[0m\u001b[1;33m:\u001b[0m\u001b[1;33m\u001b[0m\u001b[1;33m\u001b[0m\u001b[0m\n\u001b[0;32m      4\u001b[0m     \u001b[1;32mtry\u001b[0m\u001b[1;33m:\u001b[0m\u001b[1;33m\u001b[0m\u001b[1;33m\u001b[0m\u001b[0m\n\u001b[1;32m----> 5\u001b[1;33m         \u001b[0mnumber\u001b[0m \u001b[1;33m=\u001b[0m \u001b[0mint\u001b[0m\u001b[1;33m(\u001b[0m\u001b[0minput\u001b[0m\u001b[1;33m(\u001b[0m\u001b[1;34m'Select the operator from the list of Addition (1), Subtraction (2), Multiplication (3), Division (4):\\n'\u001b[0m\u001b[1;33m)\u001b[0m\u001b[1;33m)\u001b[0m\u001b[1;33m\u001b[0m\u001b[1;33m\u001b[0m\u001b[0m\n\u001b[0m\u001b[0;32m      6\u001b[0m     \u001b[1;32mexcept\u001b[0m \u001b[0mValueError\u001b[0m\u001b[1;33m:\u001b[0m\u001b[1;33m\u001b[0m\u001b[1;33m\u001b[0m\u001b[0m\n\u001b[0;32m      7\u001b[0m         \u001b[0mprint\u001b[0m\u001b[1;33m(\u001b[0m\u001b[1;34m'Invalid input!'\u001b[0m\u001b[1;33m)\u001b[0m\u001b[1;33m\u001b[0m\u001b[1;33m\u001b[0m\u001b[0m\n",
      "\u001b[1;32m~\\anaconda3\\lib\\site-packages\\ipykernel\\kernelbase.py\u001b[0m in \u001b[0;36mraw_input\u001b[1;34m(self, prompt)\u001b[0m\n\u001b[0;32m    858\u001b[0m                 \u001b[1;34m\"raw_input was called, but this frontend does not support input requests.\"\u001b[0m\u001b[1;33m\u001b[0m\u001b[1;33m\u001b[0m\u001b[0m\n\u001b[0;32m    859\u001b[0m             )\n\u001b[1;32m--> 860\u001b[1;33m         return self._input_request(str(prompt),\n\u001b[0m\u001b[0;32m    861\u001b[0m             \u001b[0mself\u001b[0m\u001b[1;33m.\u001b[0m\u001b[0m_parent_ident\u001b[0m\u001b[1;33m,\u001b[0m\u001b[1;33m\u001b[0m\u001b[1;33m\u001b[0m\u001b[0m\n\u001b[0;32m    862\u001b[0m             \u001b[0mself\u001b[0m\u001b[1;33m.\u001b[0m\u001b[0m_parent_header\u001b[0m\u001b[1;33m,\u001b[0m\u001b[1;33m\u001b[0m\u001b[1;33m\u001b[0m\u001b[0m\n",
      "\u001b[1;32m~\\anaconda3\\lib\\site-packages\\ipykernel\\kernelbase.py\u001b[0m in \u001b[0;36m_input_request\u001b[1;34m(self, prompt, ident, parent, password)\u001b[0m\n\u001b[0;32m    902\u001b[0m             \u001b[1;32mexcept\u001b[0m \u001b[0mKeyboardInterrupt\u001b[0m\u001b[1;33m:\u001b[0m\u001b[1;33m\u001b[0m\u001b[1;33m\u001b[0m\u001b[0m\n\u001b[0;32m    903\u001b[0m                 \u001b[1;31m# re-raise KeyboardInterrupt, to truncate traceback\u001b[0m\u001b[1;33m\u001b[0m\u001b[1;33m\u001b[0m\u001b[1;33m\u001b[0m\u001b[0m\n\u001b[1;32m--> 904\u001b[1;33m                 \u001b[1;32mraise\u001b[0m \u001b[0mKeyboardInterrupt\u001b[0m\u001b[1;33m(\u001b[0m\u001b[1;34m\"Interrupted by user\"\u001b[0m\u001b[1;33m)\u001b[0m \u001b[1;32mfrom\u001b[0m \u001b[1;32mNone\u001b[0m\u001b[1;33m\u001b[0m\u001b[1;33m\u001b[0m\u001b[0m\n\u001b[0m\u001b[0;32m    905\u001b[0m             \u001b[1;32mexcept\u001b[0m \u001b[0mException\u001b[0m \u001b[1;32mas\u001b[0m \u001b[0me\u001b[0m\u001b[1;33m:\u001b[0m\u001b[1;33m\u001b[0m\u001b[1;33m\u001b[0m\u001b[0m\n\u001b[0;32m    906\u001b[0m                 \u001b[0mself\u001b[0m\u001b[1;33m.\u001b[0m\u001b[0mlog\u001b[0m\u001b[1;33m.\u001b[0m\u001b[0mwarning\u001b[0m\u001b[1;33m(\u001b[0m\u001b[1;34m\"Invalid Message:\"\u001b[0m\u001b[1;33m,\u001b[0m \u001b[0mexc_info\u001b[0m\u001b[1;33m=\u001b[0m\u001b[1;32mTrue\u001b[0m\u001b[1;33m)\u001b[0m\u001b[1;33m\u001b[0m\u001b[1;33m\u001b[0m\u001b[0m\n",
      "\u001b[1;31mKeyboardInterrupt\u001b[0m: Interrupted by user"
     ]
    }
   ],
   "source": [
    "k = int(input('Hi, how many operations do you want MagiCal to perform?\\n'))\n",
    "\n",
    "for i in range(k):\n",
    "    try:\n",
    "        number = int(input('Select the operator from the list of Addition (1), Subtraction (2), Multiplication (3), Division (4):\\n'))\n",
    "    except ValueError:\n",
    "        print('Invalid input!')\n",
    "        continue\n",
    "\n",
    "    if number in [1,2,3,4]:\n",
    "        try:\n",
    "            num1 = int(input('Enter the first number in the interval of [0,100]:\\n'))\n",
    "            num2 = int(input('Enter the second number in the interval of [0,100]:\\n'))\n",
    "        except ValueError:\n",
    "            print('Invalid input!')\n",
    "            continue\n",
    "    if number == 4 and num2 == 0:\n",
    "        print(\"The denominator cannot be 0.\")\n",
    "        continue\n",
    "    if num1 < 0 or num1 > 100 or num2 < 0 or num2 > 100:\n",
    "        print('Magic calculator can not perform your operation!')\n",
    "        continue\n",
    "    if number == 1:\n",
    "        result = int(num1 + num2)\n",
    "        print(num1, '+', num2, '=', result)\n",
    "    elif number == 2:\n",
    "        result = int(num1 - num2)\n",
    "        print(num1, '-', num2, '=', result)\n",
    "    elif number == 3:\n",
    "        result = int(num1 * num2)\n",
    "        print(num1, '*', num2, '=', result)\n",
    "    elif number == 4:\n",
    "        result = float(num1 / num2)\n",
    "        print(num1, '/', num2, '=', result)\n",
    "    \n",
    "    else: \n",
    "        print('Invalid input!')"
   ]
  },
  {
   "cell_type": "code",
   "execution_count": 157,
   "id": "a80c5d7f",
   "metadata": {},
   "outputs": [
    {
     "name": "stdout",
     "output_type": "stream",
     "text": [
      "Hi, how many operations do you want MagiCal to perform?\n",
      "3\n"
     ]
    }
   ],
   "source": [
    "k = int(input(\"Hi, how many operations do you want MagiCal to perform?\\n\"))\n",
    "\n",
    "while k == int:\n",
    "    for i in range(k):\n",
    "        r = int(input(\"Select the operator from the list of Addition (1), Subtraction (2), Multiplication (3), Division (4):\\n\"))   \n",
    "        if operator not in [1, 2, 3, 4]:\n",
    "            print(\"Invalid input!\")\n",
    "            continue_calculation = False\n",
    "        else:\n",
    "            continue_calculation = True\n",
    "\n",
    "        if continue_calculation:\n",
    "            first = int(input(\"Enter the first number in the interval of [0,100]:\\n\"))\n",
    "\n",
    "        if continue_calculation:\n",
    "            second = int(input(\"Enter the second number in the interval of [0,100]:\\n\"))\n",
    "            if not (0 <= first <= 100) or not (0 <= second <= 100):\n",
    "                print(\"Magic calculator can not perform your operation!\")\n",
    "                continue_calculation = False\n",
    "\n",
    "        if continue_calculation:\n",
    "            if operator == 1:\n",
    "                result = first + second\n",
    "                operator = \"+\"\n",
    "            elif operator == 2:\n",
    "                result = first - second\n",
    "                operator = \"-\"\n",
    "            elif operator == 3:\n",
    "                result = first * second\n",
    "                operator = \"*\"\n",
    "            else:\n",
    "                if second == 0:\n",
    "                    print(\"The denominator cannot be 0.\")\n",
    "                    continue_calculation = False\n",
    "                else:\n",
    "                    result = first / second\n",
    "                    operator = \"/\"\n",
    "\n",
    "            if continue_calculation:\n",
    "                print(str(first)+(\" \")+str(operator)+(\" \")+str(second)+(\" \")+(\"=\")+(\" \")+str(result))"
   ]
  },
  {
   "cell_type": "code",
   "execution_count": 158,
   "id": "9f15e5cf",
   "metadata": {},
   "outputs": [],
   "source": [
    "k = 9\n",
    "\n",
    "while k == int:\n",
    "    print('hi')\n",
    "    break"
   ]
  },
  {
   "cell_type": "code",
   "execution_count": null,
   "id": "406894e0",
   "metadata": {},
   "outputs": [],
   "source": []
  }
 ],
 "metadata": {
  "kernelspec": {
   "display_name": "Python 3",
   "language": "python",
   "name": "python3"
  },
  "language_info": {
   "codemirror_mode": {
    "name": "ipython",
    "version": 3
   },
   "file_extension": ".py",
   "mimetype": "text/x-python",
   "name": "python",
   "nbconvert_exporter": "python",
   "pygments_lexer": "ipython3",
   "version": "3.8.8"
  }
 },
 "nbformat": 4,
 "nbformat_minor": 5
}
