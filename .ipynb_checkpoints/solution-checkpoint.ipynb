{
 "cells": [
  {
   "cell_type": "code",
   "execution_count": 2,
   "metadata": {},
   "outputs": [
    {
     "data": {
      "text/plain": [
       "{'sauce': 1, 'basil': 2, 'pepper': 2, 'onions': 1, 'mushrooms': 3}"
      ]
     },
     "execution_count": 2,
     "metadata": {},
     "output_type": "execute_result"
    }
   ],
   "source": [
    "pantry = {'pasta': 3, 'garlic': 4,'sauce': 2,\n",
    "          'basil': 2, 'salt': 3, 'olive oil': 3,\n",
    "          'rice': 3, 'bread': 3, 'peanut butter': 1,\n",
    "          'flour': 1, 'eggs': 1, 'onions': 1, 'mushrooms': 3,\n",
    "          'broccoli': 2, 'butter': 2,'pickles': 6, 'milk': 2,\n",
    "          'chia seeds': 5}\n",
    "\n",
    "meal_recipe = {'pasta': 2, 'garlic': 2, 'sauce': 3,\n",
    "          'basil': 4, 'salt': 1, 'pepper': 2,\n",
    "          'olive oil': 2, 'onions': 2, 'mushrooms': 6}\n",
    "\n",
    "shopping_list = dict()\n",
    "\n",
    "for ingredient in meal_recipe: \n",
    "    if ingredient in pantry:\n",
    "        if meal_recipe[ingredient] > pantry[ingredient]:\n",
    "            shopping_list[ingredient] = meal_recipe[ingredient] - pantry[ingredient] \n",
    "    else:\n",
    "        shopping_list[ingredient] = meal_recipe[ingredient]\n",
    "shopping_list  "
   ]
  },
  {
   "cell_type": "code",
   "execution_count": null,
   "metadata": {},
   "outputs": [],
   "source": []
  }
 ],
 "metadata": {
  "kernelspec": {
   "display_name": "Python 3",
   "language": "python",
   "name": "python3"
  },
  "language_info": {
   "codemirror_mode": {
    "name": "ipython",
    "version": 3
   },
   "file_extension": ".py",
   "mimetype": "text/x-python",
   "name": "python",
   "nbconvert_exporter": "python",
   "pygments_lexer": "ipython3",
   "version": "3.7.4"
  }
 },
 "nbformat": 4,
 "nbformat_minor": 2
}
