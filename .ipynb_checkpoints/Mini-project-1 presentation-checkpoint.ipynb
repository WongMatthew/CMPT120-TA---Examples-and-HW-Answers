{
 "cells": [
  {
   "cell_type": "markdown",
   "id": "8c257818",
   "metadata": {},
   "source": [
    "# Mini Project 1\n"
   ]
  },
  {
   "cell_type": "markdown",
   "id": "ce42187a",
   "metadata": {},
   "source": [
    "# Problem\n",
    "\n",
    "* Obtaining transport data for the city of London\n",
    "\n",
    "# Task\n",
    "\n",
    "* Use the Transport for London API to obtain said data\n",
    "\n",
    "# Tools\n",
    "\n",
    "* Jupyter notebook\n",
    "\n",
    "* Python packages\n",
    "    * requests\n",
    "    * os\n"
   ]
  },
  {
   "cell_type": "markdown",
   "id": "a6642438",
   "metadata": {},
   "source": [
    "## 1. AirQuality Predictions"
   ]
  },
  {
   "cell_type": "markdown",
   "id": "b1549dc0",
   "metadata": {},
   "source": [
    "* Used https://api.tfl.gov.uk/AirQuality \n",
    "* Return a large dictionary\n",
    "    * Parsed the dictionary to find tomorrows weather\n",
    " * 'Unsettled, with rain or showers moving southeast on Friday.&lt;br/&gt;Cloud cover and sunny intervals with possible showers on Saturday.&lt;br/&gt;&lt;br/&gt;A steady feed of westerly air arriving from the Atlantic should give good dispersion of local emissions while bearing little imported pollution.&lt;br/&gt;&lt;br/&gt;Air pollution is expected to remain &#39;Low&#39; for the following pollutants:&lt;br/&gt;&lt;br/&gt;Nitrogen Dioxide&lt;br/&gt;Ozone&lt;br/&gt;PM10 Particulate&lt;br/&gt;PM2.5 Particulate&lt;br/&gt;Sulphur Dioxide&lt;br/&gt;'  "
   ]
  },
  {
   "cell_type": "markdown",
   "id": "f6bc3943",
   "metadata": {},
   "source": [
    "## 2. Different modes & how many"
   ]
  },
  {
   "cell_type": "markdown",
   "id": "45e14422",
   "metadata": {},
   "source": [
    "* Used https://api.tfl.gov.uk/Line/Meta/Modes\n",
    "* Returned a list of dictionaries\n",
    "* Would cycle through the dictionaries and added all modes to a list\n",
    "* ['bus', 'cable-car', 'coach', 'cycle', 'cycle-hire', 'dlr', 'interchange-keep-sitting', 'interchange-secure', 'national-rail', 'overground', 'replacement-bus', 'river-bus', 'river-tour', 'taxi', 'tflrail', 'tram', 'tube', 'walking'] Number of different modes of transport is: 18"
   ]
  },
  {
   "cell_type": "markdown",
   "id": "ec5771e0",
   "metadata": {},
   "source": [
    "## 3. Number of BikePoints and docks  \n",
    "\n",
    "* Used https://api.tfl.gov.uk/BikePoint/\n",
    "* Returned a list of dictionaries\n",
    "* Cycled through the keys in the dictionaries and grabbed the number of bikepoints and docks\n",
    "* Number of BikePoints in London operated by Transit for London: 785 \n",
    "* There are 20325 working docks in all BikePoints"
   ]
  },
  {
   "cell_type": "markdown",
   "id": "b11efc86",
   "metadata": {},
   "source": [
    "## 4. Number of tube and bus lines\n",
    "\n",
    "* Used https://api.tfl.gov.uk/Mode/tube/Arrivals and https://api.tfl.gov.uk/Mode/bus/Arrivals\n",
    "* Returned a list of dictionaries\n",
    "* Cycled through both lists and took each unique tube and bus line\n",
    "* Different Tube lines are: ['Bakerloo', 'Victoria', 'Central', 'District', 'Metropolitan', 'Northern', 'Piccadilly', 'Hammersmith & City', 'Jubilee', 'Circle']\n",
    "* Total # of Tube lines: 10\n",
    "* Different Bus lines are: ['E9', '77', '232', '250', '134', '122', '148', '312', '390', '83', '33', 'U4', '171', '19', '152', '149', '14', '296', '265', '222', '221', '61', '266', '393', '491', '90', '7', '123', '106', '70', '168', '320', '164', '63', '86', 'W11', '99', 'H12', '71', '108', '332', '32', '280', '433', '16', '180', '114', '452', '200', '121', '36', '125', 'W14', '80', '205', '302', '120', '254', '192', '25', '259', '194', '76', '159', '499', '39', '47', '281', '23', '472', '273', '113', '50', '321', 'R4', '156', '317', 'W3', '2', 'W19', 'C3', '213', '487', '35', '37', '261', '240', '135', '184', '118', '474', 'S3', 'E2', '30', '166', '18', '333', '227', '147', '219', '484', '241', '344', 'U1', '191', '177', '174', '155', '403', '276', '103', '52', 'H91', 'H37', '339', 'R70', '242', '284', '427', '160', '98', '78', 'B11', '286', '41', '26', 'D3', 'E8', 'C11', '119', '176', '85', 'K2', '4', '229', '29', '67', '111', 'W8', '417', '153', '218', 'S1', '462', 'W4', '407', '230', '252', '330', 'X68', '9', 'E3', 'R68', '101', '3', '87', 'G1', '95', '260', '264', '55', '247', '267', '234', 'W6', '38', 'B16', '313', '211', 'W15', '195', '432', '185', '440', '314', '269', '251', '93', '88', '193', '498', '204', '340', '309', '22', '96', '425', '256', 'W13', '394', 'K4', '364', '492', 'D6', '154', '15', '109', '139', '89', '301', '243', '341', '97', 'U5', '217', 'EL2', '263', 'W9', '107', '60', '398', '199', '368', '115', '294', '81', '476', '490', '46', 'B14', '382', '66', '249', '73', '183', '112', '356', '466', '353', 'H10', 'E6', '331', '157', '128', '40', '384', '182', '396', '288', '158', '226', '468', 'H98', '150', '130', '270', 'H25', 'K3', '381', '235', 'B13', '278', 'X26', '366', '418', '220', '79', '34', '453', '326', '20', '172', '244', 'W12', '463', '13', '136', '216', '493', '105', '100', '175', 'U3', '21', 'U7', '419', 'U2', '212', '245', 'D7', '62', '272', 'E10', '306', '469', '346', '206', '282', '165', 'K5', '110', '127', 'R3', '343', '181', '352', '94', '126', '12', 'H22', 'C10', '151', 'H9', '132', '133', '190', '141', '363', '410', '170', '307', '328', '140', '488', '357', '300', '8', '225', '75', '65', '370', '102', '59', '450', 'E5', '253', '69', '329', '292', 'R9', '208', '64', '228', '318', 'H2', '117', '460', '436', '325', '5', '285', 'H19', '237', '145', '473', '11', '444', '319', '31', '214', '24', '428', '415', '367', '271', '345', '268', '316', '236', '308', '395', '430', '57', '68', '202', 'A10', '178', 'P5', 'E7', '455', '210', '92', '481', 'S4', 'B15', 'K1', 'C1', '17', 'H13', '238', '116', '27', '104', '521', '293', '143', '354', '161', 'H14', '137', '412', '142', '203', 'B12', '169', '209', '188', '58', 'P4', '167', '380', 'D8', '283', '233', '299', '196', '124', '482', '231', '207', '248', '186', '162', '51', '163', '337', '189', '405', '53', '275', 'H11', '388', '413', '43', '401', '198', '362', 'H28', '497', 'U9', '179', '414', '358', '74', '42', 'H20', '464', '371', 'EL1', 'W5', '49', '277', '336', '470', 'P12', '422', '404', '258', '262', '496', '483', '383', '197', '6', 'W16', '376', '287', '246', '372', '549', '322', '56', '28', '223', '486', '386', 'P13', 'H32', '54', '607', '411', 'W7', '289', 'E11', '91', '297', '350', '298', '173', '224', 'EL3', '335', '291', '465', '434', '131', '355', '279', 'R11', 'R7', '324', '257', '215', 'E1', 'R6', 'H17', '290', '144', '315', '349', '45', '365', '507', '323', 'R1', '255', '360', '456', '129', '295', 'R10', '1', '274', '44', '533', '303', '187', '397', '72', 'R2', '359', 'U10', 'H26', '375', 'H18', '423', 'X140', '424', '467', '406', '379', '377', '201', '378', '485', '718', '138']\n",
    "* Total # of Bus lines: 537"
   ]
  },
  {
   "cell_type": "markdown",
   "id": "2fe6be4d",
   "metadata": {},
   "source": [
    "## 5. Victoria Line stations\n",
    "\n",
    "* Used https://api.tfl.gov.uk/Mode/tube/Arrivals\n",
    "* Returned a list of dictionaries\n",
    "* Cycled through the dictionaries and searched for all keys with value victoria\n",
    "* Total amount of 16"
   ]
  },
  {
   "cell_type": "markdown",
   "id": "cebe608e",
   "metadata": {},
   "source": [
    "## 6. Journey planning - Heathrow Airport to Tower Bridge\n",
    "\n",
    "* Used https://api.tfl.gov.uk/Journey/JourneyResults/TW6%201EW/to/SE1%204TW?journeyPreference=LeastTime&mode=bus and https://api.tfl.gov.uk/Journey/JourneyResults/TW6%201EW/to/SE1%204TW?journeyPreference=LeastTime&mode=tube\n",
    "    * Had to use the postal codes for heathrow airport and tower bridge\n",
    "* Returned a dictionary\n",
    "* Cycled through both dictionaries searching for the value of the key - journey\n",
    "    * Got the amount of time it would take for bus and tube\n",
    "* Bus: 181 minutes\n",
    "* Tube: 93 minutes"
   ]
  },
  {
   "cell_type": "markdown",
   "id": "e42e3578",
   "metadata": {},
   "source": [
    "## Challenges\n",
    "\n",
    "* Documentation and examples of use were lacking\n",
    "* It was nice that transport london provides you with a place to try the API and check the result \n",
    "    * Helped me to navigate the database"
   ]
  }
 ],
 "metadata": {
  "kernelspec": {
   "display_name": "Python 3",
   "language": "python",
   "name": "python3"
  },
  "language_info": {
   "codemirror_mode": {
    "name": "ipython",
    "version": 3
   },
   "file_extension": ".py",
   "mimetype": "text/x-python",
   "name": "python",
   "nbconvert_exporter": "python",
   "pygments_lexer": "ipython3",
   "version": "3.8.8"
  }
 },
 "nbformat": 4,
 "nbformat_minor": 5
}
