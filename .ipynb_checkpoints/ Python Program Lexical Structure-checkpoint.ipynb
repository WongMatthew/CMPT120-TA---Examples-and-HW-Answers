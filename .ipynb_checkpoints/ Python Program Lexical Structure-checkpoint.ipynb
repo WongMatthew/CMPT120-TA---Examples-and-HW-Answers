{
 "cells": [
  {
   "cell_type": "markdown",
   "id": "b288e3bb",
   "metadata": {},
   "source": [
    "#  Python Program Lexical Structure"
   ]
  },
  {
   "cell_type": "markdown",
   "id": "5b59ed33",
   "metadata": {},
   "source": [
    "## Python statements"
   ]
  },
  {
   "cell_type": "code",
   "execution_count": 1,
   "id": "77441b73",
   "metadata": {},
   "outputs": [
    {
     "name": "stdout",
     "output_type": "stream",
     "text": [
      "hello world\n"
     ]
    }
   ],
   "source": [
    "print('hello world')"
   ]
  },
  {
   "cell_type": "code",
   "execution_count": 2,
   "id": "9c5eb7ff",
   "metadata": {},
   "outputs": [
    {
     "name": "stdout",
     "output_type": "stream",
     "text": [
      "[2]\n"
     ]
    }
   ],
   "source": [
    "x = [1,2,3]\n",
    "print(x[1:2])"
   ]
  },
  {
   "cell_type": "markdown",
   "id": "483f49a8",
   "metadata": {},
   "source": [
    "## Line continuation"
   ]
  },
  {
   "cell_type": "code",
   "execution_count": 5,
   "id": "66ac3289",
   "metadata": {},
   "outputs": [
    {
     "data": {
      "text/plain": [
       "True"
      ]
     },
     "execution_count": 5,
     "metadata": {},
     "output_type": "execute_result"
    }
   ],
   "source": [
    "person1_age = 42\n",
    "person2_age = 16 \n",
    "person3_age = 71\n",
    "\n",
    "someone_is_of_working_age = (person1_age >= 18 and person1_age <= 65) or (person2_age >= 18 and person2_age <= 65) or (person3_age >= 18 and person3_age <= 65)\n",
    "someone_is_of_working_age\n"
   ]
  },
  {
   "cell_type": "code",
   "execution_count": 6,
   "id": "f7d3cce5",
   "metadata": {},
   "outputs": [
    {
     "data": {
      "text/plain": [
       "[[1, 2, 3, 4, 5],\n",
       " [6, 7, 8, 9, 10],\n",
       " [11, 12, 13, 14, 15],\n",
       " [16, 17, 18, 19, 20],\n",
       " [21, 22, 23, 24, 25]]"
      ]
     },
     "execution_count": 6,
     "metadata": {},
     "output_type": "execute_result"
    }
   ],
   "source": [
    "a = [[1, 2, 3, 4, 5], [6, 7, 8, 9, 10], [11, 12, 13, 14, 15], [16, 17, 18, 19, 20], [21, 22, 23, 24, 25]]\n",
    "a"
   ]
  },
  {
   "cell_type": "markdown",
   "id": "b0793847",
   "metadata": {},
   "source": [
    "## Implicit line differentiation"
   ]
  },
  {
   "cell_type": "code",
   "execution_count": 8,
   "id": "9273f757",
   "metadata": {},
   "outputs": [
    {
     "data": {
      "text/plain": [
       "[[1, 2, 3, 4, 5],\n",
       " [6, 7, 8, 9, 10],\n",
       " [11, 12, 13, 14, 15],\n",
       " [16, 17, 18, 19, 20],\n",
       " [21, 22, 23, 24, 25]]"
      ]
     },
     "execution_count": 8,
     "metadata": {},
     "output_type": "execute_result"
    }
   ],
   "source": [
    "a = [\n",
    "     [1, 2, 3, 4, 5],\n",
    "     [6, 7, 8, 9, 10],\n",
    "     [11, 12, 13, 14, 15],\n",
    "     [16, 17, 18, 19, 20],\n",
    "     [21, 22, 23, 24, 25]\n",
    "    ]\n",
    "a"
   ]
  },
  {
   "cell_type": "code",
   "execution_count": 9,
   "id": "fef1ad41",
   "metadata": {},
   "outputs": [
    {
     "data": {
      "text/plain": [
       "True"
      ]
     },
     "execution_count": 9,
     "metadata": {},
     "output_type": "execute_result"
    }
   ],
   "source": [
    "someone_is_of_working_age = (\n",
    "     (person1_age >= 18 and person1_age <= 65)\n",
    "     or (person2_age >= 18 and person2_age <= 65)\n",
    "     or (person3_age >= 18 and person3_age <= 65)\n",
    "     )\n",
    "\n",
    "someone_is_of_working_age"
   ]
  },
  {
   "cell_type": "markdown",
   "id": "ae445905",
   "metadata": {},
   "source": [
    "### Parentheses"
   ]
  },
  {
   "cell_type": "code",
   "execution_count": 10,
   "id": "c14147d7",
   "metadata": {},
   "outputs": [
    {
     "data": {
      "text/plain": [
       "21"
      ]
     },
     "execution_count": 10,
     "metadata": {},
     "output_type": "execute_result"
    }
   ],
   "source": [
    "# Expression Grouping\n",
    "x = (1+2+3+4+5+6)\n",
    "x"
   ]
  },
  {
   "cell_type": "code",
   "execution_count": 11,
   "id": "3946c731",
   "metadata": {},
   "outputs": [
    {
     "name": "stdout",
     "output_type": "stream",
     "text": [
      "foo bar baz\n"
     ]
    }
   ],
   "source": [
    "# Function Call\n",
    "print('foo','bar','baz')"
   ]
  },
  {
   "cell_type": "code",
   "execution_count": 12,
   "id": "2faddf34",
   "metadata": {},
   "outputs": [
    {
     "data": {
      "text/plain": [
       "'___abc___'"
      ]
     },
     "execution_count": 12,
     "metadata": {},
     "output_type": "execute_result"
    }
   ],
   "source": [
    "# Method Call\n",
    "'abc'.center(\n",
    "9,'_')"
   ]
  },
  {
   "cell_type": "code",
   "execution_count": 15,
   "id": "2e06725f",
   "metadata": {},
   "outputs": [
    {
     "data": {
      "text/plain": [
       "('a', 'b', 'c', 'd')"
      ]
     },
     "execution_count": 15,
     "metadata": {},
     "output_type": "execute_result"
    }
   ],
   "source": [
    "# Tuple definition\n",
    "t = ('a','b','c','d')\n",
    "t"
   ]
  },
  {
   "cell_type": "markdown",
   "id": "f2450f97",
   "metadata": {},
   "source": [
    "## Curly Braces"
   ]
  },
  {
   "cell_type": "code",
   "execution_count": 16,
   "id": "a7aa80db",
   "metadata": {},
   "outputs": [
    {
     "data": {
      "text/plain": [
       "{'a': 1, 'b': 2}"
      ]
     },
     "execution_count": 16,
     "metadata": {},
     "output_type": "execute_result"
    }
   ],
   "source": [
    "# DIctionary definition\n",
    "d = {'a':1,'b':2}\n",
    "d"
   ]
  },
  {
   "cell_type": "code",
   "execution_count": 17,
   "id": "aa157b3d",
   "metadata": {},
   "outputs": [
    {
     "data": {
      "text/plain": [
       "{'bar', 'baz', 'foo'}"
      ]
     },
     "execution_count": 17,
     "metadata": {},
     "output_type": "execute_result"
    }
   ],
   "source": [
    "# Set definition\n",
    "x1 = {\n",
    "    'foo',\n",
    "    'bar',\n",
    "    'baz'\n",
    "}\n",
    "x1"
   ]
  },
  {
   "cell_type": "markdown",
   "id": "b8e06dc0",
   "metadata": {},
   "source": [
    "## Square Brackets"
   ]
  },
  {
   "cell_type": "code",
   "execution_count": 19,
   "id": "b348582f",
   "metadata": {},
   "outputs": [
    {
     "data": {
      "text/plain": [
       "['foo', 'bar', 'baz']"
      ]
     },
     "execution_count": 19,
     "metadata": {},
     "output_type": "execute_result"
    }
   ],
   "source": [
    "# list definition\n",
    "a = ['foo','bar','baz']\n",
    "a"
   ]
  },
  {
   "cell_type": "code",
   "execution_count": 20,
   "id": "89e396c1",
   "metadata": {},
   "outputs": [
    {
     "data": {
      "text/plain": [
       "'bar'"
      ]
     },
     "execution_count": 20,
     "metadata": {},
     "output_type": "execute_result"
    }
   ],
   "source": [
    "# Indexing\n",
    "a[1]"
   ]
  },
  {
   "cell_type": "code",
   "execution_count": 22,
   "id": "7e23b658",
   "metadata": {},
   "outputs": [
    {
     "data": {
      "text/plain": [
       "['baz']"
      ]
     },
     "execution_count": 22,
     "metadata": {},
     "output_type": "execute_result"
    }
   ],
   "source": [
    "# SLicing\n",
    "a[2:3]"
   ]
  },
  {
   "cell_type": "code",
   "execution_count": 23,
   "id": "81a28800",
   "metadata": {},
   "outputs": [
    {
     "data": {
      "text/plain": [
       "2"
      ]
     },
     "execution_count": 23,
     "metadata": {},
     "output_type": "execute_result"
    }
   ],
   "source": [
    "# Dictionary key reference\n",
    "d['b']"
   ]
  },
  {
   "cell_type": "markdown",
   "id": "5a195ba8",
   "metadata": {},
   "source": [
    "## Explicit line continuation"
   ]
  },
  {
   "cell_type": "code",
   "execution_count": 27,
   "id": "de0930b2",
   "metadata": {},
   "outputs": [
    {
     "data": {
      "text/plain": [
       "'Hello world'"
      ]
     },
     "execution_count": 27,
     "metadata": {},
     "output_type": "execute_result"
    }
   ],
   "source": [
    "s = \\\n",
    "'Hello world'\n",
    "s"
   ]
  },
  {
   "cell_type": "markdown",
   "id": "5292c1b6",
   "metadata": {},
   "source": [
    "## Multiple statements per line"
   ]
  },
  {
   "cell_type": "code",
   "execution_count": 28,
   "id": "564284e3",
   "metadata": {},
   "outputs": [],
   "source": [
    "x = 1; y=2; z = 3"
   ]
  },
  {
   "cell_type": "code",
   "execution_count": 29,
   "id": "7e15adc9",
   "metadata": {},
   "outputs": [
    {
     "name": "stdout",
     "output_type": "stream",
     "text": [
      "1\n",
      "2\n",
      "3\n"
     ]
    }
   ],
   "source": [
    "print(x); print(y); print(z)"
   ]
  },
  {
   "cell_type": "code",
   "execution_count": 30,
   "id": "b7ab6ca9",
   "metadata": {},
   "outputs": [
    {
     "name": "stdout",
     "output_type": "stream",
     "text": [
      "1\n",
      "2\n",
      "3\n"
     ]
    }
   ],
   "source": [
    "x, y, z = 1, 2, 3\n",
    "print(x, y, z, sep='\\n')"
   ]
  },
  {
   "cell_type": "markdown",
   "id": "6f72c5a3",
   "metadata": {},
   "source": [
    "## Comments"
   ]
  },
  {
   "cell_type": "code",
   "execution_count": 31,
   "id": "38d023eb",
   "metadata": {},
   "outputs": [],
   "source": [
    "# I am a comment"
   ]
  },
  {
   "cell_type": "markdown",
   "id": "964bb50c",
   "metadata": {},
   "source": [
    "## Whitespace"
   ]
  },
  {
   "cell_type": "markdown",
   "id": "15971593",
   "metadata": {},
   "source": [
    "| Syntax      | Description | Literal expression |\n",
    "| ----------- | ----------- | ------------------ |\n",
    "| space       | 32(0x20)    | ' '                |\n",
    "| tab         | 9(0x9)      | \\t                 |\n",
    "| newline     | 10 (0xa)    | \\n                 |"
   ]
  },
  {
   "cell_type": "code",
   "execution_count": 39,
   "id": "96307455",
   "metadata": {},
   "outputs": [
    {
     "data": {
      "text/plain": [
       "{'sauce': 1, 'basil': 2, 'onions': 1, 'mushrooms': 3}"
      ]
     },
     "execution_count": 39,
     "metadata": {},
     "output_type": "execute_result"
    }
   ],
   "source": [
    "pantry = {'pasta': 3, 'garlic': 4,'sauce': 2,\n",
    "          'basil': 2, 'salt': 3, 'olive oil': 3,\n",
    "          'rice': 3, 'bread': 3, 'peanut butter': 1,\n",
    "          'flour': 1, 'eggs': 1, 'onions': 1, 'mushrooms': 3,\n",
    "          'broccoli': 2, 'butter': 2,'pickles': 6, 'milk': 2,\n",
    "          'chia seeds': 5}\n",
    "\n",
    "meal_recipe = {'pasta': 2, 'garlic': 2, 'sauce': 3,\n",
    "          'basil': 4, 'salt': 1, 'pepper': 2,\n",
    "          'olive oil': 2, 'onions': 2, 'mushrooms': 6}\n",
    "\n",
    "shopping_list = dict()\n",
    "\n",
    "for i in meal_recipe:\n",
    "    if i in pantry:\n",
    "        if pantry[i] >= meal_recipe[i]:\n",
    "            pass\n",
    "        else:\n",
    "            shopping_list[i] = meal_recipe[i]-pantry[i]\n",
    "            \n",
    "shopping_list"
   ]
  },
  {
   "cell_type": "code",
   "execution_count": null,
   "id": "56bf34f1",
   "metadata": {},
   "outputs": [],
   "source": [
    "import sys\n",
    "\n",
    "counter = 0\n",
    "\n",
    "def compare(ans1,ans2):\n",
    "    if ans1 == ans2:\n",
    "        print(\"tie\")\n",
    "    elif ans1 == \"paper\" and ans2 == \"rock\":\n",
    "        return \"paper wins\"\n",
    "    elif ans1 == \"scissors\" and ans2 == \"paper\":\n",
    "        return \"scissors wins\"\n",
    "    elif ans1 == \"rock\" and ans2 == \"scissors\":\n",
    "        return \"rock wins\"\n",
    "    elif ans1 == \"rock\" and ans2 == \"paper\":\n",
    "        return \"paper wins\"\n",
    "    elif ans1 == \"paper\" and ans2 == \"scissors\":\n",
    "        return \"scissors wins\"\n",
    "    elif ans1 == \"scissors\" and ans2 == \"rock\":\n",
    "        return \"rock wins\"\n",
    "    \n",
    "while counter = 0:\n",
    "    user1 = input(\"do yo want to choose rock, paper or scissors?\")\n",
    "    user2 = input(\"do yo want to choose rock, paper or scissors?\")\n",
    "    compare(user1, user2)"
   ]
  },
  {
   "cell_type": "code",
   "execution_count": null,
   "id": "8389abe1",
   "metadata": {},
   "outputs": [
    {
     "name": "stdout",
     "output_type": "stream",
     "text": [
      "Please pick one:\n",
      "            rock\n",
      "            scissors\n",
      "            paper\n",
      "Player a: rock\n",
      "Player b: scissors\n",
      "player a wins.\n"
     ]
    }
   ],
   "source": [
    "import sys\n",
    "\n",
    "print('''Please pick one:\n",
    "            rock\n",
    "            scissors\n",
    "            paper''')\n",
    "\n",
    "while True:\n",
    "    game_dict = {'rock': 1, 'scissors': 2, 'paper': 3}\n",
    "    player_a = str(input(\"Player a: \"))\n",
    "    player_b = str(input(\"Player b: \"))\n",
    "    a = game_dict.get(player_a)\n",
    "    b = game_dict.get(player_b)\n",
    "    dif = a - b\n",
    "\n",
    "    if dif in [2, -1]:\n",
    "        print('player a wins.')\n",
    "        if str(input('Do you want to play another game, yes or no?\\n')) == 'yes':\n",
    "            continue\n",
    "        else:\n",
    "            print('game over.')\n",
    "            break\n",
    "    elif dif in [-2, 1]:\n",
    "        print('player b wins.')\n",
    "        if str(input('Do you want to play another game, yes or no?\\n')) == 'yes':\n",
    "            continue\n",
    "        else:\n",
    "            print('game over.')\n",
    "            break\n",
    "    else:\n",
    "        print('Draw.Please continue.')\n",
    "        print('')"
   ]
  },
  {
   "cell_type": "code",
   "execution_count": null,
   "id": "ad886efd",
   "metadata": {},
   "outputs": [],
   "source": []
  }
 ],
 "metadata": {
  "kernelspec": {
   "display_name": "THE_ONE",
   "language": "python",
   "name": "the_one"
  },
  "language_info": {
   "codemirror_mode": {
    "name": "ipython",
    "version": 3
   },
   "file_extension": ".py",
   "mimetype": "text/x-python",
   "name": "python",
   "nbconvert_exporter": "python",
   "pygments_lexer": "ipython3",
   "version": "3.8.8"
  }
 },
 "nbformat": 4,
 "nbformat_minor": 5
}
