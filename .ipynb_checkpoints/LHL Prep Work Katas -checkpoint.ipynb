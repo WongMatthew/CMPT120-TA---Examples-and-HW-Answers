{
 "cells": [
  {
   "cell_type": "markdown",
   "id": "731133f2",
   "metadata": {},
   "source": [
    "# LHL Prep Work Katas "
   ]
  },
  {
   "cell_type": "markdown",
   "id": "eecaa691",
   "metadata": {},
   "source": [
    "### Sum the largest numbers\n"
   ]
  },
  {
   "cell_type": "code",
   "execution_count": 1,
   "id": "9fda1855",
   "metadata": {},
   "outputs": [
    {
     "name": "stdout",
     "output_type": "stream",
     "text": [
      "11\n",
      "5\n",
      "126\n"
     ]
    }
   ],
   "source": [
    "def sumLargestNumbers(arr):\n",
    "    # Sorts array in descending order, then adds first two items\n",
    "    arr.sort(reverse = True)\n",
    "    return arr[0]+arr[1]\n",
    "\n",
    "\n",
    "print(sumLargestNumbers([1, 10]))\n",
    "print(sumLargestNumbers([1, 2, 3]))\n",
    "print(sumLargestNumbers([10, 4, 34, 6, 92, 2]))"
   ]
  },
  {
   "cell_type": "markdown",
   "id": "5d4c2fbc",
   "metadata": {},
   "source": [
    "### Conditional Sums"
   ]
  },
  {
   "cell_type": "code",
   "execution_count": 2,
   "id": "26459b80",
   "metadata": {},
   "outputs": [
    {
     "name": "stdout",
     "output_type": "stream",
     "text": [
      "6\n",
      "9\n",
      "144\n",
      "0\n"
     ]
    }
   ],
   "source": [
    "def conditionalSum(values, condition):\n",
    "    # initialize variables\n",
    "    total = 0\n",
    "    \n",
    "    # return 0 if given empty list\n",
    "    if len(values) == 0:\n",
    "        return 0\n",
    "    \n",
    "    # checks condition, iterates through all values in list, checks which numbers are odd/even, adds them to total, return total\n",
    "    if condition == \"odd\":\n",
    "        for i in values:\n",
    "            if i % 2:\n",
    "                total += i\n",
    "        return total\n",
    "    elif condition == \"even\":\n",
    "        for i in values:\n",
    "            if not i % 2:\n",
    "                total += i \n",
    "        return total\n",
    "        \n",
    "\n",
    "\n",
    "print(conditionalSum([1, 2, 3, 4, 5], \"even\"))\n",
    "print(conditionalSum([1, 2, 3, 4, 5], \"odd\"))\n",
    "print(conditionalSum([13, 88, 12, 44, 99], \"even\"))\n",
    "print(conditionalSum([], \"odd\"))"
   ]
  },
  {
   "cell_type": "markdown",
   "id": "8147d091",
   "metadata": {},
   "source": [
    "### Vowels"
   ]
  },
  {
   "cell_type": "code",
   "execution_count": 3,
   "id": "de3aa24f",
   "metadata": {},
   "outputs": [
    {
     "name": "stdout",
     "output_type": "stream",
     "text": [
      "3\n",
      "5\n",
      "5\n"
     ]
    }
   ],
   "source": [
    "def numberOfVowels(data):\n",
    "    vowels = ['a','e','i','o','u']\n",
    "    i = 0\n",
    "    for x in data:\n",
    "        if x in vowels:\n",
    "            i+=1\n",
    "    return i\n",
    "        \n",
    "print(numberOfVowels(\"orange\"))\n",
    "print(numberOfVowels(\"lighthouse labs\"))\n",
    "print(numberOfVowels(\"aeiou\"))"
   ]
  },
  {
   "cell_type": "markdown",
   "id": "72c1cdc4",
   "metadata": {},
   "source": [
    "### Instructor Names"
   ]
  },
  {
   "cell_type": "code",
   "execution_count": 60,
   "id": "b9dc77bf",
   "metadata": {},
   "outputs": [
    {
     "name": "stdout",
     "output_type": "stream",
     "text": [
      "[6]\n",
      "[6, 8]\n",
      "[6, 8, 7]\n",
      "[6, 8, 7, 6]\n",
      "{'name': 'Jeremiah', 'course': 'Data'}\n",
      "[7]\n",
      "[7, 5]\n",
      "[7, 5, 8]\n",
      "{'name': 'Domascus', 'course': 'Web'}\n"
     ]
    },
    {
     "data": {
      "text/plain": [
       "'\\nExpected: \\n{name: \"Jeremiah\", course: \"Data\"}\\n{name: \"Domascus\", course: \"Web\"}\\n'"
      ]
     },
     "execution_count": 60,
     "metadata": {},
     "output_type": "execute_result"
    }
   ],
   "source": [
    "def instructorWithLongestName(instructors):   \n",
    "    \n",
    "    name_length=[]\n",
    "\n",
    "    for i in range(len(instructors)):\n",
    "        name_length.append((len(instructors[i][\"name\"])))\n",
    "    return instructors[name_length.index(max(name_length))]\n",
    "\n",
    "print(instructorWithLongestName([\n",
    "  {'name': \"Samuel\", 'course': \"iOS\"},\n",
    "  {'name': \"Jeremiah\", 'course': \"Data\"},\n",
    "  {'name': \"Ophilia\", 'course': \"Web\"},\n",
    "  {'name': \"Donald\", 'course': \"Web\"}\n",
    "]))\n",
    "\n",
    "print(instructorWithLongestName([\n",
    "  {'name': \"Matthew\", 'course': \"Data\"},\n",
    "  {'name': \"David\", 'course': \"iOS\"},\n",
    "  {'name': \"Domascus\", 'course': \"Web\"}\n",
    "]))\n",
    "\n",
    "\"\"\"\n",
    "Expected: \n",
    "{name: \"Jeremiah\", course: \"Data\"}\n",
    "{name: \"Domascus\", course: \"Web\"}\n",
    "\"\"\""
   ]
  },
  {
   "cell_type": "markdown",
   "id": "3f112feb",
   "metadata": {},
   "source": [
    "### Percent Encoded String"
   ]
  },
  {
   "cell_type": "code",
   "execution_count": 20,
   "id": "f577e270",
   "metadata": {},
   "outputs": [
    {
     "name": "stdout",
     "output_type": "stream",
     "text": [
      "Lighthouse%20Labs\n",
      "Lighthouse%20Labs\n",
      "blue%20is%20greener%20than%20purple%20for%20sure\n"
     ]
    }
   ],
   "source": [
    "def urlEncode(text):\n",
    "    fill = \"%20\"\n",
    "    new_text = \"\"\n",
    "    text = text.strip(' ')\n",
    "    for letter in text:\n",
    "        if not letter == \" \":\n",
    "            new_text += letter\n",
    "        else:\n",
    "            new_text += fill\n",
    "    return new_text\n",
    "\n",
    "\n",
    "print(urlEncode(\"Lighthouse Labs\"))\n",
    "print(urlEncode(\" Lighthouse Labs  \"))\n",
    "print(urlEncode(\"blue is greener than purple for sure\"))"
   ]
  },
  {
   "cell_type": "markdown",
   "id": "40db89ac",
   "metadata": {},
   "source": [
    "### Smart Parking"
   ]
  },
  {
   "cell_type": "code",
   "execution_count": 61,
   "id": "c76c62e8",
   "metadata": {},
   "outputs": [
    {
     "name": "stdout",
     "output_type": "stream",
     "text": [
      "[4, 0]\n",
      "false\n",
      "[3, 5]\n"
     ]
    }
   ],
   "source": [
    "def whereCanIPark(spots, vehicle):\n",
    "    value=[]\n",
    "    for i in range(len(spots)):\n",
    "        for j in range(len(spots[0])):\n",
    "            if vehicle == \"regular\" and spots[i][j]==\"R\":\n",
    "                value=[j,i]\n",
    "                return value\n",
    "            elif vehicle == \"motorcycle\" and spots[i][j]==\"M\":\n",
    "                value=[j,i]\n",
    "                return value\n",
    "            elif vehicle == \"small\" and spots[i][j]==\"S\":\n",
    "                value=[j,i]\n",
    "                return value\n",
    "    if value == []:\n",
    "        return \"false\"\n",
    "\n",
    "\n",
    "print(whereCanIPark(\n",
    "  [\n",
    "    # COLUMNS ARE X\n",
    "    # 0    1    2    3    4    5\n",
    "    ['s', 's', 's', 'S', 'R', 'M'], # 0 ROWS ARE Y\n",
    "    ['s', 'M', 's', 'S', 'r', 'M'], # 1\n",
    "    ['s', 'M', 's', 'S', 'r', 'm'], # 2\n",
    "    ['S', 'r', 's', 'm', 'r', 'M'], # 3\n",
    "    ['S', 'r', 's', 'm', 'r', 'M'], # 4\n",
    "    ['S', 'r', 'S', 'M', 'M', 'S']  # 5\n",
    "  ],\n",
    "  'regular'\n",
    "))\n",
    "\n",
    "print(whereCanIPark(\n",
    "  [\n",
    "    ['M', 'M', 'M', 'M'],\n",
    "    ['M', 's', 'M', 'M'],\n",
    "    ['M', 'M', 'M', 'M'],\n",
    "    ['M', 'M', 'r', 'M']\n",
    "  ],\n",
    "  'small'\n",
    "))\n",
    "\n",
    "print(whereCanIPark(\n",
    "  [\n",
    "    ['s', 's', 's', 's', 's', 's'],\n",
    "    ['s', 'm', 's', 'S', 'r', 's'],\n",
    "    ['s', 'm', 's', 'S', 'r', 's'],\n",
    "    ['S', 'r', 's', 'm', 'r', 's'],\n",
    "    ['S', 'r', 's', 'm', 'R', 's'],\n",
    "    ['S', 'r', 'S', 'M', 'm', 'S']\n",
    "  ],\n",
    "  'motorcycle'\n",
    "))"
   ]
  },
  {
   "cell_type": "markdown",
   "id": "dc9b7a29",
   "metadata": {},
   "source": [
    "### In the Air Tonight"
   ]
  },
  {
   "cell_type": "code",
   "execution_count": 66,
   "id": "8fe5d08e",
   "metadata": {},
   "outputs": [
    {
     "name": "stdout",
     "output_type": "stream",
     "text": [
      "Polluted\n",
      "Polluted\n",
      "Clean\n"
     ]
    }
   ],
   "source": [
    "def checkAir(samples, threshold):\n",
    "    \n",
    "    DirtCount = 0\n",
    "    total_sample = len(samples)\n",
    "    \n",
    "    for air in samples:\n",
    "        if air == \"dirty\":\n",
    "            DirtCount += 1\n",
    "        else:\n",
    "            pass\n",
    "    \n",
    "    if DirtCount/total_sample > threshold:\n",
    "        return \"Polluted\"\n",
    "    else:\n",
    "        return \"Clean\"\n",
    "            \n",
    "print(checkAir(\n",
    "  ['clean', 'clean', 'dirty', 'clean', 'dirty', 'clean', 'clean', 'dirty', 'clean', 'dirty'],\n",
    "  0.3\n",
    "))\n",
    "\n",
    "print(checkAir(\n",
    "  ['dirty', 'dirty', 'dirty', 'dirty', 'clean'],\n",
    "  0.25\n",
    "))\n",
    "\n",
    "print(checkAir(\n",
    "  ['clean', 'dirty', 'clean', 'dirty', 'clean', 'dirty', 'clean'],\n",
    "  0.9\n",
    "))"
   ]
  },
  {
   "cell_type": "code",
   "execution_count": null,
   "id": "5242e864",
   "metadata": {},
   "outputs": [],
   "source": []
  },
  {
   "cell_type": "code",
   "execution_count": null,
   "id": "44c040da",
   "metadata": {},
   "outputs": [],
   "source": []
  }
 ],
 "metadata": {
  "kernelspec": {
   "display_name": "Python 3",
   "language": "python",
   "name": "python3"
  },
  "language_info": {
   "codemirror_mode": {
    "name": "ipython",
    "version": 3
   },
   "file_extension": ".py",
   "mimetype": "text/x-python",
   "name": "python",
   "nbconvert_exporter": "python",
   "pygments_lexer": "ipython3",
   "version": "3.8.8"
  }
 },
 "nbformat": 4,
 "nbformat_minor": 5
}
