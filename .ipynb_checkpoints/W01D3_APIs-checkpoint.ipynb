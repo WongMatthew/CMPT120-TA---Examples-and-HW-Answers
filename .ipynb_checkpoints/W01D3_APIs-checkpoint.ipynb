{
 "cells": [
  {
   "cell_type": "markdown",
   "metadata": {
    "slideshow": {
     "slide_type": "slide"
    }
   },
   "source": [
    "## Lighthouse Labs\n",
    "### W01D3 APIs\n",
    "Instructor: Socorro Dominguez  \n",
    "June 23, 2021"
   ]
  },
  {
   "cell_type": "markdown",
   "metadata": {},
   "source": [
    "[Download the notebook](https://downgit.github.io/#/home?url=https://github.com/sedv8808/LighthouseLabs/tree/main/W01D3)"
   ]
  },
  {
   "cell_type": "markdown",
   "metadata": {
    "slideshow": {
     "slide_type": "slide"
    }
   },
   "source": [
    "**Agenda:**\n",
    "* Introductions\n",
    "* Where does our data come from?\n",
    "* APIs\n",
    "    * What is it?\n",
    "    * Applications\n",
    "    * Demo\n",
    "        * Python\n",
    "        * Postman\n",
    "        * Terminal"
   ]
  },
  {
   "cell_type": "markdown",
   "metadata": {
    "slideshow": {
     "slide_type": "slide"
    }
   },
   "source": [
    "Think about where we get our data from..."
   ]
  },
  {
   "cell_type": "markdown",
   "metadata": {
    "slideshow": {
     "slide_type": "fragment"
    }
   },
   "source": [
    "- Publicly available datasets (e.g. check out Kaggle)\n",
    "    - Good for benchmarking, but limited for real use-case\n",
    "- Company’s database (e.g. transaction history)\n",
    "    - SQL, MongoDB, etc.\n",
    "- From the web\n",
    "    - Collected manually\n",
    "    - Collected automatically (code)"
   ]
  },
  {
   "cell_type": "markdown",
   "metadata": {
    "slideshow": {
     "slide_type": "slide"
    }
   },
   "source": [
    "## How is Data Science related to the Web?"
   ]
  },
  {
   "cell_type": "markdown",
   "metadata": {
    "slideshow": {
     "slide_type": "slide"
    }
   },
   "source": [
    "![img](api_img.png)"
   ]
  },
  {
   "cell_type": "markdown",
   "metadata": {
    "slideshow": {
     "slide_type": "slide"
    }
   },
   "source": [
    "![img](xml_img.png)"
   ]
  },
  {
   "cell_type": "markdown",
   "metadata": {
    "slideshow": {
     "slide_type": "slide"
    }
   },
   "source": [
    "### What if we wanted to collect this data for analysis?"
   ]
  },
  {
   "cell_type": "markdown",
   "metadata": {
    "slideshow": {
     "slide_type": "fragment"
    }
   },
   "source": [
    "We would need to create a Data Mining program that goes to URLs and parses the HTML to extract data.\n",
    "- Effortful\n",
    "    - HTML is difficult to parse\n",
    "    - Almost all information is irrelevant (e.g. UI-related)\n",
    "    - Websites often require interaction (e.g. “Load More” button)\n",
    "    - When websites update, your code will break\n",
    "    - Every website is different\n",
    "    - Companies try to stop data miners"
   ]
  },
  {
   "cell_type": "markdown",
   "metadata": {
    "slideshow": {
     "slide_type": "slide"
    }
   },
   "source": [
    "## What is an API?"
   ]
  },
  {
   "cell_type": "markdown",
   "metadata": {
    "slideshow": {
     "slide_type": "fragment"
    }
   },
   "source": [
    "**A**pplication  \n",
    "**P**rogramming  \n",
    "**I**nterface  \n",
    "  \n",
    "* We will be mostly using RESTful APIs.   \n",
    "\n",
    "**RE**presentation  \n",
    "**S**tate  \n",
    "**T**ransfer  \n",
    "**C**haracteristics  \n",
    "\n",
    "We will revisit RESTful APIs in Week 7, so try to get just the main concepts today."
   ]
  },
  {
   "cell_type": "markdown",
   "metadata": {
    "slideshow": {
     "slide_type": "slide"
    }
   },
   "source": [
    "- Programmer-friendly version of websites\n",
    "- Go to a URL composed of\n",
    "    - API root endpoint\n",
    "    - API function\n",
    "    - API key (like a login)\n",
    "    - Parameter keys\n",
    "    - Parameter values\n",
    "    - Returns data (JSON, XML, csv, etc.)"
   ]
  },
  {
   "cell_type": "markdown",
   "metadata": {
    "slideshow": {
     "slide_type": "slide"
    }
   },
   "source": [
    "### Characteristics?\n",
    "\n",
    "Client-server, typically HTTP-based, stateless server\n"
   ]
  },
  {
   "cell_type": "markdown",
   "metadata": {
    "slideshow": {
     "slide_type": "slide"
    }
   },
   "source": [
    "### Furthermore....\n",
    "\n",
    "some web site’s provide direct access to their data. For example: Twitter, Translink, Car2Go, Google Maps, Yahoo\n",
    "\n",
    "* Why would they do this?\n",
    "\n",
    "* Why would some web sites not do this?"
   ]
  },
  {
   "cell_type": "markdown",
   "metadata": {
    "slideshow": {
     "slide_type": "slide"
    }
   },
   "source": [
    "### What representation is DATA found in?"
   ]
  },
  {
   "cell_type": "markdown",
   "metadata": {
    "slideshow": {
     "slide_type": "fragment"
    }
   },
   "source": [
    "**J**ava**S**cript **O**bject **N**otation (json)\n",
    "\n",
    "\n",
    "Textual format for structured data  \n",
    "* [a,b,c] for arrays  \n",
    "* {‘x’: m, ‘y’: n, ‘z’: o} for objects"
   ]
  },
  {
   "cell_type": "markdown",
   "metadata": {
    "slideshow": {
     "slide_type": "slide"
    }
   },
   "source": [
    "### JSON\n",
    "* textual description of python (javascript actually) objects\n",
    "* arrays and dictionaries\n",
    "\n",
    "```\n",
    "{\n",
    "'library': [\n",
    "           {'title': 'For Whom the Bell Tolls', 'author': 'Ernest Hemingway'},\n",
    "           {'title': 'Trump: The Art of the Deal', 'author': 'Good Question'}\n",
    "           ]\n",
    "}\n",
    "```"
   ]
  },
  {
   "cell_type": "markdown",
   "metadata": {
    "slideshow": {
     "slide_type": "slide"
    }
   },
   "source": [
    "### Intro to XML   \n",
    "• hierarchical description of tagged data  \n",
    "\n",
    "```\n",
    "<library>\n",
    "<book>\n",
    "<title>\n",
    "For Whom the Bell Tolls\n",
    "</title>\n",
    "<author>\n",
    "Ernest Hemingway\n",
    "</author>\n",
    "</book>\n",
    "<book>\n",
    "<title>\n",
    "Trump: The Art of the Deal\n",
    "</title>\n",
    "<author>\n",
    "Good Question\n",
    "</author>\n",
    "</book>\n",
    "</library>\n",
    "```"
   ]
  },
  {
   "cell_type": "markdown",
   "metadata": {
    "slideshow": {
     "slide_type": "slide"
    }
   },
   "source": [
    "### Using a Web API\n",
    "\n",
    "Provider defines:\n",
    "* message format for requests and responses\n",
    "* usually in both XML and JSON\n",
    "* registration and authentication\n",
    "* usually using OAuth (delegated authorization framework for REST/APIs. It enables apps to obtain limited access to a user's data without giving away a user's password.)"
   ]
  },
  {
   "cell_type": "markdown",
   "metadata": {
    "slideshow": {
     "slide_type": "slide"
    }
   },
   "source": [
    "Language integration\n",
    "* might be provided or you might have to do it yourself\n",
    "* if provided, usually someone other than data source\n",
    "* library API for various languages like python\n",
    "* you write a python program that calls library procedures\n",
    "* library formats messages, sends them to web provider, translates responses as return values"
   ]
  },
  {
   "cell_type": "markdown",
   "metadata": {
    "slideshow": {
     "slide_type": "slide"
    }
   },
   "source": [
    "### Getting JSON Data\n",
    "\n",
    "We need to select the output format using API:\n",
    "* e.g., http header: accept = application/json\n",
    "\n",
    "\n",
    "View in browser or Postman\n",
    "* good for exploration / debugging\n",
    "\n",
    "Use request .get\n",
    "* this returns a python array or dictionary\n",
    "\n",
    "Get a string and parse\n",
    "* import json\n",
    "* x = json .loads(aJSONString)"
   ]
  },
  {
   "cell_type": "markdown",
   "metadata": {
    "slideshow": {
     "slide_type": "slide"
    }
   },
   "source": [
    "## Demo with Translink and Github"
   ]
  },
  {
   "cell_type": "markdown",
   "metadata": {
    "slideshow": {
     "slide_type": "fragment"
    }
   },
   "source": [
    "Get your own API token from developer.translink.ca !  \n",
    " ``` Close slideshow mode```"
   ]
  },
  {
   "cell_type": "markdown",
   "metadata": {
    "slideshow": {
     "slide_type": "slide"
    }
   },
   "source": [
    "Hint: If you are on Chrome, use the JSON formatter extension."
   ]
  },
  {
   "cell_type": "code",
   "execution_count": 1,
   "metadata": {
    "slideshow": {
     "slide_type": "fragment"
    }
   },
   "outputs": [
    {
     "data": {
      "text/plain": [
       "[{'RouteNo': '099',\n",
       "  'RouteName': 'COMMERCIAL-BROADWAY/UBC (B-LINE)',\n",
       "  'Direction': 'EAST',\n",
       "  'RouteMap': {'Href': 'https://nb.translink.ca/geodata/099.kmz'},\n",
       "  'Schedules': [{'Pattern': 'E1',\n",
       "    'Destination': \"COMM'L-BDWAY STN\",\n",
       "    'ExpectedLeaveTime': '8:49am',\n",
       "    'ExpectedCountdown': 1,\n",
       "    'ScheduleStatus': ' ',\n",
       "    'CancelledTrip': False,\n",
       "    'CancelledStop': False,\n",
       "    'AddedTrip': False,\n",
       "    'AddedStop': False,\n",
       "    'LastUpdate': '07:49:07 am'},\n",
       "   {'Pattern': 'E1',\n",
       "    'Destination': \"COMM'L-BDWAY STN\",\n",
       "    'ExpectedLeaveTime': '8:52am',\n",
       "    'ExpectedCountdown': 4,\n",
       "    'ScheduleStatus': ' ',\n",
       "    'CancelledTrip': False,\n",
       "    'CancelledStop': False,\n",
       "    'AddedTrip': False,\n",
       "    'AddedStop': False,\n",
       "    'LastUpdate': '08:41:41 am'},\n",
       "   {'Pattern': 'E1',\n",
       "    'Destination': \"COMM'L-BDWAY STN\",\n",
       "    'ExpectedLeaveTime': '8:55am',\n",
       "    'ExpectedCountdown': 7,\n",
       "    'ScheduleStatus': '*',\n",
       "    'CancelledTrip': False,\n",
       "    'CancelledStop': False,\n",
       "    'AddedTrip': False,\n",
       "    'AddedStop': False,\n",
       "    'LastUpdate': '07:55:21 am'},\n",
       "   {'Pattern': 'E1',\n",
       "    'Destination': \"COMM'L-BDWAY STN\",\n",
       "    'ExpectedLeaveTime': '9:01am',\n",
       "    'ExpectedCountdown': 13,\n",
       "    'ScheduleStatus': '-',\n",
       "    'CancelledTrip': False,\n",
       "    'CancelledStop': False,\n",
       "    'AddedTrip': False,\n",
       "    'AddedStop': False,\n",
       "    'LastUpdate': '08:46:48 am'},\n",
       "   {'Pattern': 'E1',\n",
       "    'Destination': \"COMM'L-BDWAY STN\",\n",
       "    'ExpectedLeaveTime': '9:02am',\n",
       "    'ExpectedCountdown': 14,\n",
       "    'ScheduleStatus': '*',\n",
       "    'CancelledTrip': False,\n",
       "    'CancelledStop': False,\n",
       "    'AddedTrip': False,\n",
       "    'AddedStop': False,\n",
       "    'LastUpdate': '08:02:03 am'},\n",
       "   {'Pattern': 'E1',\n",
       "    'Destination': \"COMM'L-BDWAY STN\",\n",
       "    'ExpectedLeaveTime': '9:05am',\n",
       "    'ExpectedCountdown': 17,\n",
       "    'ScheduleStatus': '*',\n",
       "    'CancelledTrip': False,\n",
       "    'CancelledStop': False,\n",
       "    'AddedTrip': False,\n",
       "    'AddedStop': False,\n",
       "    'LastUpdate': '08:05:04 am'}]}]"
      ]
     },
     "execution_count": 1,
     "metadata": {},
     "output_type": "execute_result"
    }
   ],
   "source": [
    "import requests\n",
    "import config as cfg\n",
    "\n",
    "# Get your own API token from developer.translink.ca\n",
    "\n",
    "apikey = cfg.translink['key']\n",
    "\n",
    "#In the Walkthrough, you will learn how to hide your API keys using Environmental Variables.\n",
    "\n",
    "requests.get('http://api.translink.ca/rttiapi/v1/stops/61935/estimates?apikey={}'.format(apikey),headers={'accept': 'application/JSON'}).json()\n",
    "\n"
   ]
  },
  {
   "cell_type": "code",
   "execution_count": 2,
   "metadata": {
    "scrolled": true,
    "slideshow": {
     "slide_type": "slide"
    }
   },
   "outputs": [
    {
     "data": {
      "application/json": [
       {
        "AtStreet": "98 AVE",
        "BayNo": "N",
        "City": "SURREY",
        "Distance": 307,
        "Latitude": 49.179601,
        "Longitude": -122.845814,
        "Name": "SB KING GEORGE BLVD FS 98 AVE",
        "OnStreet": "KING GEORGE BLVD",
        "Routes": "314, 321, 329",
        "StopNo": 54997,
        "WheelchairAccess": 1
       },
       {
        "AtStreet": "134 ST",
        "BayNo": "N",
        "City": "SURREY",
        "Distance": 338,
        "Latitude": 49.176992,
        "Longitude": -122.850709,
        "Name": "EB 96 AVE FS 134 ST",
        "OnStreet": "96 AVE",
        "Routes": "314, 329",
        "StopNo": 54986,
        "WheelchairAccess": 0
       },
       {
        "AtStreet": "134 ST",
        "BayNo": "N",
        "City": "SURREY",
        "Distance": 342,
        "Latitude": 49.177159,
        "Longitude": -122.851794,
        "Name": "WB 96 AVE FS 134 ST",
        "OnStreet": "96 AVE",
        "Routes": "314, 329",
        "StopNo": 54999,
        "WheelchairAccess": 0
       },
       {
        "AtStreet": "FRASER HWY",
        "BayNo": "N",
        "City": "SURREY",
        "Distance": 367,
        "Latitude": 49.181116,
        "Longitude": -122.845247,
        "Name": "NB KING GEORGE BLVD FS FRASER HWY",
        "OnStreet": "KING GEORGE BLVD",
        "Routes": "",
        "StopNo": 54989,
        "WheelchairAccess": 1
       },
       {
        "AtStreet": "KING GEORGE BLVD",
        "BayNo": "N",
        "City": "SURREY",
        "Distance": 386,
        "Latitude": 49.177135,
        "Longitude": -122.847002,
        "Name": "WB 96 AVE FS KING GEORGE BLVD",
        "OnStreet": "96 AVE",
        "Routes": "314, 329",
        "StopNo": 54998,
        "WheelchairAccess": 1
       },
       {
        "AtStreet": "96 AVE",
        "BayNo": "N",
        "City": "SURREY",
        "Distance": 425,
        "Latitude": 49.177621,
        "Longitude": -122.845422,
        "Name": "NB KING GEORGE BLVD FS 96 AVE",
        "OnStreet": "KING GEORGE BLVD",
        "Routes": "314, 321, 326, 329, 394, R1",
        "StopNo": 54988,
        "WheelchairAccess": 1
       },
       {
        "AtStreet": "BAY 4",
        "BayNo": "4",
        "City": "SURREY",
        "Distance": 460,
        "Latitude": 49.182677,
        "Longitude": -122.845166,
        "Name": "KING GEORGE STN BAY 4",
        "OnStreet": "KING GEORGE STN",
        "Routes": "314, 321, 326, 329, 502, 503, R1",
        "StopNo": 59339,
        "WheelchairAccess": 1
       },
       {
        "AtStreet": "BAY 1",
        "BayNo": "1",
        "City": "SURREY",
        "Distance": 473,
        "Latitude": 49.183201,
        "Longitude": -122.845706,
        "Name": "KING GEORGE STN BAY 1     ",
        "OnStreet": "KING GEORGE STN",
        "Routes": "314, 321, 326, 329, R1",
        "StopNo": 54996,
        "WheelchairAccess": 1
       },
       {
        "AtStreet": "PLATFORM 2",
        "BayNo": "N",
        "City": "SURREY",
        "Distance": 490,
        "Latitude": 49.182755,
        "Longitude": -122.844744,
        "Name": "KING GEORGE STATION PLATFORM 2",
        "OnStreet": "KING GEORGE STATION",
        "Routes": "",
        "StopNo": 57983,
        "WheelchairAccess": 0
       },
       {
        "AtStreet": "98 AVE",
        "BayNo": "N",
        "City": "SURREY",
        "Distance": 491,
        "Latitude": 49.181077,
        "Longitude": -122.856552,
        "Name": "NB 132 ST NS 98 AVE",
        "OnStreet": "132 ST",
        "Routes": "324",
        "StopNo": 55665,
        "WheelchairAccess": 1
       },
       {
        "AtStreet": "98 AVE",
        "BayNo": "N",
        "City": "SURREY",
        "Distance": 496,
        "Latitude": 49.180401,
        "Longitude": -122.856803,
        "Name": "SB 132 ST FS 98 AVE",
        "OnStreet": "132 ST",
        "Routes": "324",
        "StopNo": 55669,
        "WheelchairAccess": 0
       },
       {
        "AtStreet": "BAY 2",
        "BayNo": "2",
        "City": "SURREY",
        "Distance": 496,
        "Latitude": 49.183124,
        "Longitude": -122.845136,
        "Name": "KING GEORGE STN BAY 2",
        "OnStreet": "KING GEORGE STN",
        "Routes": "345, 394",
        "StopNo": 54990,
        "WheelchairAccess": 1
       },
       {
        "AtStreet": "PLATFORM 1",
        "BayNo": "N",
        "City": "SURREY",
        "Distance": 497,
        "Latitude": 49.182812,
        "Longitude": -122.844691,
        "Name": "KING GEORGE STATION PLATFORM 1",
        "OnStreet": "KING GEORGE STATION",
        "Routes": "",
        "StopNo": 57984,
        "WheelchairAccess": 0
       }
      ],
      "text/plain": [
       "<IPython.core.display.JSON object>"
      ]
     },
     "execution_count": 2,
     "metadata": {
      "application/json": {
       "expanded": false,
       "root": "root"
      }
     },
     "output_type": "execute_result"
    }
   ],
   "source": [
    "from IPython.display import JSON\n",
    "request_url = 'https://api.translink.ca/rttiapi/v1/stops?apikey={}&lat={}&long={}'.format(apikey, 49.18, -122.85)\n",
    "response = requests.get(request_url, headers={'accept': 'application/JSON'}).json()\n",
    "JSON(response)\n",
    "\n"
   ]
  },
  {
   "cell_type": "code",
   "execution_count": 3,
   "metadata": {},
   "outputs": [
    {
     "data": {
      "text/plain": [
       "{'StopNo': 54997,\n",
       " 'Name': 'SB KING GEORGE BLVD FS 98 AVE',\n",
       " 'BayNo': 'N',\n",
       " 'City': 'SURREY',\n",
       " 'OnStreet': 'KING GEORGE BLVD',\n",
       " 'AtStreet': '98 AVE',\n",
       " 'Latitude': 49.179601,\n",
       " 'Longitude': -122.845814,\n",
       " 'WheelchairAccess': 1,\n",
       " 'Distance': 307,\n",
       " 'Routes': '314, 321, 329'}"
      ]
     },
     "execution_count": 3,
     "metadata": {},
     "output_type": "execute_result"
    }
   ],
   "source": [
    "response[0]"
   ]
  },
  {
   "cell_type": "code",
   "execution_count": 4,
   "metadata": {},
   "outputs": [],
   "source": [
    "new_list = []\n",
    "for i in range(0, len(response)):\n",
    "    new_list.append(response[i]['Name'])"
   ]
  },
  {
   "cell_type": "code",
   "execution_count": 5,
   "metadata": {},
   "outputs": [
    {
     "data": {
      "text/plain": [
       "['SB KING GEORGE BLVD FS 98 AVE',\n",
       " 'EB 96 AVE FS 134 ST',\n",
       " 'WB 96 AVE FS 134 ST',\n",
       " 'NB KING GEORGE BLVD FS FRASER HWY',\n",
       " 'WB 96 AVE FS KING GEORGE BLVD',\n",
       " 'NB KING GEORGE BLVD FS 96 AVE',\n",
       " 'KING GEORGE STN BAY 4',\n",
       " 'KING GEORGE STN BAY 1     ',\n",
       " 'KING GEORGE STATION PLATFORM 2',\n",
       " 'NB 132 ST NS 98 AVE',\n",
       " 'SB 132 ST FS 98 AVE',\n",
       " 'KING GEORGE STN BAY 2',\n",
       " 'KING GEORGE STATION PLATFORM 1']"
      ]
     },
     "execution_count": 5,
     "metadata": {},
     "output_type": "execute_result"
    }
   ],
   "source": [
    "new_list"
   ]
  },
  {
   "cell_type": "code",
   "execution_count": 6,
   "metadata": {
    "slideshow": {
     "slide_type": "fragment"
    }
   },
   "outputs": [
    {
     "data": {
      "text/plain": [
       "'SB KING GEORGE BLVD FS 98 AVE'"
      ]
     },
     "execution_count": 6,
     "metadata": {},
     "output_type": "execute_result"
    }
   ],
   "source": [
    "response[0]['Name']"
   ]
  },
  {
   "cell_type": "code",
   "execution_count": 7,
   "metadata": {
    "scrolled": false,
    "slideshow": {
     "slide_type": "slide"
    }
   },
   "outputs": [],
   "source": [
    "data = requests.get('https://api.github.com/users/sedv8808',headers={'accept': 'application/JSON'}).json()"
   ]
  },
  {
   "cell_type": "code",
   "execution_count": 8,
   "metadata": {},
   "outputs": [
    {
     "data": {
      "text/plain": [
       "{'login': 'sedv8808',\n",
       " 'id': 42593920,\n",
       " 'node_id': 'MDQ6VXNlcjQyNTkzOTIw',\n",
       " 'avatar_url': 'https://avatars.githubusercontent.com/u/42593920?v=4',\n",
       " 'gravatar_id': '',\n",
       " 'url': 'https://api.github.com/users/sedv8808',\n",
       " 'html_url': 'https://github.com/sedv8808',\n",
       " 'followers_url': 'https://api.github.com/users/sedv8808/followers',\n",
       " 'following_url': 'https://api.github.com/users/sedv8808/following{/other_user}',\n",
       " 'gists_url': 'https://api.github.com/users/sedv8808/gists{/gist_id}',\n",
       " 'starred_url': 'https://api.github.com/users/sedv8808/starred{/owner}{/repo}',\n",
       " 'subscriptions_url': 'https://api.github.com/users/sedv8808/subscriptions',\n",
       " 'organizations_url': 'https://api.github.com/users/sedv8808/orgs',\n",
       " 'repos_url': 'https://api.github.com/users/sedv8808/repos',\n",
       " 'events_url': 'https://api.github.com/users/sedv8808/events{/privacy}',\n",
       " 'received_events_url': 'https://api.github.com/users/sedv8808/received_events',\n",
       " 'type': 'User',\n",
       " 'site_admin': False,\n",
       " 'name': 'Socorro Dominguez Vidana',\n",
       " 'company': None,\n",
       " 'blog': '',\n",
       " 'location': 'Vancouver, BC',\n",
       " 'email': None,\n",
       " 'hireable': None,\n",
       " 'bio': 'Recent graduate from UBC Master of Data Science. \\r\\nI would like to use my newly acquired skills to make the world a greener place.',\n",
       " 'twitter_username': None,\n",
       " 'public_repos': 22,\n",
       " 'public_gists': 0,\n",
       " 'followers': 7,\n",
       " 'following': 1,\n",
       " 'created_at': '2018-08-22T01:19:27Z',\n",
       " 'updated_at': '2021-06-22T18:39:03Z'}"
      ]
     },
     "execution_count": 8,
     "metadata": {},
     "output_type": "execute_result"
    }
   ],
   "source": [
    "data"
   ]
  },
  {
   "cell_type": "markdown",
   "metadata": {
    "slideshow": {
     "slide_type": "slide"
    }
   },
   "source": [
    "## Example on Getting a README from GitHub"
   ]
  },
  {
   "cell_type": "code",
   "execution_count": 27,
   "metadata": {
    "slideshow": {
     "slide_type": "slide"
    }
   },
   "outputs": [],
   "source": [
    "import base64\n",
    "\n",
    "def get_readme(url, token):\n",
    "    url_to_api_endpoint = url.replace('https://github.com/', '')\n",
    "    new_url = 'https://api.github.com/repos/' + url_to_api_endpoint + '/contents/README.md'\n",
    "    headers = {'Authorization': f'token {token}', 'accept': 'application/JSON'}\n",
    "    \n",
    "    try:\n",
    "        readme = requests.get(new_url, headers=headers).json()\n",
    "        readme = readme['content']\n",
    "        readme = base64.b64decode(readme)\n",
    "    except:\n",
    "        readme = \"Missing\"\n",
    "\n",
    "    return readme"
   ]
  },
  {
   "cell_type": "code",
   "execution_count": 28,
   "metadata": {
    "slideshow": {
     "slide_type": "slide"
    }
   },
   "outputs": [],
   "source": [
    "url = 'https://github.com/chrismheiser/lipdnet'\n",
    "token = cfg.github_api['secret']"
   ]
  },
  {
   "cell_type": "code",
   "execution_count": 29,
   "metadata": {
    "slideshow": {
     "slide_type": "slide"
    }
   },
   "outputs": [
    {
     "data": {
      "text/plain": [
       "b'<h1 align=\"left\">\\n  <br>\\n  <a href=\"http://www.lipd.net\"><img src=\"https://www.dropbox.com/s/kgeyec2b8cft5mo/lipd4.png?raw=1\" alt=\"LiPD\" width=\"225\"></a>\\n</h1>\\n\\n<p align=\"left\">\\n      <a href=\"https://zenodo.org/badge/latestdoi/25707644\"><img src=\"https://zenodo.org/badge/25707644.svg\" alt=\"DOI\"></a>\\n      <a href=\"https://img.shields.io/badge/license-GPL-brightgreen.svg\"><img src=\"https://img.shields.io/badge/license-GPL-brightgreen.svg\"></a>\\n</p>\\n\\nInput/output and manipulation utilities for LiPD files on LiPD.net\\n\\n-----\\n\\n### What is it?\\n\\nLiPD is short for Linked PaleoData. LiPD files are the data standard for storing and exchanging data amongst paleoclimate scientists. The package will help you convert your existing paleoclimate observations into LiPD files that can be shared and analyzed.\\n\\nOrganizing and using your observation data can be time  consuming. Our goal is to let you focus on more important tasks than data wrangling.\\n\\n-----\\n\\n\\n## How to Cite this code\\n\\n<a href=\"https://zenodo.org/badge/latestdoi/25707644\"><img src=\"https://zenodo.org/badge/25707644.svg\" alt=\"DOI\"></a>\\n\\nUse this link to visit the Zenodo website. It provides citation information in many popular formats.\\n\\n------\\n\\n## Further information\\n\\n[Github - LiPD Utilities](https://github.com/nickmckay/LiPD-Utilities)\\n\\n[Github - GeoChronR](https://github.com/nickmckay/GeoChronR)\\n\\n[Linked Earth Wiki](http://wiki.linked.earth/Main_Page)\\n\\n[LiPD.net](http://www.lipd.net)\\n\\n------\\n\\n## Contact\\n\\nIf you are having issues, please report them here on github in the issue tracker.\\n\\n\\n------\\n\\n\\n## License\\n\\nThe project is licensed under the [GNU Public License](https://github.com/nickmckay/LiPD-utilities/blob/master/Python/LICENSE).\\n'"
      ]
     },
     "execution_count": 29,
     "metadata": {},
     "output_type": "execute_result"
    }
   ],
   "source": [
    "get_readme(url = url, token=token)"
   ]
  },
  {
   "cell_type": "markdown",
   "metadata": {
    "slideshow": {
     "slide_type": "slide"
    }
   },
   "source": [
    "Demo in Postman."
   ]
  },
  {
   "cell_type": "markdown",
   "metadata": {
    "slideshow": {
     "slide_type": "slide"
    }
   },
   "source": [
    "Demo in Terminal uCURL\n",
    "\n",
    "```\n",
    "curl https://api.github.com/users/sedv8808\n",
    "```\n",
    "\n",
    "Viewing in Chrome\n",
    "\n",
    "```\n",
    "https://api.github.com/users/sedv8808\n",
    "```"
   ]
  },
  {
   "cell_type": "code",
   "execution_count": 12,
   "metadata": {},
   "outputs": [
    {
     "name": "stdout",
     "output_type": "stream",
     "text": [
      "{\r\n",
      "  \"login\": \"sedv8808\",\r\n",
      "  \"id\": 42593920,\r\n",
      "  \"node_id\": \"MDQ6VXNlcjQyNTkzOTIw\",\r\n",
      "  \"avatar_url\": \"https://avatars.githubusercontent.com/u/42593920?v=4\",\r\n",
      "  \"gravatar_id\": \"\",\r\n",
      "  \"url\": \"https://api.github.com/users/sedv8808\",\r\n",
      "  \"html_url\": \"https://github.com/sedv8808\",\r\n",
      "  \"followers_url\": \"https://api.github.com/users/sedv8808/followers\",\r\n",
      "  \"following_url\": \"https://api.github.com/users/sedv8808/following{/other_user}\",\r\n",
      "  \"gists_url\": \"https://api.github.com/users/sedv8808/gists{/gist_id}\",\r\n",
      "  \"starred_url\": \"https://api.github.com/users/sedv8808/starred{/owner}{/repo}\",\r\n",
      "  \"subscriptions_url\": \"https://api.github.com/users/sedv8808/subscriptions\",\r\n",
      "  \"organizations_url\": \"https://api.github.com/users/sedv8808/orgs\",\r\n",
      "  \"repos_url\": \"https://api.github.com/users/sedv8808/repos\",\r\n",
      "  \"events_url\": \"https://api.github.com/users/sedv8808/events{/privacy}\",\r\n",
      "  \"received_events_url\": \"https://api.github.com/users/sedv8808/received_events\",\r\n",
      "  \"type\": \"User\",\r\n",
      "  \"site_admin\": false,\r\n",
      "  \"name\": \"Socorro Dominguez Vidana\",\r\n",
      "  \"company\": null,\r\n",
      "  \"blog\": \"\",\r\n",
      "  \"location\": \"Vancouver, BC\",\r\n",
      "  \"email\": null,\r\n",
      "  \"hireable\": null,\r\n",
      "  \"bio\": \"Recent graduate from UBC Master of Data Science. \\r\\nI would like to use my newly acquired skills to make the world a greener place.\",\r\n",
      "  \"twitter_username\": null,\r\n",
      "  \"public_repos\": 22,\r\n",
      "  \"public_gists\": 0,\r\n",
      "  \"followers\": 7,\r\n",
      "  \"following\": 1,\r\n",
      "  \"created_at\": \"2018-08-22T01:19:27Z\",\r\n",
      "  \"updated_at\": \"2021-06-22T18:39:03Z\"\r\n",
      "}\r\n"
     ]
    }
   ],
   "source": [
    "!curl https://api.github.com/users/sedv8808"
   ]
  },
  {
   "cell_type": "markdown",
   "metadata": {
    "slideshow": {
     "slide_type": "slide"
    }
   },
   "source": [
    "You should not forget:\n",
    "- Today we just played aimlessly with APIs, however all APIs have documentation. Read it!\n"
   ]
  },
  {
   "cell_type": "markdown",
   "metadata": {
    "slideshow": {
     "slide_type": "slide"
    }
   },
   "source": [
    "## HTTP Requests\n",
    "- Hypertext Transfer Protocol\n",
    "\n",
    "- When you access a website (through an URL), you are:\n",
    "    - \"sending a HTTP GET request to the server to retrieve data\"\n",
    "    - \"data\" can be a webpage that is displayed, it can be JSON\n"
   ]
  },
  {
   "cell_type": "markdown",
   "metadata": {
    "slideshow": {
     "slide_type": "slide"
    }
   },
   "source": [
    "- When you access a website, you know it worked if it loaded\n",
    "    - Status codes are helpful when you're working with code\n",
    "\n",
    "- Common HTTP status codes:\n",
    "    - 200 OK\n",
    "    - 400 Bad Request\n",
    "    - 401 Unauthorized\n",
    "    - 404 Not Found"
   ]
  },
  {
   "cell_type": "code",
   "execution_count": 13,
   "metadata": {
    "slideshow": {
     "slide_type": "fragment"
    }
   },
   "outputs": [
    {
     "data": {
      "text/plain": [
       "<Response [404]>"
      ]
     },
     "execution_count": 13,
     "metadata": {},
     "output_type": "execute_result"
    }
   ],
   "source": [
    "requests.get('https://api.github.com/users/sedv8809')"
   ]
  },
  {
   "cell_type": "code",
   "execution_count": 14,
   "metadata": {},
   "outputs": [
    {
     "data": {
      "text/plain": [
       "<Response [500]>"
      ]
     },
     "execution_count": 14,
     "metadata": {},
     "output_type": "execute_result"
    }
   ],
   "source": [
    "requests.get('https://api.translink.ca/rttiapi/v1/stops?lat=49.18&long=-122.85')"
   ]
  },
  {
   "cell_type": "markdown",
   "metadata": {
    "slideshow": {
     "slide_type": "slide"
    }
   },
   "source": [
    "### The Anatomy Of A Request\n",
    "\n",
    "It’s important to know that a request is made up of four things:\n",
    "\n",
    "1. The endpoint\n",
    "\n",
    "2. The method\n",
    "\n",
    "3. The headers\n",
    "\n",
    "4. The data (or body)"
   ]
  },
  {
   "cell_type": "markdown",
   "metadata": {
    "slideshow": {
     "slide_type": "slide"
    }
   },
   "source": [
    "1. The endpoint (or route) is the url you request for\n",
    "\n",
    "root-endpoint/?\n",
    "\n",
    "https://api.github.com\n",
    "\n",
    "2. The Method is the type of request you send to the server. You can choose from these types below:\n",
    "\n",
    "a. GET - Used to get resource from server\n",
    "\n",
    "b. POST - Used to create new resource on server\n",
    "\n",
    "c. PUT/PATCH - update resource on server\n",
    "\n",
    "d. DELETE - delete a resource on the server"
   ]
  },
  {
   "cell_type": "code",
   "execution_count": null,
   "metadata": {},
   "outputs": [],
   "source": []
  }
 ],
 "metadata": {
  "celltoolbar": "Slideshow",
  "kernelspec": {
   "display_name": "Python 3",
   "language": "python",
   "name": "python3"
  },
  "language_info": {
   "codemirror_mode": {
    "name": "ipython",
    "version": 3
   },
   "file_extension": ".py",
   "mimetype": "text/x-python",
   "name": "python",
   "nbconvert_exporter": "python",
   "pygments_lexer": "ipython3",
   "version": "3.7.4"
  }
 },
 "nbformat": 4,
 "nbformat_minor": 4
}
