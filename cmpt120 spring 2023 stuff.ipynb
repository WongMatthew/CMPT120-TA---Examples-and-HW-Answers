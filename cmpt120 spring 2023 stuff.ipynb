{
 "cells": [
  {
   "cell_type": "code",
   "execution_count": 21,
   "id": "c493a3ea",
   "metadata": {},
   "outputs": [],
   "source": [
    "# VARIABLES\n",
    "\n",
    "CohortName = \"AI4All-2021\" \n",
    "\n",
    "NumberofStudents = 100 \n",
    "AverageAge = 15.6\n",
    "\n",
    "# create a list of students \n",
    "AdditionalStudents = [3, 5, 7, 10, 20]\n",
    "\n",
    "# average age of the additional students each round\n",
    "AdditionalAverageAges = [17.0, 16.4, 14.3, 16.2, 15.2]"
   ]
  },
  {
   "cell_type": "code",
   "execution_count": 35,
   "id": "d7ac03d0",
   "metadata": {},
   "outputs": [
    {
     "ename": "IndexError",
     "evalue": "list index out of range",
     "output_type": "error",
     "traceback": [
      "\u001b[1;31m---------------------------------------------------------------------------\u001b[0m",
      "\u001b[1;31mIndexError\u001b[0m                                Traceback (most recent call last)",
      "\u001b[1;32m<ipython-input-35-ec140acb63d6>\u001b[0m in \u001b[0;36m<module>\u001b[1;34m\u001b[0m\n\u001b[0;32m      2\u001b[0m \u001b[0mnewStudAge\u001b[0m \u001b[1;33m=\u001b[0m \u001b[1;36m0\u001b[0m\u001b[1;33m\u001b[0m\u001b[1;33m\u001b[0m\u001b[0m\n\u001b[0;32m      3\u001b[0m \u001b[1;32mfor\u001b[0m \u001b[0mi\u001b[0m \u001b[1;32min\u001b[0m \u001b[0mrange\u001b[0m\u001b[1;33m(\u001b[0m\u001b[0mlen\u001b[0m\u001b[1;33m(\u001b[0m\u001b[0mAdditionalAverageAges\u001b[0m\u001b[1;33m)\u001b[0m\u001b[1;33m)\u001b[0m\u001b[1;33m:\u001b[0m\u001b[1;33m\u001b[0m\u001b[1;33m\u001b[0m\u001b[0m\n\u001b[1;32m----> 4\u001b[1;33m     \u001b[0mx\u001b[0m \u001b[1;33m=\u001b[0m \u001b[0mAdditionalStudents\u001b[0m\u001b[1;33m[\u001b[0m\u001b[0mi\u001b[0m\u001b[1;33m]\u001b[0m\u001b[1;33m*\u001b[0m\u001b[0mAdditionalAverageAges\u001b[0m\u001b[1;33m[\u001b[0m\u001b[0mi\u001b[0m\u001b[1;33m]\u001b[0m\u001b[1;33m\u001b[0m\u001b[1;33m\u001b[0m\u001b[0m\n\u001b[0m\u001b[0;32m      5\u001b[0m     \u001b[0mnewStudAge\u001b[0m \u001b[1;33m+=\u001b[0m \u001b[0mx\u001b[0m\u001b[1;33m\u001b[0m\u001b[1;33m\u001b[0m\u001b[0m\n\u001b[0;32m      6\u001b[0m \u001b[0mprint\u001b[0m\u001b[1;33m(\u001b[0m\u001b[0mnewStudAge\u001b[0m\u001b[1;33m)\u001b[0m\u001b[1;33m\u001b[0m\u001b[1;33m\u001b[0m\u001b[0m\n",
      "\u001b[1;31mIndexError\u001b[0m: list index out of range"
     ]
    }
   ],
   "source": [
    "oldStudAge = AverageAge*NumberofStudents\n",
    "newStudAge = 0\n",
    "for i in range(len(AdditionalAverageAges)):\n",
    "    x = AdditionalStudents[i]*AdditionalAverageAges[i]\n",
    "    newStudAge += x\n",
    "print(newStudAge)"
   ]
  },
  {
   "cell_type": "code",
   "execution_count": 28,
   "id": "7828e0c4",
   "metadata": {},
   "outputs": [],
   "source": [
    "# define the function UpdateAverage()\n",
    "def UpdateAverage(oldavg, oldstd, addavg, addstd):\n",
    "    #TODO: Currently the program always returns 0 as the new average.\n",
    "    #      Modify the code in this function to compute the new average correctly\n",
    "    \n",
    "    newavg = oldavg\n",
    "    count = 1\n",
    "    \n",
    "    for i in range(len(AdditionalAverageAges)):\n",
    "        newavg += AdditionalAverageAges[i]\n",
    "        count += 1\n",
    "       \n",
    "    newavg = newavg/count\n",
    "    return newavg;\n",
    "\n",
    "# define the function PrintStatus()\n",
    "def PrintStatus(std, age):\n",
    "    #TODO: Complete this function\n",
    "    #Hint: You may want to copy and paste some of the code in the previous version of the program\n",
    "    print(std, age)"
   ]
  },
  {
   "cell_type": "code",
   "execution_count": 29,
   "id": "cff55ce2",
   "metadata": {},
   "outputs": [
    {
     "data": {
      "text/plain": [
       "14.0625"
      ]
     },
     "execution_count": 29,
     "metadata": {},
     "output_type": "execute_result"
    }
   ],
   "source": [
    "UpdateAverage(AverageAge, NumberofStudents, AdditionalAverageAges, AdditionalStudents)"
   ]
  },
  {
   "cell_type": "code",
   "execution_count": 11,
   "id": "0e7c6632",
   "metadata": {},
   "outputs": [
    {
     "name": "stdout",
     "output_type": "stream",
     "text": [
      "Hello, AI4All-2021\n"
     ]
    }
   ],
   "source": [
    "# new starting message \"Hello, <CohortName>\"\n",
    "print ('Hello,', CohortName)"
   ]
  },
  {
   "cell_type": "markdown",
   "id": "aa88c534",
   "metadata": {},
   "source": [
    "# new\n"
   ]
  },
  {
   "cell_type": "code",
   "execution_count": 12,
   "id": "0f16e6b3",
   "metadata": {},
   "outputs": [
    {
     "name": "stdout",
     "output_type": "stream",
     "text": [
      "145 15.819971707818931\n"
     ]
    }
   ],
   "source": [
    "# computes the new total number of students\n",
    "# by adding one item at a time to NumberofStudents\n",
    "for i in range(0,len(AdditionalStudents)):\n",
    "    #update the total number of students\n",
    "    NumberofStudents += AdditionalStudents[i]\n",
    "    \n",
    "    # update the average age as adding more students, using UpdateAverage function\n",
    "    AverageAge = UpdateAverage(AverageAge, NumberofStudents, AdditionalAverageAges, AdditionalStudents)\n",
    "\n",
    "# the function PrintStatus() prints a status message in different formats\n",
    "# the format depends on the number of students\n",
    "PrintStatus(NumberofStudents, AverageAge)"
   ]
  },
  {
   "cell_type": "code",
   "execution_count": 58,
   "id": "fdb62ad4",
   "metadata": {},
   "outputs": [
    {
     "name": "stdout",
     "output_type": "stream",
     "text": [
      "True\n",
      "It's a prime.\n"
     ]
    }
   ],
   "source": [
    "x = 1\n",
    "\n",
    "def checker(x):\n",
    "    for j in range(2,x):\n",
    "        if x % j == 0:\n",
    "            return False\n",
    "    return True\n",
    "\n",
    "# def checker(x):\n",
    "#     for j in range(2,x):\n",
    "#         if x % j == 0:\n",
    "#             return False\n",
    "#         elif x % j != 0:\n",
    "#             return True\n",
    "\n",
    "print(checker(x))\n",
    "\n",
    "if x > 1:\n",
    "    if checker(x) == True:\n",
    "        print(\"It's a prime.\")\n",
    "    else:\n",
    "        print(\"It's not a prime.\")"
   ]
  },
  {
   "cell_type": "code",
   "execution_count": 156,
   "id": "aa1de12c",
   "metadata": {},
   "outputs": [
    {
     "name": "stdout",
     "output_type": "stream",
     "text": [
      "How many numbers do you want to check?\n",
      "4\n",
      "Enter a positive integer:\n",
      "0\n",
      "Enter a positive integer:\n",
      "0\n",
      "Enter a positive integer:\n",
      "0\n",
      "Enter a positive integer:\n",
      "0\n",
      "Total prime numbers: 0\n"
     ]
    }
   ],
   "source": [
    "# MINE IT WORKS\n",
    "\n",
    "def checker(x):\n",
    "    for j in range(2,x):\n",
    "        if x % j == 0:\n",
    "            return False\n",
    "    return True\n",
    "\n",
    "counter = 0\n",
    "n = int(input('How many numbers do you want to check?\\n'))\n",
    "\n",
    "for i in range(n):\n",
    "    \n",
    "    # negative number check\n",
    "    while True:\n",
    "        integer = int(input('Enter a positive integer:\\n'))\n",
    "        if integer < 0:\n",
    "            print(\"PrimeFinder ignores negative numbers!\")\n",
    "            continue\n",
    "        elif integer >= 0:\n",
    "            break\n",
    "            \n",
    "    # 1 and 0 cases\n",
    "    if integer == 1 or integer == 0:             \n",
    "        continue \n",
    "    \n",
    "    if checker(integer):\n",
    "        print(integer, 'is a prime number.')\n",
    "        counter+=1\n",
    "    else:\n",
    "        continue\n",
    "print(\"Total prime numbers:\", counter)"
   ]
  },
  {
   "cell_type": "code",
   "execution_count": 23,
   "id": "24172da0",
   "metadata": {},
   "outputs": [
    {
     "data": {
      "text/plain": [
       "False"
      ]
     },
     "execution_count": 23,
     "metadata": {},
     "output_type": "execute_result"
    }
   ],
   "source": [
    "checker(10)"
   ]
  },
  {
   "cell_type": "code",
   "execution_count": 45,
   "id": "6c2eb745",
   "metadata": {},
   "outputs": [],
   "source": [
    "def pynum():\n",
    "    for i in range(1, h+1):\n",
    "        for j in range(h-i):\n",
    "            print(\" \", end = \" \")\n",
    "        for j in range(1,i):\n",
    "            print(j, end= \" \")\n",
    "        for i in range(i, 0, -1):\n",
    "            print(i, end=\" \")\n",
    "        print()"
   ]
  },
  {
   "cell_type": "code",
   "execution_count": 46,
   "id": "bdc22990",
   "metadata": {},
   "outputs": [],
   "source": [
    "def function():\n",
    "    h = int(input(\"what is the height of pyramid?\\n\"))\n",
    "    c=0\n",
    "    while c < 9:\n",
    "        if h not in range(2,10):\n",
    "            print(\"cant help\")\n",
    "        else:\n",
    "            pynum()\n",
    "        break"
   ]
  },
  {
   "cell_type": "code",
   "execution_count": 47,
   "id": "f34fa150",
   "metadata": {},
   "outputs": [
    {
     "name": "stdout",
     "output_type": "stream",
     "text": [
      "what is the height of pyramid?\n",
      "2\n",
      "                1 \n",
      "              1 2 1 \n",
      "            1 2 3 2 1 \n",
      "          1 2 3 4 3 2 1 \n",
      "        1 2 3 4 5 4 3 2 1 \n",
      "      1 2 3 4 5 6 5 4 3 2 1 \n",
      "    1 2 3 4 5 6 7 6 5 4 3 2 1 \n",
      "  1 2 3 4 5 6 7 8 7 6 5 4 3 2 1 \n",
      "1 2 3 4 5 6 7 8 9 8 7 6 5 4 3 2 1 \n"
     ]
    }
   ],
   "source": [
    "function()"
   ]
  },
  {
   "cell_type": "code",
   "execution_count": 225,
   "id": "fc0dd06f",
   "metadata": {},
   "outputs": [
    {
     "name": "stdout",
     "output_type": "stream",
     "text": [
      "what is the height of pyramid?\n",
      "5\n",
      "        1 \n",
      "      1 2 1 \n",
      "    1 2 3 2 1 \n",
      "  1 2 3 4 3 2 1 \n",
      "1 2 3 4 5 4 3 2 1 \n"
     ]
    }
   ],
   "source": [
    "# MINE IT WORKS\n",
    "\n",
    "def pynum(h):\n",
    "    for i in range(1, h+1):\n",
    "        for j in range(h-i):\n",
    "            print(\" \", end = \" \")\n",
    "        for k in range(1,i+1):\n",
    "            print(k, end= \" \")\n",
    "        for l in range(i-1, 0, -1):\n",
    "            print(l, end= \" \")\n",
    "        print()\n",
    "\n",
    "def function():\n",
    "    h = int(input(\"what is the height of pyramid?\\n\"))\n",
    "    if h not in range(2,10):\n",
    "        print(\"PyNum can not help you!\")\n",
    "    else:\n",
    "        pynum(h)\n",
    "        \n",
    "function()"
   ]
  },
  {
   "cell_type": "code",
   "execution_count": 75,
   "id": "cfdaee1d",
   "metadata": {},
   "outputs": [
    {
     "name": "stdout",
     "output_type": "stream",
     "text": [
      "Hi dear user! Do you want to talk to me?\n",
      "yes\n",
      "Great! Let's talk, my friend!\n",
      "Ask me any question you want.\n"
     ]
    }
   ],
   "source": [
    "print(\"Hi dear user! Do you want to talk to me?\")\n",
    "answer = input()\n",
    "yeses = [\"yes\", \"y\", \"of course\", \"certainly yes\", \"sure\"]\n",
    "noses = [\"no\", \"n\", \"no way\", \"of course not\", \"never\"]\n",
    "byes = [\"Goodbye!\", \"See you!\", \"ciao\", \"Have a good day\"]\n",
    "if answer in yeses :\n",
    "    print(\"Great! Let's talk, my friend!\")\n",
    "    print(\"Ask me any question you want.\")\n",
    "else:\n",
    "    print(\"Goodbye user!\")"
   ]
  },
  {
   "cell_type": "code",
   "execution_count": 197,
   "id": "d96d327c",
   "metadata": {},
   "outputs": [
    {
     "name": "stdout",
     "output_type": "stream",
     "text": [
      "Hi, this is Pchatbot, can I talk to you?\n",
      "y\n",
      "What is your name?\n",
      "joe\n",
      "Nice to meet you, joe.\n",
      "How are you doing today?\n",
      "\n",
      "  @media print {\n",
      "    .ms-editor-squiggles-container {\n",
      "      display:none !important;\n",
      "    }\n",
      "  }\n",
      "  .ms-editor-squiggles-container {\n",
      "    all: initial;\n",
      "  }i'm good\n",
      "I'm glad you're feeling well, joe.\n",
      "I'm glad you're feeling well,joe.\n"
     ]
    },
    {
     "ename": "KeyboardInterrupt",
     "evalue": "Interrupted by user",
     "output_type": "error",
     "traceback": [
      "\u001b[1;31m---------------------------------------------------------------------------\u001b[0m",
      "\u001b[1;31mKeyboardInterrupt\u001b[0m                         Traceback (most recent call last)",
      "\u001b[1;32m<ipython-input-197-83be400411a8>\u001b[0m in \u001b[0;36m<module>\u001b[1;34m\u001b[0m\n\u001b[0;32m     14\u001b[0m         \u001b[0mprint\u001b[0m\u001b[1;33m(\u001b[0m\u001b[1;34m'I see!'\u001b[0m\u001b[1;33m)\u001b[0m\u001b[1;33m\u001b[0m\u001b[1;33m\u001b[0m\u001b[0m\n\u001b[0;32m     15\u001b[0m     \u001b[1;32mtry\u001b[0m\u001b[1;33m:\u001b[0m\u001b[1;33m\u001b[0m\u001b[1;33m\u001b[0m\u001b[0m\n\u001b[1;32m---> 16\u001b[1;33m         \u001b[0mage\u001b[0m \u001b[1;33m=\u001b[0m \u001b[0mint\u001b[0m\u001b[1;33m(\u001b[0m\u001b[0minput\u001b[0m\u001b[1;33m(\u001b[0m\u001b[1;34m\"How old are you?\\n\"\u001b[0m\u001b[1;33m)\u001b[0m\u001b[1;33m)\u001b[0m\u001b[1;33m\u001b[0m\u001b[1;33m\u001b[0m\u001b[0m\n\u001b[0m\u001b[0;32m     17\u001b[0m         \u001b[1;32mif\u001b[0m \u001b[0mage\u001b[0m \u001b[1;33m>\u001b[0m \u001b[1;36m18\u001b[0m \u001b[1;32mand\u001b[0m \u001b[0mfeeling\u001b[0m \u001b[1;32min\u001b[0m \u001b[1;33m{\u001b[0m\u001b[1;34m'good'\u001b[0m\u001b[1;33m,\u001b[0m \u001b[1;34m\"i'm great\"\u001b[0m\u001b[1;33m,\u001b[0m \u001b[1;34m\"i'm good\"\u001b[0m\u001b[1;33m,\u001b[0m\u001b[1;34m'fine'\u001b[0m\u001b[1;33m}\u001b[0m\u001b[1;33m:\u001b[0m\u001b[1;33m\u001b[0m\u001b[1;33m\u001b[0m\u001b[0m\n\u001b[0;32m     18\u001b[0m             \u001b[0mprint\u001b[0m\u001b[1;33m(\u001b[0m\u001b[1;34m\"You are ready to drive.\"\u001b[0m\u001b[1;33m)\u001b[0m\u001b[1;33m\u001b[0m\u001b[1;33m\u001b[0m\u001b[0m\n",
      "\u001b[1;32m~\\anaconda3\\lib\\site-packages\\ipykernel\\kernelbase.py\u001b[0m in \u001b[0;36mraw_input\u001b[1;34m(self, prompt)\u001b[0m\n\u001b[0;32m    858\u001b[0m                 \u001b[1;34m\"raw_input was called, but this frontend does not support input requests.\"\u001b[0m\u001b[1;33m\u001b[0m\u001b[1;33m\u001b[0m\u001b[0m\n\u001b[0;32m    859\u001b[0m             )\n\u001b[1;32m--> 860\u001b[1;33m         return self._input_request(str(prompt),\n\u001b[0m\u001b[0;32m    861\u001b[0m             \u001b[0mself\u001b[0m\u001b[1;33m.\u001b[0m\u001b[0m_parent_ident\u001b[0m\u001b[1;33m,\u001b[0m\u001b[1;33m\u001b[0m\u001b[1;33m\u001b[0m\u001b[0m\n\u001b[0;32m    862\u001b[0m             \u001b[0mself\u001b[0m\u001b[1;33m.\u001b[0m\u001b[0m_parent_header\u001b[0m\u001b[1;33m,\u001b[0m\u001b[1;33m\u001b[0m\u001b[1;33m\u001b[0m\u001b[0m\n",
      "\u001b[1;32m~\\anaconda3\\lib\\site-packages\\ipykernel\\kernelbase.py\u001b[0m in \u001b[0;36m_input_request\u001b[1;34m(self, prompt, ident, parent, password)\u001b[0m\n\u001b[0;32m    902\u001b[0m             \u001b[1;32mexcept\u001b[0m \u001b[0mKeyboardInterrupt\u001b[0m\u001b[1;33m:\u001b[0m\u001b[1;33m\u001b[0m\u001b[1;33m\u001b[0m\u001b[0m\n\u001b[0;32m    903\u001b[0m                 \u001b[1;31m# re-raise KeyboardInterrupt, to truncate traceback\u001b[0m\u001b[1;33m\u001b[0m\u001b[1;33m\u001b[0m\u001b[1;33m\u001b[0m\u001b[0m\n\u001b[1;32m--> 904\u001b[1;33m                 \u001b[1;32mraise\u001b[0m \u001b[0mKeyboardInterrupt\u001b[0m\u001b[1;33m(\u001b[0m\u001b[1;34m\"Interrupted by user\"\u001b[0m\u001b[1;33m)\u001b[0m \u001b[1;32mfrom\u001b[0m \u001b[1;32mNone\u001b[0m\u001b[1;33m\u001b[0m\u001b[1;33m\u001b[0m\u001b[0m\n\u001b[0m\u001b[0;32m    905\u001b[0m             \u001b[1;32mexcept\u001b[0m \u001b[0mException\u001b[0m \u001b[1;32mas\u001b[0m \u001b[0me\u001b[0m\u001b[1;33m:\u001b[0m\u001b[1;33m\u001b[0m\u001b[1;33m\u001b[0m\u001b[0m\n\u001b[0;32m    906\u001b[0m                 \u001b[0mself\u001b[0m\u001b[1;33m.\u001b[0m\u001b[0mlog\u001b[0m\u001b[1;33m.\u001b[0m\u001b[0mwarning\u001b[0m\u001b[1;33m(\u001b[0m\u001b[1;34m\"Invalid Message:\"\u001b[0m\u001b[1;33m,\u001b[0m \u001b[0mexc_info\u001b[0m\u001b[1;33m=\u001b[0m\u001b[1;32mTrue\u001b[0m\u001b[1;33m)\u001b[0m\u001b[1;33m\u001b[0m\u001b[1;33m\u001b[0m\u001b[0m\n",
      "\u001b[1;31mKeyboardInterrupt\u001b[0m: Interrupted by user"
     ]
    }
   ],
   "source": [
    "# MINE IT WORKS\n",
    "\n",
    "text = input('Hi, this is Pchatbot, can I talk to you?\\n')\n",
    "if text in {'Y', 'y'}:\n",
    "    name = input('What is your name?\\n')\n",
    "    print(f'Nice to meet you, {name}.')\n",
    "    feeling = input('How are you doing today?\\n').lower()\n",
    "    if feeling in {'good', \"i'm great\", \"i'm good\",'fine'}:\n",
    "        print(f\"I'm glad you're feeling well, {name}.\")\n",
    "        print(\"I'm glad you're feeling well,\"+name+\".\")\n",
    "    elif feeling in {'bad', 'not okay'}:\n",
    "        print('Have some time to yourself to recharge!')\n",
    "    else: \n",
    "        print('I see!')\n",
    "    try:\n",
    "        age = int(input(\"How old are you?\\n\"))\n",
    "        if age > 18 and feeling in {'good', \"i'm great\", \"i'm good\",'fine'}:\n",
    "            print(\"You are ready to drive.\")\n",
    "        else:\n",
    "            print('Still taking the bus!')\n",
    "    except ValueError:\n",
    "        print('Invalid age input!')\n",
    "elif text in {'N','n'}:\n",
    "    print('Okay! Talk to you soon!')"
   ]
  },
  {
   "cell_type": "code",
   "execution_count": 115,
   "id": "805e7703",
   "metadata": {},
   "outputs": [
    {
     "name": "stdout",
     "output_type": "stream",
     "text": [
      "Hi, this is Pchatbot, can I talk to you?\n",
      "y\n",
      "What is your name?\n",
      "joe\n",
      "Nice to meet you, joe.\n",
      "How are you doing today?\n",
      "good\n",
      "I'm glad you're feeling well joe.\n",
      "I'm glad you're feeling well, joe.\n",
      "How old are you?\n",
      "19\n",
      "You are ready to drive.\n"
     ]
    }
   ],
   "source": [
    "Negative = {\"bad\", \"not okay\", \"i'm not feeling good\"}\n",
    "Positive = {\"good\", \"i'm great\", \"i'm good\", \"fine\"}\n",
    "yes = {\"y\",\"Y\"}\n",
    "no = {\"n\",\"N\"}\n",
    "\n",
    "status = input('Hi, this is Pchatbot, can I talk to you?\\n')\n",
    "\n",
    "if status in yes:\n",
    "    Name = input('What is your name?\\n')\n",
    "    print(f'Nice to meet you, {name}.')\n",
    "\n",
    "    mood = input('How are you doing today?\\n').lower() \n",
    "    if mood in Positive:\n",
    "        print( \"I'm glad you're feeling well \", Name,\".\", sep = \"\")\n",
    "        print(f\"I'm glad you're feeling well, {name}.\")\n",
    "    elif mood in Negative:\n",
    "        print (\"Have some time to yourself to recharge!\")\n",
    "    else:\n",
    "        print (\"I see!\")\n",
    "    try:\n",
    "        age = int(input(\"How old are you?\\n\"))\n",
    "        if age > 18 and mood in Positive:\n",
    "            print (\"You are ready to drive.\")\n",
    "        else:\n",
    "            print (\"Still taking the bus!\")\n",
    "    except ValueError:\n",
    "        print(\"Still taking the bus!\")\n",
    "\n",
    "elif status in no:\n",
    "    print ('Okay! Talk to you soon!')"
   ]
  },
  {
   "cell_type": "code",
   "execution_count": 230,
   "id": "6db305ab",
   "metadata": {},
   "outputs": [
    {
     "name": "stdout",
     "output_type": "stream",
     "text": [
      "Hi, how many operations do you want MagiCal to perform?\n",
      "4\n",
      "Select the operator from the list of Addition (1), Subtraction (2), Multiplication (3), Division (4):\n",
      "4\n",
      "Enter the first number in the interval of [0,100]:\n",
      "99\n",
      "Enter the second number in the interval of [0,100]:\n",
      "7\n",
      "99 / 7 = 14.142857142857142\n",
      "Select the operator from the list of Addition (1), Subtraction (2), Multiplication (3), Division (4):\n",
      "3\n",
      "Enter the first number in the interval of [0,100]:\n",
      "hi\n",
      "Magic calculator can not perform your operation!\n"
     ]
    },
    {
     "ename": "KeyboardInterrupt",
     "evalue": "Interrupted by user",
     "output_type": "error",
     "traceback": [
      "\u001b[1;31m---------------------------------------------------------------------------\u001b[0m",
      "\u001b[1;31mKeyboardInterrupt\u001b[0m                         Traceback (most recent call last)",
      "\u001b[1;32m<ipython-input-230-c1cfaaef1751>\u001b[0m in \u001b[0;36m<module>\u001b[1;34m\u001b[0m\n\u001b[0;32m      3\u001b[0m \u001b[0mk\u001b[0m \u001b[1;33m=\u001b[0m \u001b[0mint\u001b[0m\u001b[1;33m(\u001b[0m\u001b[0minput\u001b[0m\u001b[1;33m(\u001b[0m\u001b[1;34m'Hi, how many operations do you want MagiCal to perform?\\n'\u001b[0m\u001b[1;33m)\u001b[0m\u001b[1;33m)\u001b[0m\u001b[1;33m\u001b[0m\u001b[1;33m\u001b[0m\u001b[0m\n\u001b[0;32m      4\u001b[0m \u001b[1;32mfor\u001b[0m \u001b[0mi\u001b[0m \u001b[1;32min\u001b[0m \u001b[0mrange\u001b[0m\u001b[1;33m(\u001b[0m\u001b[0mk\u001b[0m\u001b[1;33m)\u001b[0m\u001b[1;33m:\u001b[0m\u001b[1;33m\u001b[0m\u001b[1;33m\u001b[0m\u001b[0m\n\u001b[1;32m----> 5\u001b[1;33m     \u001b[0moperator\u001b[0m \u001b[1;33m=\u001b[0m \u001b[1;33m(\u001b[0m\u001b[0minput\u001b[0m\u001b[1;33m(\u001b[0m\u001b[1;34m'Select the operator from the list of Addition (1), Subtraction (2), Multiplication (3), Division (4):\\n'\u001b[0m\u001b[1;33m)\u001b[0m\u001b[1;33m)\u001b[0m\u001b[1;33m\u001b[0m\u001b[1;33m\u001b[0m\u001b[0m\n\u001b[0m\u001b[0;32m      6\u001b[0m     \u001b[1;32mif\u001b[0m \u001b[0moperator\u001b[0m \u001b[1;32mnot\u001b[0m \u001b[1;32min\u001b[0m \u001b[1;33m[\u001b[0m\u001b[1;34m\"1\"\u001b[0m\u001b[1;33m,\u001b[0m \u001b[1;34m\"2\"\u001b[0m\u001b[1;33m,\u001b[0m \u001b[1;34m\"3\"\u001b[0m\u001b[1;33m,\u001b[0m \u001b[1;34m\"4\"\u001b[0m\u001b[1;33m]\u001b[0m\u001b[1;33m:\u001b[0m\u001b[1;33m\u001b[0m\u001b[1;33m\u001b[0m\u001b[0m\n\u001b[0;32m      7\u001b[0m         \u001b[0mprint\u001b[0m\u001b[1;33m(\u001b[0m\u001b[1;34m'Invalid input!'\u001b[0m\u001b[1;33m)\u001b[0m\u001b[1;33m\u001b[0m\u001b[1;33m\u001b[0m\u001b[0m\n",
      "\u001b[1;32m~\\anaconda3\\lib\\site-packages\\ipykernel\\kernelbase.py\u001b[0m in \u001b[0;36mraw_input\u001b[1;34m(self, prompt)\u001b[0m\n\u001b[0;32m    858\u001b[0m                 \u001b[1;34m\"raw_input was called, but this frontend does not support input requests.\"\u001b[0m\u001b[1;33m\u001b[0m\u001b[1;33m\u001b[0m\u001b[0m\n\u001b[0;32m    859\u001b[0m             )\n\u001b[1;32m--> 860\u001b[1;33m         return self._input_request(str(prompt),\n\u001b[0m\u001b[0;32m    861\u001b[0m             \u001b[0mself\u001b[0m\u001b[1;33m.\u001b[0m\u001b[0m_parent_ident\u001b[0m\u001b[1;33m,\u001b[0m\u001b[1;33m\u001b[0m\u001b[1;33m\u001b[0m\u001b[0m\n\u001b[0;32m    862\u001b[0m             \u001b[0mself\u001b[0m\u001b[1;33m.\u001b[0m\u001b[0m_parent_header\u001b[0m\u001b[1;33m,\u001b[0m\u001b[1;33m\u001b[0m\u001b[1;33m\u001b[0m\u001b[0m\n",
      "\u001b[1;32m~\\anaconda3\\lib\\site-packages\\ipykernel\\kernelbase.py\u001b[0m in \u001b[0;36m_input_request\u001b[1;34m(self, prompt, ident, parent, password)\u001b[0m\n\u001b[0;32m    902\u001b[0m             \u001b[1;32mexcept\u001b[0m \u001b[0mKeyboardInterrupt\u001b[0m\u001b[1;33m:\u001b[0m\u001b[1;33m\u001b[0m\u001b[1;33m\u001b[0m\u001b[0m\n\u001b[0;32m    903\u001b[0m                 \u001b[1;31m# re-raise KeyboardInterrupt, to truncate traceback\u001b[0m\u001b[1;33m\u001b[0m\u001b[1;33m\u001b[0m\u001b[1;33m\u001b[0m\u001b[0m\n\u001b[1;32m--> 904\u001b[1;33m                 \u001b[1;32mraise\u001b[0m \u001b[0mKeyboardInterrupt\u001b[0m\u001b[1;33m(\u001b[0m\u001b[1;34m\"Interrupted by user\"\u001b[0m\u001b[1;33m)\u001b[0m \u001b[1;32mfrom\u001b[0m \u001b[1;32mNone\u001b[0m\u001b[1;33m\u001b[0m\u001b[1;33m\u001b[0m\u001b[0m\n\u001b[0m\u001b[0;32m    905\u001b[0m             \u001b[1;32mexcept\u001b[0m \u001b[0mException\u001b[0m \u001b[1;32mas\u001b[0m \u001b[0me\u001b[0m\u001b[1;33m:\u001b[0m\u001b[1;33m\u001b[0m\u001b[1;33m\u001b[0m\u001b[0m\n\u001b[0;32m    906\u001b[0m                 \u001b[0mself\u001b[0m\u001b[1;33m.\u001b[0m\u001b[0mlog\u001b[0m\u001b[1;33m.\u001b[0m\u001b[0mwarning\u001b[0m\u001b[1;33m(\u001b[0m\u001b[1;34m\"Invalid Message:\"\u001b[0m\u001b[1;33m,\u001b[0m \u001b[0mexc_info\u001b[0m\u001b[1;33m=\u001b[0m\u001b[1;32mTrue\u001b[0m\u001b[1;33m)\u001b[0m\u001b[1;33m\u001b[0m\u001b[1;33m\u001b[0m\u001b[0m\n",
      "\u001b[1;31mKeyboardInterrupt\u001b[0m: Interrupted by user"
     ]
    }
   ],
   "source": [
    "#MINE IT WORKS\n",
    "\n",
    "k = int(input('Hi, how many operations do you want MagiCal to perform?\\n'))\n",
    "for i in range(k):  \n",
    "    operator = (input('Select the operator from the list of Addition (1), Subtraction (2), Multiplication (3), Division (4):\\n'))\n",
    "    if operator not in [\"1\", \"2\", \"3\", \"4\"]:\n",
    "        print('Invalid input!')\n",
    "        continue    \n",
    "    try:\n",
    "        first_number = int(input('Enter the first number in the interval of [0,100]:\\n'))\n",
    "    except ValueError:\n",
    "        print('Magic calculator can not perform your operation!')\n",
    "        continue\n",
    "    try:\n",
    "        second_number = int(input('Enter the second number in the interval of [0,100]:\\n'))\n",
    "    except ValueError:\n",
    "        print('Magic calculator can not perform your operation!')\n",
    "        continue\n",
    "    if first_number < 0 or first_number > 100 or second_number < 0 or second_number > 100:\n",
    "        print('Magic calculator can not perform your operation!')\n",
    "        continue \n",
    "    if operator == 4 and second_number == 0:\n",
    "        print('The denominator cannot be 0.')\n",
    "        continue\n",
    "    if operator == \"1\":\n",
    "        result = float(first_number + second_number)\n",
    "        print(first_number, '+', second_number, '=', result)\n",
    "    elif operator == \"2\":\n",
    "        result = float(first_number - second_number)\n",
    "        print(first_number, '-', second_number, '=', result)\n",
    "    elif operator == \"3\":\n",
    "        result = float(first_number * second_number)\n",
    "        print(first_number, '*', second_number, '=', result)\n",
    "    elif operator == \"4\":\n",
    "        result = float(first_number / second_number)\n",
    "        print(first_number, '/', second_number, '=', result)"
   ]
  },
  {
   "cell_type": "code",
   "execution_count": 159,
   "id": "d1299d75",
   "metadata": {},
   "outputs": [
    {
     "name": "stdout",
     "output_type": "stream",
     "text": [
      "Hello user!\n",
      "Enter a date in the format mm-dd-yyyy: 11-11-2023\n",
      "November 11, 2023\n"
     ]
    }
   ],
   "source": [
    "# hello user!\n",
    "print(\"Hello user!\")\n",
    "# take in user input\n",
    "date = input(\"Enter a date in the format mm-dd-yyyy: \")\n",
    "# split user input at -\n",
    "month, day, year = date.split(\"-\")\n",
    "# take each number and modify it\n",
    "\n",
    "# month --> []\n",
    "months = ['January','February','March','April','May','June','July','August','September','October','November','December']\n",
    "month_name = months[int(month)-1]\n",
    "\n",
    "# f strings\n",
    "# print(month + day + year)\n",
    "# print(month_name, str(int(day)), str(year))\n",
    "print(f\"{month_name} {day}, {year}\")"
   ]
  },
  {
   "cell_type": "code",
   "execution_count": 169,
   "id": "0861a32d",
   "metadata": {},
   "outputs": [
    {
     "name": "stdout",
     "output_type": "stream",
     "text": [
      "cherry\n",
      "A\n",
      "2\n"
     ]
    }
   ],
   "source": [
    "a = [\"cherry\",\"cherry\",\"apple\"]\n",
    "b = \"ABABABA\"\n",
    "\n",
    "print(a[0])\n",
    "print(b[0])\n",
    "\n",
    "\n",
    "x = b.count(\"ABA\")\n",
    "print(x)"
   ]
  },
  {
   "cell_type": "code",
   "execution_count": 166,
   "id": "25607244",
   "metadata": {},
   "outputs": [
    {
     "data": {
      "text/plain": [
       "'gnirts'"
      ]
     },
     "execution_count": 166,
     "metadata": {},
     "output_type": "execute_result"
    }
   ],
   "source": [
    "# Write a function that takes a string parameter s and returns a \n",
    "# new string such that the new string is a reversed version of s. \n",
    "# For example, if s is “ABCD”, the returned string should be “DCBA”.\n",
    "\n",
    "def rev(s):\n",
    "    # create empty string for later\n",
    "    result = ''\n",
    "    # loop thru each character\n",
    "    for char in s:\n",
    "    # add current to beginning\n",
    "        result = char + result\n",
    "    return result\n",
    "\n",
    "# print and return statements\n",
    "\n",
    "# print statement --> user\n",
    "\n",
    "# return statement --> prime(computer) + extra(user)\n",
    "\n",
    "rev('string')"
   ]
  },
  {
   "cell_type": "code",
   "execution_count": 172,
   "id": "c5185493",
   "metadata": {},
   "outputs": [
    {
     "data": {
      "text/plain": [
       "'ih'"
      ]
     },
     "execution_count": 172,
     "metadata": {},
     "output_type": "execute_result"
    }
   ],
   "source": [
    "def revs(s):\n",
    "    return s[::-1]\n",
    "\n",
    "revs('hi')"
   ]
  },
  {
   "cell_type": "code",
   "execution_count": 176,
   "id": "14474dc7",
   "metadata": {},
   "outputs": [
    {
     "name": "stdout",
     "output_type": "stream",
     "text": [
      "['bye', 'hi']\n"
     ]
    }
   ],
   "source": [
    "string = ['hi','bye']\n",
    "string.reverse()\n",
    "print(string)"
   ]
  },
  {
   "cell_type": "code",
   "execution_count": 177,
   "id": "e2fcebba",
   "metadata": {},
   "outputs": [
    {
     "name": "stdout",
     "output_type": "stream",
     "text": [
      "[1, 'apl', 2, 'or', 3, 'ban', 'ban']\n"
     ]
    }
   ],
   "source": [
    "# 1 2 3\n",
    "# apl or ban ban\n",
    "\n",
    "# 1 apl 2 or 3 ban ban\n",
    "\n",
    "def combined(lst1, lst2):\n",
    "    # create empty list for later\n",
    "    final_list = []\n",
    "    # check which one bigger\n",
    "    for i in range(max(len(lst1), len(lst2))):\n",
    "        # start appending based on size\n",
    "        if i < len(lst1):\n",
    "            final_list.append(lst1[i])\n",
    "        if i < len(lst2):\n",
    "            final_list.append(lst2[i])\n",
    "    return final_list\n",
    "\n",
    "lst1 = [1,2,3]\n",
    "lst2 = ['apl','or','ban','ban']\n",
    "\n",
    "print(combined(lst1, lst2))"
   ]
  },
  {
   "cell_type": "code",
   "execution_count": 224,
   "id": "46831d93",
   "metadata": {},
   "outputs": [
    {
     "name": "stdout",
     "output_type": "stream",
     "text": [
      "False\n"
     ]
    }
   ],
   "source": [
    "s=\"radar\"\n",
    "\n",
    "print('rad' not in s)\n",
    "\n"
   ]
  },
  {
   "cell_type": "code",
   "execution_count": 216,
   "id": "525233c2",
   "metadata": {},
   "outputs": [
    {
     "name": "stdout",
     "output_type": "stream",
     "text": [
      "UM MUUM MUUM MU"
     ]
    }
   ],
   "source": [
    "count = 0\n",
    "\n",
    "while count <3:\n",
    "    print(\"UM \", end='MU')\n",
    "    count +=1"
   ]
  },
  {
   "cell_type": "code",
   "execution_count": 218,
   "id": "b8984449",
   "metadata": {},
   "outputs": [
    {
     "name": "stdout",
     "output_type": "stream",
     "text": [
      "120\n"
     ]
    }
   ],
   "source": [
    "counter = 5\n",
    "result = 1\n",
    "while counter >0:\n",
    "    result *= counter\n",
    "    counter-=1\n",
    "    \n",
    "print(result)"
   ]
  },
  {
   "cell_type": "code",
   "execution_count": 219,
   "id": "20d75176",
   "metadata": {},
   "outputs": [
    {
     "name": "stdout",
     "output_type": "stream",
     "text": [
      " 8 8 8 8 \n"
     ]
    }
   ],
   "source": [
    "canitalk = input(\"Hi, this is Pchatbot, can I talk to you?\\n\")\n",
    "if canitalk == \"y\" or canitalk == \"Y\" :\n",
    "    name = input(\"What is your name?\\n\")\n",
    "    print(\"Nice to meet you, \"+name+\".\")\n",
    "    feeling = input(\"How are you doing today?\\n\")\n",
    "    if feeling in [\"Good\", \"I'm great\", \"I'm good\",\"Fine\"]:\n",
    "        print(\"I'm glad you're feeling well, \"+name+\".\")\n",
    "    elif feeling in [\"Bad\", \"Not okay\", \"I'm not feeling good\"]:\n",
    "            print(\"Have some time to yourself to recharge!\")\n",
    "    else:\n",
    "        print(\"I see!\")\n",
    "    age = int(input(\"How old are you?\\n\"))\n",
    "    if age > 18 and feeling in [\"Good\", \"I'm great\", \"I'm good\",\"Fine\"]:\n",
    "        print(\"You are ready to drive.\")\n",
    "    else:\n",
    "        print(\"Still taking the bus!\")\n",
    "else:\n",
    "    print(\"Okay! Talk to you soon!\")"
   ]
  },
  {
   "cell_type": "code",
   "execution_count": 220,
   "id": "2ceb16b2",
   "metadata": {},
   "outputs": [
    {
     "name": "stdout",
     "output_type": "stream",
     "text": [
      "4\n"
     ]
    }
   ],
   "source": [
    "s = '5'\n",
    "counter = 5\n",
    "\n",
    "while counter <40:\n",
    "    s+=s\n",
    "    counter *=7.5\n",
    "print(len(s))"
   ]
  },
  {
   "cell_type": "code",
   "execution_count": 231,
   "id": "0fe88d30",
   "metadata": {},
   "outputs": [
    {
     "name": "stdout",
     "output_type": "stream",
     "text": [
      "Enter a string (or 'quit' to exit): string\n",
      "Enter an integer k: 3\n",
      "The substring with the most unique characters is: str\n",
      "Enter a string (or 'quit' to exit): hello hello\n",
      "Enter an integer k: 3\n",
      "The substring with the most unique characters is: hel\n",
      "Enter a string (or 'quit' to exit): yumghhs\n",
      "Enter an integer k: 6\n",
      "The substring with the most unique characters is: yumghh\n",
      "Enter a string (or 'quit' to exit): quit\n"
     ]
    }
   ],
   "source": [
    "# MINE WORKS\n",
    "\n",
    "def find_substring(source, k):\n",
    "    max_substring = \"\"\n",
    "    max_unique_characters = 0\n",
    "    for i in range(len(source) - k + 1):\n",
    "        substring = source[i:i+k]\n",
    "        unique_characters = len(set(substring))\n",
    "        if unique_characters > max_unique_characters:\n",
    "            max_substring = substring\n",
    "            max_unique_characters = unique_characters\n",
    "    return max_substring\n",
    "\n",
    "while True:\n",
    "    source = input(\"Enter a string (or 'quit' to exit): \")\n",
    "    if source == \"quit\":\n",
    "        break\n",
    "    k = int(input(\"Enter an integer k: \"))\n",
    "    print(\"The substring with the most unique characters is:\", find_substring(source, k))"
   ]
  },
  {
   "cell_type": "code",
   "execution_count": null,
   "id": "309be001",
   "metadata": {},
   "outputs": [],
   "source": []
  }
 ],
 "metadata": {
  "kernelspec": {
   "display_name": "Python 3",
   "language": "python",
   "name": "python3"
  },
  "language_info": {
   "codemirror_mode": {
    "name": "ipython",
    "version": 3
   },
   "file_extension": ".py",
   "mimetype": "text/x-python",
   "name": "python",
   "nbconvert_exporter": "python",
   "pygments_lexer": "ipython3",
   "version": "3.8.8"
  }
 },
 "nbformat": 4,
 "nbformat_minor": 5
}
